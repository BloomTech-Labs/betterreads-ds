{
 "cells": [
  {
   "cell_type": "code",
   "execution_count": 137,
   "metadata": {},
   "outputs": [],
   "source": [
    "engine.rollback()"
   ]
  },
  {
   "cell_type": "code",
   "execution_count": 1,
   "metadata": {},
   "outputs": [],
   "source": [
    "import psycopg2\n",
    "engine = psycopg2.connect(\n",
    "    database=\"betterreads\",\n",
    "    user=\"betterreadsadmin\",\n",
    "    password=\"betterreadsadmin\",\n",
    "    host=\"betterreads-datascience-database.cvmplnwee5ws.us-east-1.rds.amazonaws.com\",\n",
    "    port='5432')"
   ]
  },
  {
   "cell_type": "code",
   "execution_count": 2,
   "metadata": {},
   "outputs": [],
   "source": [
    "import traceback\n",
    "error_log = []\n",
    "traces = []\n",
    "\n",
    "def q(query, verbosity = False):\n",
    "    data = 'No Data'\n",
    "    curs = engine.cursor()\n",
    "    try:\n",
    "        curs.execute(query)\n",
    "        if(verbosity):\n",
    "            data = curs.fetchall()\n",
    "    except psycopg2.errors.InvalidTextRepresentation as err:\n",
    "        start = int(err.diag.statement_position)\n",
    "        end = query.find('\\'')\n",
    "        replacement = '{'+query[start:end]+'}'\n",
    "        new_query = query[:start] + replacement + query[start+len(replacement):]\n",
    "        engine.rollback()\n",
    "        q(new_query, verbosity)\n",
    "        \n",
    "    except Exception as e:\n",
    "        engine.rollback()\n",
    "        print(e)\n",
    "        traceback.print_exc()\n",
    "        error_log.append(e)\n",
    "\n",
    "    engine.commit()\n",
    "    curs.close()\n",
    "    if(verbosity):\n",
    "        return data"
   ]
  },
  {
   "cell_type": "code",
   "execution_count": 3,
   "metadata": {},
   "outputs": [],
   "source": [
    "q10 = 'DROP TABLE \"authors\";'\n",
    "q(q10)\n",
    "q11 = 'DROP TABLE \"editions\";'\n",
    "q(q11)\n",
    "q01 = 'DROP TABLE \"works\";'\n",
    "q(q01)"
   ]
  },
  {
   "cell_type": "code",
   "execution_count": 15,
   "metadata": {},
   "outputs": [],
   "source": [
    "qJoinTable = \"\"\"\n",
    "    CREATE TABLE jointable ( \"Author_id\" INTEGER,\n",
    "                             \"Work_id\" INTEGER )\n",
    "\"\"\"\n",
    "\n",
    "q(qJoinTable)"
   ]
  },
  {
   "cell_type": "code",
   "execution_count": 4,
   "metadata": {},
   "outputs": [],
   "source": [
    "qAuthors = \"\"\"\n",
    "    CREATE TABLE authors ( \"Name\" TEXT NOT NULL,\n",
    "                          \"Works\" TEXT [] NOT NULL,\n",
    "                          \"Key\" TEXT NOT NULL,\n",
    "                          \"AuthorID\" SERIAL,\n",
    "                          PRIMARY KEY(\"AuthorID\") );\n",
    "\"\"\"\n",
    "\n",
    "q(qAuthors)"
   ]
  },
  {
   "cell_type": "code",
   "execution_count": 5,
   "metadata": {},
   "outputs": [],
   "source": [
    "qEditions = \"\"\"\n",
    "    CREATE TABLE editions ( \"EditionTitle\" TEXT, \n",
    "                            \"Authors\" TEXT [],\n",
    "                            \"Genre\" TEXT [], \n",
    "                            \"Subjects\" TEXT [],\n",
    "                            \"PublishedYear\" TEXT,\n",
    "                            \"Publisher\" TEXT, \n",
    "                            \"Pages\" INTEGER, \n",
    "                            \"Ratings\" INTEGER, \n",
    "                            \"Popularity\" INTEGER, \n",
    "                            \"Reviews\" TEXT [], \n",
    "                            \"OriginalLanguage\" TEXT [],  \n",
    "                            \"Nationality\" TEXT, \n",
    "                            \"Translators\" TEXT [],\n",
    "                            \"WorkTitles\" TEXT [],\n",
    "                            \"Works\" TEXT [],\n",
    "                            \"Languages\" Text[],\n",
    "                            \"ISBN13\" TEXT,\n",
    "                            \"EditionID\" SERIAL,\n",
    "                            PRIMARY KEY(\"EditionID\") )\n",
    "\"\"\"\n",
    "\n",
    "q(qEditions)"
   ]
  },
  {
   "cell_type": "code",
   "execution_count": 6,
   "metadata": {},
   "outputs": [],
   "source": [
    "qWorks = \"\"\"\n",
    "    CREATE TABLE works ( \"WorkTitle\" TEXT,\n",
    "                        \"Authors\" TEXT [],\n",
    "                        \"Subjects\" TEXT [],\n",
    "                        \"Description\" TEXT,\n",
    "                        \"FirstPublishDate\" TEXT,\n",
    "                        \"Editions\" TEXT [],\n",
    "                        \"OtherTitles\" TEXT [],\n",
    "                        \"TranslatedTitles\" TEXT [],\n",
    "                        \"WorkID\" SERIAL,\n",
    "                        PRIMARY KEY (\"WorkID\") )\n",
    "\"\"\"\n",
    "\n",
    "q(qWorks)"
   ]
  },
  {
   "cell_type": "code",
   "execution_count": 8,
   "metadata": {},
   "outputs": [],
   "source": [
    "class author():\n",
    "    def __init__(self, dictionary_string):\n",
    "        d = dictionary_string\n",
    "        self.Name = d['name']\n",
    "        self.Works = []\n",
    "        self.Key = d['key'].split('/')[2]"
   ]
  },
  {
   "cell_type": "code",
   "execution_count": 14,
   "metadata": {},
   "outputs": [],
   "source": [
    "author_data_dict = {'name':'Name',\n",
    "                   'works':'Works',\n",
    "                   'key':'Key'}"
   ]
  },
  {
   "cell_type": "code",
   "execution_count": 10,
   "metadata": {},
   "outputs": [],
   "source": [
    "class edition():\n",
    "    def __init__(self, dictionary):\n",
    "        d = dictionary\n",
    "        #Seperated Information\n",
    "        self.Edition_Name = d['title']#\n",
    "        self.Author_Name = d['authors']#\n",
    "        self.Genre = d['genres']\n",
    "        self.Subjects = d['subjects']\n",
    "        self.Published_year = d['publish_date']\n",
    "        self.Publisher = d['publishers']\n",
    "        self.Pages = d['number_of_pages']\n",
    "        self.Ratings = 0\n",
    "        self.Popularity = 0\n",
    "        self.Reviews = 0\n",
    "        self.Original_Language = d['translated_from']\n",
    "        self.Nationality = d['location']\n",
    "        self.Translators = \"{'-1'}\"\n",
    "        \n",
    "        # Identifiers\n",
    "#         self.identifiers = d['identifiers']#\n",
    "#         self.isbn_10 = d['isbn_10']\n",
    "#         self.isbn_13 = d['isbn_13']#-*\n",
    "#         self.lccn = d['lccn']#\n",
    "#         self.oclc = d['oclc']#"
   ]
  },
  {
   "cell_type": "code",
   "execution_count": 13,
   "metadata": {},
   "outputs": [],
   "source": [
    "edition_data_dict = {'title':'Edition_Name',\n",
    "                    'authors':'Author_Name',\n",
    "                    'genres':'Genre',\n",
    "                    'subjects':'Subjects',\n",
    "                    'publish_date':'Published_year',\n",
    "                    'publishers':'Publisher',\n",
    "                    'number_of_pages':'Pages',\n",
    "                    'ratings':'Ratings',\n",
    "                    'popularity':'Popularity',\n",
    "                    'reviews':'Reviews',\n",
    "                    'translated_from':'Original_Language',\n",
    "                    'location':'Nationality',\n",
    "                    'translators':'Translators'}"
   ]
  },
  {
   "cell_type": "code",
   "execution_count": 11,
   "metadata": {},
   "outputs": [],
   "source": [
    "class work():\n",
    "    def __init__(self, dictionary):\n",
    "        d = dictionary\n",
    "        self.title = d['title']#\n",
    "        self.authors = d['authors']#\n",
    "        self.subjects = d['subjects']\n",
    "        self.sub_loc = d['subject_places']\n",
    "        self.sub_time = d['subject_times']\n",
    "        self.sub_people = d['subject_people']\n",
    "        self.orig_lang = d['original_languages']\n",
    "        self.dewey = d['dewey_number']"
   ]
  },
  {
   "cell_type": "code",
   "execution_count": 12,
   "metadata": {},
   "outputs": [],
   "source": [
    "def create_editions(input_string, work_type):\n",
    "    try:\n",
    "        if(type(input_string) != dict):\n",
    "            input_string = eval(input_string)\n",
    "        if(work_type == 'edition'):\n",
    "            e = edition(input_string)\n",
    "        elif(work_type == 'author'):\n",
    "            e = author(input_string)\n",
    "        else:\n",
    "            e = work(input_string)\n",
    "        return e\n",
    "    except KeyError as e:\n",
    "        e = e.__str__().replace('\\'', '')\n",
    "        input_string[e] = \"{'-1'}\"\n",
    "        return create_editions(input_string, work_type)\n",
    "    except NameError as e:\n",
    "        input_string = input_string.replace('null', \"{'-1'}\")\n",
    "        input_string = input_string.replace('true', 'True')\n",
    "        input_string = input_string.replace('false', 'False')\n",
    "        return create_editions(input_string, work_type)\n",
    "    except Exception as e:\n",
    "        print('Error in Create Editions')\n",
    "        print(e)"
   ]
  },
  {
   "cell_type": "code",
   "execution_count": 13,
   "metadata": {},
   "outputs": [],
   "source": [
    "def stringify(input_list):\n",
    "    l = []\n",
    "    \n",
    "    for x in input_list:\n",
    "        if type(x) == str:\n",
    "            l.append('\\''+x.replace(\"'\", '').replace('\"', '')+'\\'')\n",
    "\n",
    "        elif type(x) == list:\n",
    "            try:\n",
    "                base = 'ARRAY ['+','.join(process_items(x))+']'\n",
    "            except TypeError as te:\n",
    "                ser = process_items(x[0].values())\n",
    "                base = 'ARRAY ['+','.join(ser)+']'\n",
    "            if base == 'ARRAY []':\n",
    "                l.append('ARRAY [-1]')\n",
    "            else:\n",
    "                l.append(base)\n",
    "\n",
    "        else:\n",
    "            l.append(str(x))\n",
    "    return l"
   ]
  },
  {
   "cell_type": "code",
   "execution_count": 14,
   "metadata": {},
   "outputs": [],
   "source": [
    "def process_items(input_list):\n",
    "    return ['\\''+str(x).replace(\"'\", '').replace('\"', '')+'\\'' for x in input_list]"
   ]
  },
  {
   "cell_type": "code",
   "execution_count": 15,
   "metadata": {},
   "outputs": [],
   "source": [
    "def process_keys(input_keys):\n",
    "    return ['\"'+str(x)+'\"' for x in input_keys]"
   ]
  },
  {
   "cell_type": "code",
   "execution_count": null,
   "metadata": {},
   "outputs": [],
   "source": []
  },
  {
   "cell_type": "code",
   "execution_count": 16,
   "metadata": {},
   "outputs": [],
   "source": [
    "import time as t\n",
    "\n",
    "def to_database(input_list):\n",
    "    if(len(input_list) == 0):\n",
    "        print('Empty List')\n",
    "        return True\n",
    "    input_obj = input_list[0]\n",
    "    obj_type = type(input_obj).__name__\n",
    "    obj_keys = process_keys(list(input_obj.__dict__.keys()))\n",
    "    table = ''\n",
    "    if(obj_type == 'author'):\n",
    "        table = 'Authors'\n",
    "    elif(obj_type == 'edition'):\n",
    "        table = 'Editions'\n",
    "    else:\n",
    "        return 'Unsupported Type'\n",
    "    \n",
    "    print('Table = {}'.format(table))\n",
    "    qBase = 'INSERT INTO \"{}\" ({}) VALUES '\n",
    "    qFinal = qBase.format(table, ','.join(obj_keys))\n",
    "    \n",
    "    print('\\tgenerating final query')\n",
    "    start = t.time()\n",
    "    for obj in input_list:\n",
    "        try:\n",
    "            obj_values = stringify(list(obj.__dict__.values()))\n",
    "            if('' in obj_values):\n",
    "                for x in obj_values:\n",
    "                    if (x == ''):\n",
    "                        x = \"{'-1'}\"\n",
    "            qFinal = qFinal + '('+','.join(obj_values)+'),'\n",
    "        except Exception as e:\n",
    "            pass\n",
    "    \n",
    "    qFinal = qFinal[:-1] + ';'\n",
    "    print('\\tGeneration Time: {}'.format(t.time()-start))\n",
    "    print('\\tquerying')\n",
    "    start = t.time()\n",
    "    q(qFinal)\n",
    "    print('\\tQuery time (s): {}'.format(t.time()-start))\n",
    "    \n",
    "    return"
   ]
  },
  {
   "cell_type": "code",
   "execution_count": 17,
   "metadata": {},
   "outputs": [],
   "source": [
    "import psutil\n",
    "import pickle"
   ]
  },
  {
   "cell_type": "code",
   "execution_count": 18,
   "metadata": {},
   "outputs": [],
   "source": [
    "last_position = pickle.load(open('last_pos.pkl', 'rb'))"
   ]
  },
  {
   "cell_type": "code",
   "execution_count": 23,
   "metadata": {
    "scrolled": true
   },
   "outputs": [
    {
     "ename": "KeyboardInterrupt",
     "evalue": "",
     "output_type": "error",
     "traceback": [
      "\u001b[1;31m---------------------------------------------------------------------------\u001b[0m",
      "\u001b[1;31mKeyboardInterrupt\u001b[0m                         Traceback (most recent call last)",
      "\u001b[1;32m<ipython-input-23-02c7ab340fde>\u001b[0m in \u001b[0;36m<module>\u001b[1;34m\u001b[0m\n\u001b[0;32m     27\u001b[0m \u001b[1;31m#           to_database(create_editions(line[4], 'work'))\u001b[0m\u001b[1;33m\u001b[0m\u001b[1;33m\u001b[0m\u001b[1;33m\u001b[0m\u001b[0m\n\u001b[0;32m     28\u001b[0m         \u001b[0mcounter\u001b[0m \u001b[1;33m+=\u001b[0m \u001b[1;36m1\u001b[0m\u001b[1;33m\u001b[0m\u001b[1;33m\u001b[0m\u001b[0m\n\u001b[1;32m---> 29\u001b[1;33m         \u001b[0mlast_position\u001b[0m \u001b[1;33m=\u001b[0m \u001b[0mf\u001b[0m\u001b[1;33m.\u001b[0m\u001b[0mtell\u001b[0m\u001b[1;33m(\u001b[0m\u001b[1;33m)\u001b[0m\u001b[1;33m\u001b[0m\u001b[1;33m\u001b[0m\u001b[0m\n\u001b[0m\u001b[0;32m     30\u001b[0m \u001b[1;33m\u001b[0m\u001b[0m\n\u001b[0;32m     31\u001b[0m         \u001b[1;32mif\u001b[0m\u001b[1;33m(\u001b[0m\u001b[0mcounter\u001b[0m\u001b[1;33m%\u001b[0m\u001b[1;36m50000\u001b[0m \u001b[1;33m==\u001b[0m \u001b[1;36m0\u001b[0m\u001b[1;33m)\u001b[0m\u001b[1;33m:\u001b[0m\u001b[1;33m\u001b[0m\u001b[1;33m\u001b[0m\u001b[0m\n",
      "\u001b[1;32mc:\\users\\dylan nason\\anaconda3\\envs\\mc4_02_07\\lib\\codecs.py\u001b[0m in \u001b[0;36mgetstate\u001b[1;34m(self)\u001b[0m\n\u001b[0;32m    328\u001b[0m         \u001b[0mself\u001b[0m\u001b[1;33m.\u001b[0m\u001b[0mbuffer\u001b[0m \u001b[1;33m=\u001b[0m \u001b[1;34mb\"\"\u001b[0m\u001b[1;33m\u001b[0m\u001b[1;33m\u001b[0m\u001b[0m\n\u001b[0;32m    329\u001b[0m \u001b[1;33m\u001b[0m\u001b[0m\n\u001b[1;32m--> 330\u001b[1;33m     \u001b[1;32mdef\u001b[0m \u001b[0mgetstate\u001b[0m\u001b[1;33m(\u001b[0m\u001b[0mself\u001b[0m\u001b[1;33m)\u001b[0m\u001b[1;33m:\u001b[0m\u001b[1;33m\u001b[0m\u001b[1;33m\u001b[0m\u001b[0m\n\u001b[0m\u001b[0;32m    331\u001b[0m         \u001b[1;31m# additional state info is always 0\u001b[0m\u001b[1;33m\u001b[0m\u001b[1;33m\u001b[0m\u001b[1;33m\u001b[0m\u001b[0m\n\u001b[0;32m    332\u001b[0m         \u001b[1;32mreturn\u001b[0m \u001b[1;33m(\u001b[0m\u001b[0mself\u001b[0m\u001b[1;33m.\u001b[0m\u001b[0mbuffer\u001b[0m\u001b[1;33m,\u001b[0m \u001b[1;36m0\u001b[0m\u001b[1;33m)\u001b[0m\u001b[1;33m\u001b[0m\u001b[1;33m\u001b[0m\u001b[0m\n",
      "\u001b[1;31mKeyboardInterrupt\u001b[0m: "
     ]
    }
   ],
   "source": [
    "counter = 0\n",
    "\n",
    "authors = []\n",
    "editions = []\n",
    "\n",
    "\n",
    "with open(r'D:\\New folder (3)\\ol_dump_2020-01-31.txt\\ol_dump_2020-01-31.txt', 'r', encoding='utf-8') as f:\n",
    "#    f.seek(last_position)\n",
    "    while(True):\n",
    "        line = f.readline()\n",
    "        if(line == ''):\n",
    "            break\n",
    "        \n",
    "        line = line.split('\\t')\n",
    "        type_line = line[0].strip()\n",
    "        \n",
    "        if(type_line == '/type/author'):\n",
    "            a = create_editions(line[4], 'author')\n",
    "            authors.append(a)\n",
    "            \n",
    "        if(type_line == '/type/edition'):\n",
    "            e = create_editions(line[4], 'edition')\n",
    "            editions.append(e)\n",
    "            \n",
    "        if(type_line == '/type/work'):\n",
    "            pass\n",
    "#           to_database(create_editions(line[4], 'work'))\n",
    "        counter += 1\n",
    "        last_position = f.tell()\n",
    "        \n",
    "        if(counter%50000 == 0):\n",
    "            last_position = f.tell()\n",
    "            print('Exporting current results and recreating empty lists')\n",
    "            to_database(authors)\n",
    "            to_database(editions)\n",
    "            del(authors)\n",
    "            del(editions)\n",
    "            authors = []\n",
    "            editions = []\n",
    "            print('Continuing the data input\\n\\n')\n",
    "\n",
    "to_database(authors)\n",
    "to_database(editions)\n",
    "del(authors)\n",
    "del(editions)\n",
    "authors = []\n",
    "editions = []"
   ]
  },
  {
   "cell_type": "code",
   "execution_count": null,
   "metadata": {},
   "outputs": [],
   "source": [
    "pickle.dumps(last_position, open('last_pos.pkl'))"
   ]
  },
  {
   "cell_type": "code",
   "execution_count": 25,
   "metadata": {},
   "outputs": [],
   "source": [
    "query_t = \"\"\"SELECT\n",
    "   *\n",
    "FROM\n",
    "   pg_catalog.pg_tables\n",
    "WHERE\n",
    "   schemaname != 'pg_catalog'\n",
    "AND schemaname != 'information_schema';\"\"\"\n",
    "\n",
    "\n",
    "response = q(query_t, verbosity=True)"
   ]
  },
  {
   "cell_type": "code",
   "execution_count": 26,
   "metadata": {},
   "outputs": [
    {
     "data": {
      "text/plain": [
       "[('public', 'authors', 'betterreadsadmin', None, True, False, False, False),\n",
       " ('public', 'jointable', 'betterreadsadmin', None, False, False, False, False),\n",
       " ('public', 'editions', 'betterreadsadmin', None, True, False, False, False),\n",
       " ('public', 'works', 'betterreadsadmin', None, True, False, False, False)]"
      ]
     },
     "execution_count": 26,
     "metadata": {},
     "output_type": "execute_result"
    }
   ],
   "source": [
    "response"
   ]
  },
  {
   "cell_type": "code",
   "execution_count": 8,
   "metadata": {},
   "outputs": [
    {
     "data": {
      "text/plain": [
       "[str, list, list, list, str, str, int, int, int, int, list, str, list, int]"
      ]
     },
     "execution_count": 8,
     "metadata": {},
     "output_type": "execute_result"
    }
   ],
   "source": [
    "types"
   ]
  },
  {
   "cell_type": "code",
   "execution_count": 16,
   "metadata": {},
   "outputs": [
    {
     "data": {
      "text/plain": [
       "[]"
      ]
     },
     "execution_count": 16,
     "metadata": {},
     "output_type": "execute_result"
    }
   ],
   "source": [
    "types[1]()"
   ]
  },
  {
   "cell_type": "code",
   "execution_count": null,
   "metadata": {},
   "outputs": [],
   "source": []
  }
 ],
 "metadata": {
  "kernelspec": {
   "display_name": "Python 3",
   "language": "python",
   "name": "python3"
  },
  "language_info": {
   "codemirror_mode": {
    "name": "ipython",
    "version": 3
   },
   "file_extension": ".py",
   "mimetype": "text/x-python",
   "name": "python",
   "nbconvert_exporter": "python",
   "pygments_lexer": "ipython3",
   "version": "3.6.7"
  }
 },
 "nbformat": 4,
 "nbformat_minor": 4
}
