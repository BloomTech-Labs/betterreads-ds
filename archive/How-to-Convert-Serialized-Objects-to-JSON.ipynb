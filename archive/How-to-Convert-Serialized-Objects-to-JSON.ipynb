{
 "cells": [
  {
   "cell_type": "markdown",
   "metadata": {},
   "source": [
    "# Object Manipulation\n",
    "This is a file to generate and test searialized objects to load into app.py"
   ]
  },
  {
   "cell_type": "code",
   "execution_count": 9,
   "metadata": {},
   "outputs": [],
   "source": [
    "import requests\n",
    "import json\n",
    "import pickle"
   ]
  },
  {
   "cell_type": "code",
   "execution_count": 4,
   "metadata": {
    "jupyter": {
     "source_hidden": true
    }
   },
   "outputs": [],
   "source": [
    "test = \"\"\"[\n",
    "    {\n",
    "        \"authors\": [\n",
    "            \"J.K. Rowling\"\n",
    "        ],\n",
    "        \"categories\": [\n",
    "            \"Juvenile Fiction\"\n",
    "        ],\n",
    "        \"description\": \"All seven eBooks in the multi-award winning, internationally bestselling Harry Potter series, available as one download with stunning cover art by Olly Moss. Enjoy the stories that have captured the imagination of millions worldwide.\",\n",
    "        \"googleId\": \"f280CwAAQBAJ\",\n",
    "        \"isEbook\": false,\n",
    "        \"isbn10\": \"1781106460\",\n",
    "        \"isbn13\": \"9781781106464\",\n",
    "        \"language\": \"en\",\n",
    "        \"pageCount\": 4236,\n",
    "        \"publishedDate\": \"2015-12-14\",\n",
    "        \"publisher\": \"Pottermore Publishing\",\n",
    "        \"smallThumbnail\": \"http://books.google.com/books/content?id=f280CwAAQBAJ&printsec=frontcover&img=1&zoom=5&source=gbs_api\",\n",
    "        \"textSnippet\": \"All seven eBooks in the multi-award winning, internationally bestselling Harry Potter series, available as one download with stunning cover art by Olly Moss. Enjoy the stories that have captured the imagination of millions worldwide.\",\n",
    "        \"thumbnail\": \"http://books.google.com/books/content?id=f280CwAAQBAJ&printsec=frontcover&img=1&zoom=1&source=gbs_api\",\n",
    "        \"title\": \"Harry Potter: The Complete Collection (1-7)\",\n",
    "        \"webReaderLink\": \"http://play.google.com/books/reader?id=f280CwAAQBAJ&hl=&printsec=frontcover&source=gbs_api\"\n",
    "    },\n",
    "    {\n",
    "        \"authors\": [\n",
    "            \"J. K. Rowling\"\n",
    "        ],\n",
    "        \"description\": \"As featured in the first year set texts reading list in Harry Potter and the Philosopher's Stone, 'Fantastic Beasts and where to find them' is an extensive introduction to the magical beasts that exist in the magical, non-Muggle world. Some of the animals featured in the A-Z you will have already met in the existing Harry Potter books: for example Hippogriff, Flobberworm, Kappa - others you certainly won't: read on to find out exactly what a Chizpurfle is, why there are so few Erumpents, or why one should always beware of the sinister Lethifold…As Albus Dumbledore says in his introduction, this set text book by Newt Scamander has given the perfect grounding to many a Hogwarts student. It will be helpful to all Muggles out there too… On reading the book you will also find that Harry, Ron and (in one instance) Hermione - couldn't resist grafittiing the book, and adding their own personal hand-written opinions. Did you know that : there are 700 ways of committing a foul in Quidditch? The game first began to evolve on Queerditch Marsh? What Bumphing is? That Puddlemere United is oldest team in the Britain and Ireland league? (founded 1163) All this information and much more could be yours once you have read this book: this is all you could ever need to know about the history, the rules - and the breaking of the rules - of the noble wizarding sport of Quidditch.\",\n",
    "        \"googleId\": \"9v1GPQAACAAJ\",\n",
    "        \"isEbook\": false,\n",
    "        \"isbn10\": \"0747574510\",\n",
    "        \"isbn13\": \"9780747574514\",\n",
    "        \"language\": \"en\",\n",
    "        \"publishedDate\": \"2004-05\",\n",
    "        \"publisher\": \"Bloomsbury Childrens\",\n",
    "        \"smallThumbnail\": \"http://books.google.com/books/content?id=9v1GPQAACAAJ&printsec=frontcover&img=1&zoom=5&source=gbs_api\",\n",
    "        \"textSnippet\": \"That Puddlemere United is oldest team in the Britain and Ireland league? (founded 1163) All this information and much more could be yours once you have read this book- this is all you could ever need to know about the history, the rules - ...\",\n",
    "        \"thumbnail\": \"http://books.google.com/books/content?id=9v1GPQAACAAJ&printsec=frontcover&img=1&zoom=1&source=gbs_api\",\n",
    "        \"title\": \"Harry Potter's School Books\",\n",
    "        \"webReaderLink\": \"http://play.google.com/books/reader?id=9v1GPQAACAAJ&hl=&printsec=frontcover&source=gbs_api\"\n",
    "    },\n",
    "    {\n",
    "        \"authors\": [\n",
    "            \"J. K. Rowling\"\n",
    "        ],\n",
    "        \"categories\": [\n",
    "            \"Juvenile Fiction\"\n",
    "        ],\n",
    "        \"googleId\": \"1XP_tQEACAAJ\",\n",
    "        \"isEbook\": false,\n",
    "        \"isbn10\": \"133831291X\",\n",
    "        \"isbn13\": \"9781338312911\",\n",
    "        \"language\": \"en\",\n",
    "        \"publishedDate\": \"2018-09-25\",\n",
    "        \"publisher\": \"Harry Potter\",\n",
    "        \"smallThumbnail\": \"http://books.google.com/books/content?id=1XP_tQEACAAJ&printsec=frontcover&img=1&zoom=5&source=gbs_api\",\n",
    "        \"thumbnail\": \"http://books.google.com/books/content?id=1XP_tQEACAAJ&printsec=frontcover&img=1&zoom=1&source=gbs_api\",\n",
    "        \"title\": \"Harry Potter\",\n",
    "        \"webReaderLink\": \"http://play.google.com/books/reader?id=1XP_tQEACAAJ&hl=&printsec=frontcover&source=gbs_api\"\n",
    "    },\n",
    "    {\n",
    "        \"authors\": [\n",
    "            \"J. K. Rowling\"\n",
    "        ],\n",
    "        \"description\": \"Harry thinks he's an ordinary boy until he is rescued by an owl, taken to Hogwarts School of Witchcraft and Wizardry, learns to play Quidditch and does battle in a deadly duel. Why? Because he's a wizard himself.\",\n",
    "        \"googleId\": \"zZdRzQEACAAJ\",\n",
    "        \"isEbook\": false,\n",
    "        \"language\": \"en\",\n",
    "        \"other\": \"OCLC:655539002\",\n",
    "        \"publishedDate\": \"2005\",\n",
    "        \"textSnippet\": \"Harry thinks he&#39;s an ordinary boy until he is rescued by an owl, taken to Hogwarts School of Witchcraft and Wizardry, learns to play Quidditch and does battle in a deadly duel. Why? Because he&#39;s a wizard himself.\",\n",
    "        \"title\": \"Harry Potter and the Philosopher's Stone\",\n",
    "        \"webReaderLink\": \"http://play.google.com/books/reader?id=zZdRzQEACAAJ&hl=&printsec=frontcover&source=gbs_api\"\n",
    "    },\n",
    "    {\n",
    "        \"authors\": [\n",
    "            \"J.K. Rowling\",\n",
    "            \"John Tiffany\",\n",
    "            \"Jack Thorne\"\n",
    "        ],\n",
    "        \"categories\": [\n",
    "            \"Drama\"\n",
    "        ],\n",
    "        \"description\": \"Based on an original new story by J.K. Rowling, Jack Thorne and John Tiffany, a new play by Jack Thorne, Harry Potter and the Cursed Child is the eighth story in the Harry Potter series and the first official Harry Potter story to be presented on stage. The play received its world premiere in London’s West End on 30th July 2016. It was always difficult being Harry Potter and it isn’t much easier now that he is an overworked employee of the Ministry of Magic, a husband and father of three school-age children. While Harry grapples with a past that refuses to stay where it belongs, his youngest son Albus must struggle with the weight of a family legacy he never wanted. As past and present fuse ominously, both father and son learn the uncomfortable truth: sometimes, darkness comes from unexpected places.\",\n",
    "        \"googleId\": \"tcSMCwAAQBAJ\",\n",
    "        \"isEbook\": false,\n",
    "        \"isbn10\": \"1781107041\",\n",
    "        \"isbn13\": \"9781781107041\",\n",
    "        \"language\": \"en\",\n",
    "        \"pageCount\": 320,\n",
    "        \"publishedDate\": \"2016-07-31\",\n",
    "        \"publisher\": \"Pottermore Publishing\",\n",
    "        \"smallThumbnail\": \"http://books.google.com/books/content?id=tcSMCwAAQBAJ&printsec=frontcover&img=1&zoom=5&edge=curl&source=gbs_api\",\n",
    "        \"textSnippet\": \"Based on an original new story by J.K. Rowling, Jack Thorne and John Tiffany, a new play by Jack Thorne, Harry Potter and the Cursed Child is the eighth story in the Harry Potter series and the first official Harry Potter story to be ...\",\n",
    "        \"thumbnail\": \"http://books.google.com/books/content?id=tcSMCwAAQBAJ&printsec=frontcover&img=1&zoom=1&edge=curl&source=gbs_api\",\n",
    "        \"title\": \"Harry Potter and the Cursed Child – Parts One and Two (Special Rehearsal Edition)\",\n",
    "        \"webReaderLink\": \"http://play.google.com/books/reader?id=tcSMCwAAQBAJ&hl=&printsec=frontcover&source=gbs_api\"\n",
    "    },\n",
    "    {\n",
    "        \"authors\": [\n",
    "            \"Monique Peterson\"\n",
    "        ],\n",
    "        \"categories\": [\n",
    "            \"Art\"\n",
    "        ],\n",
    "        \"description\": \"Discover the wands of your favorite Harry Potter characters. In the Harry Potter films, each wand is as unique as the witch or wizard who wields it. Whether talon-shaped like Bellatrix Lestrange’s or simple and elegant like Hermione Granger’s, each wand was designed and crafted by the filmmakers to be a reflection of its owner’s identity. Harry Potter: The Wand Collection is an in-depth visual guide to the many magical characters and wands of the Harry Potter films. Detailed profiles of each wand feature stunning new photography, wand statistics, insights from cast and crew, and other filmmaking secrets from the Warner Bros. archive. This collectible volume is an ideal resource both for wand-wielding fans looking to learn the history behind these beloved items and for a new generation of children eager to start their journey into the wizarding world.\",\n",
    "        \"googleId\": \"FuFoygEACAAJ\",\n",
    "        \"isEbook\": false,\n",
    "        \"isbn10\": \"1683839889\",\n",
    "        \"isbn13\": \"9781683839880\",\n",
    "        \"language\": \"en\",\n",
    "        \"pageCount\": 154,\n",
    "        \"publishedDate\": \"2020-05-05\",\n",
    "        \"publisher\": \"Insight Editions\",\n",
    "        \"smallThumbnail\": \"http://books.google.com/books/content?id=FuFoygEACAAJ&printsec=frontcover&img=1&zoom=5&source=gbs_api\",\n",
    "        \"textSnippet\": \"This collectible volume is an ideal resource both for wand-wielding fans looking to learn the history behind these beloved items and for a new generation of children eager to start their journey into the wizarding world.\",\n",
    "        \"thumbnail\": \"http://books.google.com/books/content?id=FuFoygEACAAJ&printsec=frontcover&img=1&zoom=1&source=gbs_api\",\n",
    "        \"title\": \"Harry Potter: The Wand Collection [Softcover]\",\n",
    "        \"webReaderLink\": \"http://play.google.com/books/reader?id=FuFoygEACAAJ&hl=&printsec=frontcover&source=gbs_api\"\n",
    "    },\n",
    "    {\n",
    "        \"authors\": [\n",
    "            \"Jody Revenson\"\n",
    "        ],\n",
    "        \"categories\": [\n",
    "            \"Performing Arts\"\n",
    "        ],\n",
    "        \"description\": \"A comprehensive and delightful look at Hogwarts, Diagon Alley, The Burrow, Azkaban prison and all of the memorable places, both loved and feared, that brought the Harry Potter movies to life—a keepsake treasury bound in a debossed leatherette case and featuring a removable poster and interactive booklet. Grand in its design and package, Harry Potter: Magical Places from the Films: Hogwarts, Diagon Alley, and Beyond offers an unprecedented look at the creative process that transformed the magical locations of the wizarding world from the page to the big screen. Inside, readers will discover the many challenges the studio faced to build the fantastical sites depicted in Rowling’s books, from Hogwarts castle and its many classrooms and dormitories, to Diagon Alley and the Ministry of Magic. Organized by film appearance, Harry Potter: Magical Places from the Films: Hogwarts, Diagon Alley, and Beyond takes readers on a behind-the-scenes visual journey through all eight of the Harry Potter films. Jody Revenson provides detailed profiles of each location and pairs them with never-before-seen concept art, behind-the-scenes photographs, and film stills with supplementary information that reveals filmmaking secrets from the Warner Bros. archives. Gorgeously designed, visually stunning, Harry Potter: Magical Places from the Films: Hogwarts, Diagon Alley, and Beyond is truly is an unmatched look at the imaginative sets that were designed, built, furnished, and digitally enhanced specifically for the films. It also includes real-life scouting locations across the stunning countryside of England, Wales, and Scotland—many of which would later become the settings for Hagrid’s hut, Shell Cottage, the Hogwarts bridge, and other iconic places. This stunning full-color compendium also includes two exclusive bonus inserts: a map of Diagon Alley folded in an envelope in the back of the book, and “The Paintings of Hogwarts” catalog inserted in the text.\",\n",
    "        \"googleId\": \"jo7joQEACAAJ\",\n",
    "        \"isEbook\": false,\n",
    "        \"isbn10\": \"0062385658\",\n",
    "        \"isbn13\": \"9780062385659\",\n",
    "        \"language\": \"en\",\n",
    "        \"pageCount\": 208,\n",
    "        \"publishedDate\": \"2015-05-12\",\n",
    "        \"publisher\": \"Harper Design\",\n",
    "        \"smallThumbnail\": \"http://books.google.com/books/content?id=jo7joQEACAAJ&printsec=frontcover&img=1&zoom=5&source=gbs_api\",\n",
    "        \"textSnippet\": \"This stunning full-color compendium also includes two exclusive bonus inserts: a map of Diagon Alley folded in an envelope in the back of the book, and “The Paintings of Hogwarts” catalog inserted in the text.\",\n",
    "        \"thumbnail\": \"http://books.google.com/books/content?id=jo7joQEACAAJ&printsec=frontcover&img=1&zoom=1&source=gbs_api\",\n",
    "        \"title\": \"Harry Potter: Magical Places from the Films\",\n",
    "        \"webReaderLink\": \"http://play.google.com/books/reader?id=jo7joQEACAAJ&hl=&printsec=frontcover&source=gbs_api\"\n",
    "    },\n",
    "    {\n",
    "        \"authors\": [\n",
    "            \"LessWrong aka Eliezer Yudkowsky\"\n",
    "        ],\n",
    "        \"categories\": [\n",
    "            \"Fiction\"\n",
    "        ],\n",
    "        \"description\": \"Petunia Evans married a biochemist, and Harry Potter grew up in a house filled to the brim with books, reading science and science fiction. Then came the Hogwarts letter, introducing strange new opportunities to exploit. And new friends, like Hermione Granger, and Draco Malfoy, and Professor Quirrell. HP:MoR is now complete at 122 chapters and 2000 pages. Authors notes, fan art, alternative formats, and other information may be found at http://www.hpmor.com/ . This mirror contains both the the flowing text directly from https://www.fanfiction.net/s/5782108, and the book style PDF from the tex code at https://github.com/rjl20/hpmor If you have suggestions, or wish to report a problem regarding this version of HP:MoR, contact me at hpmor@isaacleonard.com and I will try to fix it.\",\n",
    "        \"googleId\": \"vrPQAwAAQBAJ\",\n",
    "        \"isEbook\": true,\n",
    "        \"language\": \"en\",\n",
    "        \"pageCount\": 2001,\n",
    "        \"publishedDate\": \"2010-02-28\",\n",
    "        \"smallThumbnail\": \"http://books.google.com/books/content?id=vrPQAwAAQBAJ&printsec=frontcover&img=1&zoom=5&edge=curl&source=gbs_api\",\n",
    "        \"textSnippet\": \"This mirror contains both the the flowing text directly from https://www.fanfiction.net/s/5782108, and the book style PDF from the tex code at https://github.com/rjl20/hpmor If you have suggestions, or wish to report a problem regarding ...\",\n",
    "        \"thumbnail\": \"http://books.google.com/books/content?id=vrPQAwAAQBAJ&printsec=frontcover&img=1&zoom=1&edge=curl&source=gbs_api\",\n",
    "        \"title\": \"Harry Potter and the Methods of Rationality\",\n",
    "        \"webReaderLink\": \"http://play.google.com/books/reader?id=vrPQAwAAQBAJ&hl=&printsec=frontcover&source=gbs_api\"\n",
    "    },\n",
    "    {\n",
    "        \"authors\": [\n",
    "            \"J. K. Rowling\"\n",
    "        ],\n",
    "        \"categories\": [\n",
    "            \"Juvenile Fiction\"\n",
    "        ],\n",
    "        \"description\": \"Rescued from the outrageous neglect of his aunt and uncle, a young boy with a great destiny proves his worth while attending Hogwarts School for Witchcraft and Wizardry.\",\n",
    "        \"googleId\": \"dmouxgEACAAJ\",\n",
    "        \"isEbook\": false,\n",
    "        \"isbn10\": \"0590353403\",\n",
    "        \"isbn13\": \"9780590353403\",\n",
    "        \"language\": \"en\",\n",
    "        \"pageCount\": 309,\n",
    "        \"publishedDate\": \"1998\",\n",
    "        \"publisher\": \"Arthur A. Levine Books\",\n",
    "        \"smallThumbnail\": \"http://books.google.com/books/content?id=dmouxgEACAAJ&printsec=frontcover&img=1&zoom=5&source=gbs_api\",\n",
    "        \"textSnippet\": \"Rescued from the outrageous neglect of his aunt and uncle, a young boy with a great destiny proves his worth while attending Hogwarts School of Witchcraft and Wizardry.\",\n",
    "        \"thumbnail\": \"http://books.google.com/books/content?id=dmouxgEACAAJ&printsec=frontcover&img=1&zoom=1&source=gbs_api\",\n",
    "        \"title\": \"Harry Potter and the Sorcerer's Stone\",\n",
    "        \"webReaderLink\": \"http://play.google.com/books/reader?id=dmouxgEACAAJ&hl=&printsec=frontcover&source=gbs_api\"\n",
    "    },\n",
    "    {\n",
    "        \"authors\": [\n",
    "            \"Tanis Gray\"\n",
    "        ],\n",
    "        \"categories\": [\n",
    "            \"Crafts & Hobbies\"\n",
    "        ],\n",
    "        \"description\": \"Introducing the first official Harry Potter knitting book – a deluxe guide to creating over 25 authentic Harry Potter knits based on the iconic films. Channel the magic of the Harry Potter films from the screen to your needles with the ultimate knitter’s guide to the Wizarding World. Featuring over 25 magical knits, the book includes patterns for clothing, home projects and keepsakes pulled straight from the movies – and even includes a few iconic costume pieces as seen on-screen. With yarn suggestions based on the true colours used in the films, projects ranging from simple patterns like the Hogwarts house scarves to more complex projects like Mrs Weasley’s Christmas jumper, knit your own wizarding world. Projects: Crafty Creatures: patterns for Hedwig; Cornish Pixie; Fluffy the Three-Headed Dog. Wizarding Wardrobe: patterns for Mrs Weasley's Home-Knit Christmas jumpers; and Hogwarts’ house scarves. Inspired Apparel: clothes and accessories inspired by characters, artefacts and themes from the films such as a Expecto Patronum! mittens and Quidditch socks. Delightful Decor: dress your home with Harry Potter decorative accessories such as Hogwarts House mug cosies and Seven Horcruxes tea towels. A true fan must-have, this book also includes fun facts, original costume sketches, film stills, and other behind-the-scenes treasures. Harry Potter Knitting Magic is sure to have fans everywhere summoning needles, conjuring yarn, and practicing their best knitting wizardry.\",\n",
    "        \"googleId\": \"mulCyQEACAAJ\",\n",
    "        \"isEbook\": false,\n",
    "        \"isbn10\": \"1911641921\",\n",
    "        \"isbn13\": \"9781911641926\",\n",
    "        \"language\": \"en\",\n",
    "        \"pageCount\": 208,\n",
    "        \"publishedDate\": \"2020-01-28\",\n",
    "        \"publisher\": \"Pavilion\",\n",
    "        \"smallThumbnail\": \"http://books.google.com/books/content?id=mulCyQEACAAJ&printsec=frontcover&img=1&zoom=5&source=gbs_api\",\n",
    "        \"textSnippet\": \"A true fan must-have, this book also includes fun facts, original costume sketches, film stills, and other behind-the-scenes treasures.\",\n",
    "        \"thumbnail\": \"http://books.google.com/books/content?id=mulCyQEACAAJ&printsec=frontcover&img=1&zoom=1&source=gbs_api\",\n",
    "        \"title\": \"Harry Potter Knitting Magic\",\n",
    "        \"webReaderLink\": \"http://play.google.com/books/reader?id=mulCyQEACAAJ&hl=&printsec=frontcover&source=gbs_api\"\n",
    "    }\n",
    "]\n",
    "\"\"\""
   ]
  },
  {
   "cell_type": "code",
   "execution_count": 6,
   "metadata": {},
   "outputs": [],
   "source": [
    "a = json.loads(test)"
   ]
  },
  {
   "cell_type": "code",
   "execution_count": 7,
   "metadata": {},
   "outputs": [
    {
     "data": {
      "text/plain": [
       "list"
      ]
     },
     "execution_count": 7,
     "metadata": {},
     "output_type": "execute_result"
    }
   ],
   "source": [
    "type(a)"
   ]
  },
  {
   "cell_type": "code",
   "execution_count": 19,
   "metadata": {},
   "outputs": [
    {
     "data": {
      "text/plain": [
       "dict"
      ]
     },
     "execution_count": 19,
     "metadata": {},
     "output_type": "execute_result"
    }
   ],
   "source": [
    "type(a[0])"
   ]
  },
  {
   "cell_type": "code",
   "execution_count": null,
   "metadata": {},
   "outputs": [],
   "source": []
  },
  {
   "cell_type": "code",
   "execution_count": 21,
   "metadata": {},
   "outputs": [],
   "source": [
    "with open('hardcode_reccs.json','r',encoding='utf8') as f :\n",
    "    a = json.load(f)"
   ]
  },
  {
   "cell_type": "code",
   "execution_count": 23,
   "metadata": {},
   "outputs": [
    {
     "data": {
      "text/plain": [
       "list"
      ]
     },
     "execution_count": 23,
     "metadata": {},
     "output_type": "execute_result"
    }
   ],
   "source": [
    "type(a)"
   ]
  }
 ],
 "metadata": {
  "kernelspec": {
   "display_name": "U4-S3-DNN (Python3)",
   "language": "python",
   "name": "u4-s3-dnn"
  },
  "language_info": {
   "codemirror_mode": {
    "name": "ipython",
    "version": 3
   },
   "file_extension": ".py",
   "mimetype": "text/x-python",
   "name": "python",
   "nbconvert_exporter": "python",
   "pygments_lexer": "ipython3",
   "version": "3.7.0"
  }
 },
 "nbformat": 4,
 "nbformat_minor": 4
}
