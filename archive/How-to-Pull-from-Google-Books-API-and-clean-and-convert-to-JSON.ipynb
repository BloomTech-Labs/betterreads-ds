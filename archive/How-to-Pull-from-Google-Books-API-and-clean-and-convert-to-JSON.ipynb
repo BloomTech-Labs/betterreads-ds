{
  "nbformat": 4,
  "nbformat_minor": 0,
  "metadata": {
    "kernelspec": {
      "display_name": "U4-S3-DNN (Python3)",
      "language": "python",
      "name": "u4-s3-dnn"
    },
    "language_info": {
      "codemirror_mode": {
        "name": "ipython",
        "version": 3
      },
      "file_extension": ".py",
      "mimetype": "text/x-python",
      "name": "python",
      "nbconvert_exporter": "python",
      "pygments_lexer": "ipython3",
      "version": "3.7.0"
    },
    "colab": {
      "name": "How-to-Pull-from-Google-Books-API-and-clean-and-convert-to-JSON.ipynb",
      "provenance": []
    }
  },
  "cells": [
    {
      "cell_type": "markdown",
      "metadata": {
        "id": "y7u0qIxAlUOw",
        "colab_type": "text"
      },
      "source": [
        "## Google Books API\n",
        "The goal of this notebook is to turn the raw information obtained from the google books API into information in the following format:\n",
        "```\n",
        "{\n",
        "  googleId: STRING\n",
        "  title: STRING\n",
        "  authors: STRING\n",
        "  publisher: STRING\n",
        "  publishedDate: STRING\n",
        "  description: STRING\n",
        "  isbn10: STRING\n",
        "  isbn13: STRING\n",
        "  pageCount: INTEGER\n",
        "  categories: STRING\n",
        "  thumbnail: STRING\n",
        "  smallThumbnail: STRING\n",
        "  language: STRING\n",
        "  webReaderLink: STRING\n",
        "  textSnippet: STRING\n",
        "  isEbook: BOOLEAN\n",
        "}\n",
        "```"
      ]
    },
    {
      "cell_type": "code",
      "metadata": {
        "id": "vmn_Tt88lUO5",
        "colab_type": "code",
        "colab": {}
      },
      "source": [
        "import requests\n",
        "import json\n",
        "import pickle\n",
        "import pandas as pd\n",
        "import numpy as np\n",
        "import time"
      ],
      "execution_count": 0,
      "outputs": []
    },
    {
      "cell_type": "markdown",
      "metadata": {
        "id": "awnqxDtolUR1",
        "colab_type": "text"
      },
      "source": [
        "## Obtain sample information from request:"
      ]
    },
    {
      "cell_type": "code",
      "metadata": {
        "id": "37FvOKZSlUR5",
        "colab_type": "code",
        "colab": {}
      },
      "source": [
        "from secrets import GOOGLE_KEY"
      ],
      "execution_count": 0,
      "outputs": []
    },
    {
      "cell_type": "code",
      "metadata": {
        "id": "DLVpTOb5lUSE",
        "colab_type": "code",
        "colab": {}
      },
      "source": [
        "response = requests.get('https://www.googleapis.com/books/v1/volumes?q=flowers+inauthor:keyes&key='+GOOGLE_KEY)"
      ],
      "execution_count": 0,
      "outputs": []
    },
    {
      "cell_type": "code",
      "metadata": {
        "id": "phJUlA02lUSP",
        "colab_type": "code",
        "colab": {}
      },
      "source": [
        "sample_api_result = json.loads(response.text)"
      ],
      "execution_count": 0,
      "outputs": []
    },
    {
      "cell_type": "code",
      "metadata": {
        "collapsed": true,
        "jupyter": {
          "outputs_hidden": true
        },
        "id": "BPTTz04alUSc",
        "colab_type": "code",
        "colab": {},
        "outputId": "7e74c495-75e7-4605-8a99-ab070475d849"
      },
      "source": [
        "sample_api_result "
      ],
      "execution_count": 0,
      "outputs": [
        {
          "output_type": "execute_result",
          "data": {
            "text/plain": [
              "{'kind': 'books#volumes',\n",
              " 'totalItems': 113,\n",
              " 'items': [{'kind': 'books#volume',\n",
              "   'id': 'gK98gXR8onwC',\n",
              "   'etag': 'ym8oWidtoE0',\n",
              "   'selfLink': 'https://www.googleapis.com/books/v1/volumes/gK98gXR8onwC',\n",
              "   'volumeInfo': {'title': 'Flowers for Algernon',\n",
              "    'subtitle': 'A One-act Play',\n",
              "    'authors': ['David Rogers', 'Daniel Keyes'],\n",
              "    'publisher': 'Dramatic Publishing',\n",
              "    'publishedDate': '1969',\n",
              "    'industryIdentifiers': [{'type': 'ISBN_10', 'identifier': '0871293870'},\n",
              "     {'type': 'ISBN_13', 'identifier': '9780871293879'}],\n",
              "    'readingModes': {'text': False, 'image': True},\n",
              "    'pageCount': 32,\n",
              "    'printType': 'BOOK',\n",
              "    'averageRating': 5,\n",
              "    'ratingsCount': 1,\n",
              "    'maturityRating': 'NOT_MATURE',\n",
              "    'allowAnonLogging': False,\n",
              "    'contentVersion': '0.0.2.0.preview.1',\n",
              "    'panelizationSummary': {'containsEpubBubbles': False,\n",
              "     'containsImageBubbles': False},\n",
              "    'imageLinks': {'smallThumbnail': 'http://books.google.com/books/content?id=gK98gXR8onwC&printsec=frontcover&img=1&zoom=5&edge=curl&source=gbs_api',\n",
              "     'thumbnail': 'http://books.google.com/books/content?id=gK98gXR8onwC&printsec=frontcover&img=1&zoom=1&edge=curl&source=gbs_api'},\n",
              "    'language': 'en',\n",
              "    'previewLink': 'http://books.google.com/books?id=gK98gXR8onwC&pg=PA3&dq=flowers+inauthor:keyes&hl=&cd=1&source=gbs_api',\n",
              "    'infoLink': 'http://books.google.com/books?id=gK98gXR8onwC&dq=flowers+inauthor:keyes&hl=&source=gbs_api',\n",
              "    'canonicalVolumeLink': 'https://books.google.com/books/about/Flowers_for_Algernon.html?hl=&id=gK98gXR8onwC'},\n",
              "   'saleInfo': {'country': 'US',\n",
              "    'saleability': 'NOT_FOR_SALE',\n",
              "    'isEbook': False},\n",
              "   'accessInfo': {'country': 'US',\n",
              "    'viewability': 'PARTIAL',\n",
              "    'embeddable': True,\n",
              "    'publicDomain': False,\n",
              "    'textToSpeechPermission': 'ALLOWED',\n",
              "    'epub': {'isAvailable': False},\n",
              "    'pdf': {'isAvailable': False},\n",
              "    'webReaderLink': 'http://play.google.com/books/reader?id=gK98gXR8onwC&hl=&printsec=frontcover&source=gbs_api',\n",
              "    'accessViewStatus': 'SAMPLE',\n",
              "    'quoteSharingAllowed': False},\n",
              "   'searchInfo': {'textSnippet': '<b>FLOWERS</b> FOR ALGERNON A One-act Play For Four Men And One Woman” <br>\\nCHARACTERS DR. STRAUSS . . . . . . . . . . . . . . . . . . . a young neurosurgeon <br>\\nPROFESSOR NEMUR . . . . . . . . . . . . . . . . his older colleague ALICE KINNIAN&nbsp;...'}},\n",
              "  {'kind': 'books#volume',\n",
              "   'id': '_oG_iTxP1pIC',\n",
              "   'etag': 'Jes7pJi/E4Y',\n",
              "   'selfLink': 'https://www.googleapis.com/books/v1/volumes/_oG_iTxP1pIC',\n",
              "   'volumeInfo': {'title': 'Flowers for Algernon',\n",
              "    'authors': ['Daniel Keyes'],\n",
              "    'publisher': 'Houghton Mifflin Harcourt',\n",
              "    'publishedDate': '2007-12-01',\n",
              "    'description': 'Oscar-winning film Charly starring Cliff Robertson and Claire Bloom-a mentally challenged man receives an operation that turns him into a genius...and introduces him to heartache.',\n",
              "    'industryIdentifiers': [{'type': 'ISBN_10', 'identifier': '0547539630'},\n",
              "     {'type': 'ISBN_13', 'identifier': '9780547539638'}],\n",
              "    'readingModes': {'text': True, 'image': True},\n",
              "    'pageCount': 304,\n",
              "    'printType': 'BOOK',\n",
              "    'categories': ['Fiction'],\n",
              "    'averageRating': 4,\n",
              "    'ratingsCount': 177,\n",
              "    'maturityRating': 'NOT_MATURE',\n",
              "    'allowAnonLogging': True,\n",
              "    'contentVersion': '1.12.11.0.preview.3',\n",
              "    'panelizationSummary': {'containsEpubBubbles': False,\n",
              "     'containsImageBubbles': False},\n",
              "    'imageLinks': {'smallThumbnail': 'http://books.google.com/books/content?id=_oG_iTxP1pIC&printsec=frontcover&img=1&zoom=5&edge=curl&source=gbs_api',\n",
              "     'thumbnail': 'http://books.google.com/books/content?id=_oG_iTxP1pIC&printsec=frontcover&img=1&zoom=1&edge=curl&source=gbs_api'},\n",
              "    'language': 'en',\n",
              "    'previewLink': 'http://books.google.com/books?id=_oG_iTxP1pIC&pg=PA225&dq=flowers+inauthor:keyes&hl=&cd=2&source=gbs_api',\n",
              "    'infoLink': 'https://play.google.com/store/books/details?id=_oG_iTxP1pIC&source=gbs_api',\n",
              "    'canonicalVolumeLink': 'https://play.google.com/store/books/details?id=_oG_iTxP1pIC'},\n",
              "   'saleInfo': {'country': 'US',\n",
              "    'saleability': 'FOR_SALE',\n",
              "    'isEbook': True,\n",
              "    'listPrice': {'amount': 8.99, 'currencyCode': 'USD'},\n",
              "    'retailPrice': {'amount': 8.99, 'currencyCode': 'USD'},\n",
              "    'buyLink': 'https://play.google.com/store/books/details?id=_oG_iTxP1pIC&rdid=book-_oG_iTxP1pIC&rdot=1&source=gbs_api',\n",
              "    'offers': [{'finskyOfferType': 1,\n",
              "      'listPrice': {'amountInMicros': 8990000, 'currencyCode': 'USD'},\n",
              "      'retailPrice': {'amountInMicros': 8990000, 'currencyCode': 'USD'},\n",
              "      'giftable': True}]},\n",
              "   'accessInfo': {'country': 'US',\n",
              "    'viewability': 'PARTIAL',\n",
              "    'embeddable': True,\n",
              "    'publicDomain': False,\n",
              "    'textToSpeechPermission': 'ALLOWED',\n",
              "    'epub': {'isAvailable': True,\n",
              "     'acsTokenLink': 'http://books.google.com/books/download/Flowers_for_Algernon-sample-epub.acsm?id=_oG_iTxP1pIC&format=epub&output=acs4_fulfillment_token&dl_type=sample&source=gbs_api'},\n",
              "    'pdf': {'isAvailable': True,\n",
              "     'acsTokenLink': 'http://books.google.com/books/download/Flowers_for_Algernon-sample-pdf.acsm?id=_oG_iTxP1pIC&format=pdf&output=acs4_fulfillment_token&dl_type=sample&source=gbs_api'},\n",
              "    'webReaderLink': 'http://play.google.com/books/reader?id=_oG_iTxP1pIC&hl=&printsec=frontcover&source=gbs_api',\n",
              "    'accessViewStatus': 'SAMPLE',\n",
              "    'quoteSharingAllowed': False}},\n",
              "  {'kind': 'books#volume',\n",
              "   'id': 'wAUiAAAAMAAJ',\n",
              "   'etag': 'CEuD+avG3Fk',\n",
              "   'selfLink': 'https://www.googleapis.com/books/v1/volumes/wAUiAAAAMAAJ',\n",
              "   'volumeInfo': {'title': 'Evan Dale',\n",
              "    'authors': ['F. Keyes'],\n",
              "    'publishedDate': '1864',\n",
              "    'industryIdentifiers': [{'type': 'OTHER',\n",
              "      'identifier': 'NYPL:33433074876743'}],\n",
              "    'readingModes': {'text': False, 'image': True},\n",
              "    'pageCount': 387,\n",
              "    'printType': 'BOOK',\n",
              "    'maturityRating': 'NOT_MATURE',\n",
              "    'allowAnonLogging': False,\n",
              "    'contentVersion': '0.1.1.0.full.1',\n",
              "    'panelizationSummary': {'containsEpubBubbles': False,\n",
              "     'containsImageBubbles': False},\n",
              "    'imageLinks': {'smallThumbnail': 'http://books.google.com/books/content?id=wAUiAAAAMAAJ&printsec=frontcover&img=1&zoom=5&edge=curl&source=gbs_api',\n",
              "     'thumbnail': 'http://books.google.com/books/content?id=wAUiAAAAMAAJ&printsec=frontcover&img=1&zoom=1&edge=curl&source=gbs_api'},\n",
              "    'language': 'en',\n",
              "    'previewLink': 'http://books.google.com/books?id=wAUiAAAAMAAJ&pg=PA137&dq=flowers+inauthor:keyes&hl=&cd=3&source=gbs_api',\n",
              "    'infoLink': 'https://play.google.com/store/books/details?id=wAUiAAAAMAAJ&source=gbs_api',\n",
              "    'canonicalVolumeLink': 'https://play.google.com/store/books/details?id=wAUiAAAAMAAJ'},\n",
              "   'saleInfo': {'country': 'US',\n",
              "    'saleability': 'FREE',\n",
              "    'isEbook': True,\n",
              "    'buyLink': 'https://play.google.com/store/books/details?id=wAUiAAAAMAAJ&rdid=book-wAUiAAAAMAAJ&rdot=1&source=gbs_api'},\n",
              "   'accessInfo': {'country': 'US',\n",
              "    'viewability': 'ALL_PAGES',\n",
              "    'embeddable': True,\n",
              "    'publicDomain': True,\n",
              "    'textToSpeechPermission': 'ALLOWED',\n",
              "    'epub': {'isAvailable': False,\n",
              "     'downloadLink': 'http://books.google.com/books/download/Evan_Dale.epub?id=wAUiAAAAMAAJ&hl=&output=epub&source=gbs_api'},\n",
              "    'pdf': {'isAvailable': True,\n",
              "     'downloadLink': 'http://books.google.com/books/download/Evan_Dale.pdf?id=wAUiAAAAMAAJ&hl=&output=pdf&sig=ACfU3U2Xg5OeqGIO0AvQ0NH19Kz80v0uRw&source=gbs_api'},\n",
              "    'webReaderLink': 'http://play.google.com/books/reader?id=wAUiAAAAMAAJ&hl=&printsec=frontcover&source=gbs_api',\n",
              "    'accessViewStatus': 'FULL_PUBLIC_DOMAIN',\n",
              "    'quoteSharingAllowed': False},\n",
              "   'searchInfo': {'textSnippet': 'crushed on the unfeeling <b>flowers</b> of the carpet, take it tip tenderly, and curse the <br>\\nfoot that spoiled it. For the rest of the evening Carleton was on an extensive <br>\\nsearch of discovery for the missing <b>flower</b>. In truth, he was in great danger of <br>\\nbecoming&nbsp;...'}},\n",
              "  {'kind': 'books#volume',\n",
              "   'id': 'wYB5PwAACAAJ',\n",
              "   'etag': 'nzRNkRjuXvg',\n",
              "   'selfLink': 'https://www.googleapis.com/books/v1/volumes/wYB5PwAACAAJ',\n",
              "   'volumeInfo': {'title': 'Bloemen Voor Algernon',\n",
              "    'authors': ['Daniel Keyes'],\n",
              "    'publisher': 'Bantam Books',\n",
              "    'publishedDate': '1984-05-01',\n",
              "    'description': 'With more than five million copies sold, \"Flowers for Algernon\" is the beloved, classic story of a mentally disabled man whose experimental quest for intelligence mirrors that of Algernon, an extraordinary lab mouse. High school and older.',\n",
              "    'industryIdentifiers': [{'type': 'ISBN_10', 'identifier': '0553169041'},\n",
              "     {'type': 'ISBN_13', 'identifier': '9780553169041'}],\n",
              "    'readingModes': {'text': False, 'image': False},\n",
              "    'pageCount': 72,\n",
              "    'printType': 'BOOK',\n",
              "    'averageRating': 4,\n",
              "    'ratingsCount': 157,\n",
              "    'maturityRating': 'NOT_MATURE',\n",
              "    'allowAnonLogging': False,\n",
              "    'contentVersion': 'preview-1.0.0',\n",
              "    'language': 'en',\n",
              "    'previewLink': 'http://books.google.com/books?id=wYB5PwAACAAJ&dq=flowers+inauthor:keyes&hl=&cd=4&source=gbs_api',\n",
              "    'infoLink': 'http://books.google.com/books?id=wYB5PwAACAAJ&dq=flowers+inauthor:keyes&hl=&source=gbs_api',\n",
              "    'canonicalVolumeLink': 'https://books.google.com/books/about/Bloemen_Voor_Algernon.html?hl=&id=wYB5PwAACAAJ'},\n",
              "   'saleInfo': {'country': 'US',\n",
              "    'saleability': 'NOT_FOR_SALE',\n",
              "    'isEbook': False},\n",
              "   'accessInfo': {'country': 'US',\n",
              "    'viewability': 'NO_PAGES',\n",
              "    'embeddable': False,\n",
              "    'publicDomain': False,\n",
              "    'textToSpeechPermission': 'ALLOWED',\n",
              "    'epub': {'isAvailable': False},\n",
              "    'pdf': {'isAvailable': False},\n",
              "    'webReaderLink': 'http://play.google.com/books/reader?id=wYB5PwAACAAJ&hl=&printsec=frontcover&source=gbs_api',\n",
              "    'accessViewStatus': 'NONE',\n",
              "    'quoteSharingAllowed': False},\n",
              "   'searchInfo': {'textSnippet': 'With more than five million copies sold, &quot;Flowers for Algernon&quot; is the beloved, classic story of a mentally disabled man whose experimental quest for intelligence mirrors that of Algernon, an extraordinary lab mouse. High school and older.'}},\n",
              "  {'kind': 'books#volume',\n",
              "   'id': 'jQxIAQAAMAAJ',\n",
              "   'etag': 'v3u/r482Yx0',\n",
              "   'selfLink': 'https://www.googleapis.com/books/v1/volumes/jQxIAQAAMAAJ',\n",
              "   'volumeInfo': {'title': 'The Five Senses',\n",
              "    'authors': ['Angela Mary Keyes'],\n",
              "    'publishedDate': '1911',\n",
              "    'industryIdentifiers': [{'type': 'OTHER',\n",
              "      'identifier': 'IOWA:31858006011708'}],\n",
              "    'readingModes': {'text': False, 'image': True},\n",
              "    'pageCount': 252,\n",
              "    'printType': 'BOOK',\n",
              "    'categories': ['Senses and sensation'],\n",
              "    'maturityRating': 'NOT_MATURE',\n",
              "    'allowAnonLogging': False,\n",
              "    'contentVersion': 'full-1.0.0',\n",
              "    'imageLinks': {'smallThumbnail': 'http://books.google.com/books/content?id=jQxIAQAAMAAJ&printsec=frontcover&img=1&zoom=5&edge=curl&source=gbs_api',\n",
              "     'thumbnail': 'http://books.google.com/books/content?id=jQxIAQAAMAAJ&printsec=frontcover&img=1&zoom=1&edge=curl&source=gbs_api'},\n",
              "    'language': 'en',\n",
              "    'previewLink': 'http://books.google.com/books?id=jQxIAQAAMAAJ&pg=PA203&dq=flowers+inauthor:keyes&hl=&cd=5&source=gbs_api',\n",
              "    'infoLink': 'https://play.google.com/store/books/details?id=jQxIAQAAMAAJ&source=gbs_api',\n",
              "    'canonicalVolumeLink': 'https://play.google.com/store/books/details?id=jQxIAQAAMAAJ'},\n",
              "   'saleInfo': {'country': 'US',\n",
              "    'saleability': 'FREE',\n",
              "    'isEbook': True,\n",
              "    'buyLink': 'https://play.google.com/store/books/details?id=jQxIAQAAMAAJ&rdid=book-jQxIAQAAMAAJ&rdot=1&source=gbs_api'},\n",
              "   'accessInfo': {'country': 'US',\n",
              "    'viewability': 'ALL_PAGES',\n",
              "    'embeddable': True,\n",
              "    'publicDomain': True,\n",
              "    'textToSpeechPermission': 'ALLOWED',\n",
              "    'epub': {'isAvailable': False},\n",
              "    'pdf': {'isAvailable': False},\n",
              "    'webReaderLink': 'http://play.google.com/books/reader?id=jQxIAQAAMAAJ&hl=&printsec=frontcover&source=gbs_api',\n",
              "    'accessViewStatus': 'FULL_PUBLIC_DOMAIN',\n",
              "    'quoteSharingAllowed': False},\n",
              "   'searchInfo': {'textSnippet': 'In field and garden the <b>flowers</b> no longer stood forth gaily in their brightest colors. <br>\\nButtercups and daisies bent on their ... “And O, Nell,” cried Ned, “there are no air <br>\\nships taking callers from <b>flower</b> to <b>flower</b>.” “No,” said Nell, “perhaps it is too wet&nbsp;...'}},\n",
              "  {'kind': 'books#volume',\n",
              "   'id': 'xYK5oAEACAAJ',\n",
              "   'etag': 'UPnY+0ord50',\n",
              "   'selfLink': 'https://www.googleapis.com/books/v1/volumes/xYK5oAEACAAJ',\n",
              "   'volumeInfo': {'title': 'Flowers for Algernon - Multiple Critical Perspectives',\n",
              "    'authors': ['Daniel Keyes'],\n",
              "    'publishedDate': '2011-01-01',\n",
              "    'description': 'Probe the depth and richness of your favorite titles and usher your students into an understanding of what really made us want to teach literature in the first place. Each guide offers clear and concise explanations of three different critical perspectives.',\n",
              "    'industryIdentifiers': [{'type': 'ISBN_10', 'identifier': '1935467964'},\n",
              "     {'type': 'ISBN_13', 'identifier': '9781935467960'}],\n",
              "    'readingModes': {'text': False, 'image': False},\n",
              "    'printType': 'BOOK',\n",
              "    'maturityRating': 'NOT_MATURE',\n",
              "    'allowAnonLogging': False,\n",
              "    'contentVersion': 'preview-1.0.0',\n",
              "    'language': 'en',\n",
              "    'previewLink': 'http://books.google.com/books?id=xYK5oAEACAAJ&dq=flowers+inauthor:keyes&hl=&cd=6&source=gbs_api',\n",
              "    'infoLink': 'http://books.google.com/books?id=xYK5oAEACAAJ&dq=flowers+inauthor:keyes&hl=&source=gbs_api',\n",
              "    'canonicalVolumeLink': 'https://books.google.com/books/about/Flowers_for_Algernon_Multiple_Critical_P.html?hl=&id=xYK5oAEACAAJ'},\n",
              "   'saleInfo': {'country': 'US',\n",
              "    'saleability': 'NOT_FOR_SALE',\n",
              "    'isEbook': False},\n",
              "   'accessInfo': {'country': 'US',\n",
              "    'viewability': 'NO_PAGES',\n",
              "    'embeddable': False,\n",
              "    'publicDomain': False,\n",
              "    'textToSpeechPermission': 'ALLOWED',\n",
              "    'epub': {'isAvailable': False},\n",
              "    'pdf': {'isAvailable': False},\n",
              "    'webReaderLink': 'http://play.google.com/books/reader?id=xYK5oAEACAAJ&hl=&printsec=frontcover&source=gbs_api',\n",
              "    'accessViewStatus': 'NONE',\n",
              "    'quoteSharingAllowed': False},\n",
              "   'searchInfo': {'textSnippet': 'Probe the depth and richness of your favorite titles and usher your students into an understanding of what really made us want to teach literature in the first place.'}},\n",
              "  {'kind': 'books#volume',\n",
              "   'id': 'LRlCAAAAYAAJ',\n",
              "   'etag': 'kU1SLj+zx1Q',\n",
              "   'selfLink': 'https://www.googleapis.com/books/v1/volumes/LRlCAAAAYAAJ',\n",
              "   'volumeInfo': {'title': 'Some Environmental Factors Influencing Bud Formation, Abscission and Flower Production of Gardenias',\n",
              "    'authors': ['Curtis Gilbert Keyes'],\n",
              "    'publishedDate': '1946',\n",
              "    'industryIdentifiers': [{'type': 'OTHER',\n",
              "      'identifier': 'CORNELL:31924002987646'}],\n",
              "    'readingModes': {'text': False, 'image': False},\n",
              "    'pageCount': 190,\n",
              "    'printType': 'BOOK',\n",
              "    'categories': ['Gardenia'],\n",
              "    'maturityRating': 'NOT_MATURE',\n",
              "    'allowAnonLogging': False,\n",
              "    'contentVersion': '0.1.1.0.preview.0',\n",
              "    'panelizationSummary': {'containsEpubBubbles': False,\n",
              "     'containsImageBubbles': False},\n",
              "    'imageLinks': {'smallThumbnail': 'http://books.google.com/books/content?id=LRlCAAAAYAAJ&printsec=frontcover&img=1&zoom=5&source=gbs_api',\n",
              "     'thumbnail': 'http://books.google.com/books/content?id=LRlCAAAAYAAJ&printsec=frontcover&img=1&zoom=1&source=gbs_api'},\n",
              "    'language': 'en',\n",
              "    'previewLink': 'http://books.google.com/books?id=LRlCAAAAYAAJ&q=flowers+inauthor:keyes&dq=flowers+inauthor:keyes&hl=&cd=7&source=gbs_api',\n",
              "    'infoLink': 'http://books.google.com/books?id=LRlCAAAAYAAJ&dq=flowers+inauthor:keyes&hl=&source=gbs_api',\n",
              "    'canonicalVolumeLink': 'https://books.google.com/books/about/Some_Environmental_Factors_Influencing_B.html?hl=&id=LRlCAAAAYAAJ'},\n",
              "   'saleInfo': {'country': 'US',\n",
              "    'saleability': 'NOT_FOR_SALE',\n",
              "    'isEbook': False},\n",
              "   'accessInfo': {'country': 'US',\n",
              "    'viewability': 'NO_PAGES',\n",
              "    'embeddable': False,\n",
              "    'publicDomain': False,\n",
              "    'textToSpeechPermission': 'ALLOWED',\n",
              "    'epub': {'isAvailable': False},\n",
              "    'pdf': {'isAvailable': False},\n",
              "    'webReaderLink': 'http://play.google.com/books/reader?id=LRlCAAAAYAAJ&hl=&printsec=frontcover&source=gbs_api',\n",
              "    'accessViewStatus': 'NONE',\n",
              "    'quoteSharingAllowed': False},\n",
              "   'searchInfo': {'textSnippet': 'Quo relation concernino <b>flower</b> production was consistantly observed, and too <br>\\nwas one correlation botvos., abscission aiki flows: production. ...eliever <b>flower</b> <br>\\nproduction was increasod too amount of bid abscission that took placs was fixed <br>\\nas&nbsp;...'}},\n",
              "  {'kind': 'books#volume',\n",
              "   'id': 'uCqioAEACAAJ',\n",
              "   'etag': 'tDCUJjyf2yk',\n",
              "   'selfLink': 'https://www.googleapis.com/books/v1/volumes/uCqioAEACAAJ',\n",
              "   'volumeInfo': {'title': 'Flowers for Algernon - Downloadable Multiple Critical Perspectives',\n",
              "    'authors': ['Daniel Keyes'],\n",
              "    'publishedDate': '2011-01-01',\n",
              "    'description': 'Probe the depth and richness of your favorite titles and usher your students into an understanding of what really made us want to teach literature in the first place. Each guide offers clear and concise explanations of three different critical perspectives.',\n",
              "    'industryIdentifiers': [{'type': 'ISBN_10', 'identifier': '1935467972'},\n",
              "     {'type': 'ISBN_13', 'identifier': '9781935467977'}],\n",
              "    'readingModes': {'text': False, 'image': False},\n",
              "    'printType': 'BOOK',\n",
              "    'maturityRating': 'NOT_MATURE',\n",
              "    'allowAnonLogging': False,\n",
              "    'contentVersion': 'preview-1.0.0',\n",
              "    'language': 'en',\n",
              "    'previewLink': 'http://books.google.com/books?id=uCqioAEACAAJ&dq=flowers+inauthor:keyes&hl=&cd=8&source=gbs_api',\n",
              "    'infoLink': 'http://books.google.com/books?id=uCqioAEACAAJ&dq=flowers+inauthor:keyes&hl=&source=gbs_api',\n",
              "    'canonicalVolumeLink': 'https://books.google.com/books/about/Flowers_for_Algernon_Downloadable_Multip.html?hl=&id=uCqioAEACAAJ'},\n",
              "   'saleInfo': {'country': 'US',\n",
              "    'saleability': 'NOT_FOR_SALE',\n",
              "    'isEbook': False},\n",
              "   'accessInfo': {'country': 'US',\n",
              "    'viewability': 'NO_PAGES',\n",
              "    'embeddable': False,\n",
              "    'publicDomain': False,\n",
              "    'textToSpeechPermission': 'ALLOWED',\n",
              "    'epub': {'isAvailable': False},\n",
              "    'pdf': {'isAvailable': False},\n",
              "    'webReaderLink': 'http://play.google.com/books/reader?id=uCqioAEACAAJ&hl=&printsec=frontcover&source=gbs_api',\n",
              "    'accessViewStatus': 'NONE',\n",
              "    'quoteSharingAllowed': False},\n",
              "   'searchInfo': {'textSnippet': 'Probe the depth and richness of your favorite titles and usher your students into an understanding of what really made us want to teach literature in the first place.'}},\n",
              "  {'kind': 'books#volume',\n",
              "   'id': 'vcZJAAAAIAAJ',\n",
              "   'etag': 'dD/pRMWOB3E',\n",
              "   'selfLink': 'https://www.googleapis.com/books/v1/volumes/vcZJAAAAIAAJ',\n",
              "   'volumeInfo': {'title': 'Stories and Story-telling',\n",
              "    'authors': ['Angela Mary Keyes'],\n",
              "    'publishedDate': '1911',\n",
              "    'industryIdentifiers': [{'type': 'OTHER', 'identifier': 'UCAL:$B262932'}],\n",
              "    'readingModes': {'text': False, 'image': True},\n",
              "    'pageCount': 286,\n",
              "    'printType': 'BOOK',\n",
              "    'categories': ['Storytelling'],\n",
              "    'maturityRating': 'NOT_MATURE',\n",
              "    'allowAnonLogging': False,\n",
              "    'contentVersion': '0.2.3.0.full.1',\n",
              "    'panelizationSummary': {'containsEpubBubbles': False,\n",
              "     'containsImageBubbles': False},\n",
              "    'imageLinks': {'smallThumbnail': 'http://books.google.com/books/content?id=vcZJAAAAIAAJ&printsec=frontcover&img=1&zoom=5&edge=curl&source=gbs_api',\n",
              "     'thumbnail': 'http://books.google.com/books/content?id=vcZJAAAAIAAJ&printsec=frontcover&img=1&zoom=1&edge=curl&source=gbs_api'},\n",
              "    'language': 'en',\n",
              "    'previewLink': 'http://books.google.com/books?id=vcZJAAAAIAAJ&pg=PA100&dq=flowers+inauthor:keyes&hl=&cd=9&source=gbs_api',\n",
              "    'infoLink': 'https://play.google.com/store/books/details?id=vcZJAAAAIAAJ&source=gbs_api',\n",
              "    'canonicalVolumeLink': 'https://play.google.com/store/books/details?id=vcZJAAAAIAAJ'},\n",
              "   'saleInfo': {'country': 'US',\n",
              "    'saleability': 'FREE',\n",
              "    'isEbook': True,\n",
              "    'buyLink': 'https://play.google.com/store/books/details?id=vcZJAAAAIAAJ&rdid=book-vcZJAAAAIAAJ&rdot=1&source=gbs_api'},\n",
              "   'accessInfo': {'country': 'US',\n",
              "    'viewability': 'ALL_PAGES',\n",
              "    'embeddable': True,\n",
              "    'publicDomain': True,\n",
              "    'textToSpeechPermission': 'ALLOWED',\n",
              "    'epub': {'isAvailable': False,\n",
              "     'downloadLink': 'http://books.google.com/books/download/Stories_and_Story_telling.epub?id=vcZJAAAAIAAJ&hl=&output=epub&source=gbs_api'},\n",
              "    'pdf': {'isAvailable': True,\n",
              "     'downloadLink': 'http://books.google.com/books/download/Stories_and_Story_telling.pdf?id=vcZJAAAAIAAJ&hl=&output=pdf&sig=ACfU3U1ZlWJVN9HuKOKVjHyRzblks4jwng&source=gbs_api'},\n",
              "    'webReaderLink': 'http://play.google.com/books/reader?id=vcZJAAAAIAAJ&hl=&printsec=frontcover&source=gbs_api',\n",
              "    'accessViewStatus': 'FULL_PUBLIC_DOMAIN',\n",
              "    'quoteSharingAllowed': False},\n",
              "   'searchInfo': {'textSnippet': 'Pick out one of the splendid <b>flowers</b> you see down there, and I will set you down <br>\\nin it.” “That will be a beautiful home,” cried Thumbelina, and clapped her hands. <br>\\nShe chose a great white <b>flower</b>. The swallow flew down with her and set her on&nbsp;...'}},\n",
              "  {'kind': 'books#volume',\n",
              "   'id': '6WrhAAAAMAAJ',\n",
              "   'etag': 'aUqYL+tt4G0',\n",
              "   'selfLink': 'https://www.googleapis.com/books/v1/volumes/6WrhAAAAMAAJ',\n",
              "   'volumeInfo': {'title': 'Algernon, Charlie, and I',\n",
              "    'subtitle': 'A Writer\\'s Journey : Plus the Complete Original Short Novelette Version of \"Flowers for Algernon\"',\n",
              "    'authors': ['Daniel Keyes'],\n",
              "    'publisher': 'Challenge PressInc',\n",
              "    'publishedDate': '1999',\n",
              "    'description': 'The author shares his creative processes, revealing the life experiences leading to the creation of Charlie Gordon and tracing the evolution of the novelette into a novel, stage production, cinema production, and TV movie.',\n",
              "    'industryIdentifiers': [{'type': 'OTHER',\n",
              "      'identifier': 'UOM:39015049675906'}],\n",
              "    'readingModes': {'text': False, 'image': False},\n",
              "    'pageCount': 223,\n",
              "    'printType': 'BOOK',\n",
              "    'categories': ['Biography & Autobiography'],\n",
              "    'averageRating': 4,\n",
              "    'ratingsCount': 1,\n",
              "    'maturityRating': 'NOT_MATURE',\n",
              "    'allowAnonLogging': False,\n",
              "    'contentVersion': 'preview-1.0.0',\n",
              "    'imageLinks': {'smallThumbnail': 'http://books.google.com/books/content?id=6WrhAAAAMAAJ&printsec=frontcover&img=1&zoom=5&source=gbs_api',\n",
              "     'thumbnail': 'http://books.google.com/books/content?id=6WrhAAAAMAAJ&printsec=frontcover&img=1&zoom=1&source=gbs_api'},\n",
              "    'language': 'en',\n",
              "    'previewLink': 'http://books.google.com/books?id=6WrhAAAAMAAJ&q=flowers+inauthor:keyes&dq=flowers+inauthor:keyes&hl=&cd=10&source=gbs_api',\n",
              "    'infoLink': 'http://books.google.com/books?id=6WrhAAAAMAAJ&dq=flowers+inauthor:keyes&hl=&source=gbs_api',\n",
              "    'canonicalVolumeLink': 'https://books.google.com/books/about/Algernon_Charlie_and_I.html?hl=&id=6WrhAAAAMAAJ'},\n",
              "   'saleInfo': {'country': 'US',\n",
              "    'saleability': 'NOT_FOR_SALE',\n",
              "    'isEbook': False},\n",
              "   'accessInfo': {'country': 'US',\n",
              "    'viewability': 'NO_PAGES',\n",
              "    'embeddable': False,\n",
              "    'publicDomain': False,\n",
              "    'textToSpeechPermission': 'ALLOWED',\n",
              "    'epub': {'isAvailable': False},\n",
              "    'pdf': {'isAvailable': False},\n",
              "    'webReaderLink': 'http://play.google.com/books/reader?id=6WrhAAAAMAAJ&hl=&printsec=frontcover&source=gbs_api',\n",
              "    'accessViewStatus': 'NONE',\n",
              "    'quoteSharingAllowed': False},\n",
              "   'searchInfo': {'textSnippet': 'The author shares his creative processes, revealing the life experiences leading to the creation of Charlie Gordon and tracing the evolution of the novelette into a novel, stage production, cinema production, and TV movie.'}}]}"
            ]
          },
          "metadata": {
            "tags": []
          },
          "execution_count": 14
        }
      ]
    },
    {
      "cell_type": "markdown",
      "metadata": {
        "id": "zS-KQt3QlUTH",
        "colab_type": "text"
      },
      "source": [
        "### The following is template code to save and load a reference object. "
      ]
    },
    {
      "cell_type": "code",
      "metadata": {
        "id": "KjNUxGp3lUTK",
        "colab_type": "code",
        "colab": {}
      },
      "source": [
        "with open('example_google_books_return.obj','ab') as f:\n",
        "    pickle.dump(sample_api_result,f)"
      ],
      "execution_count": 0,
      "outputs": []
    },
    {
      "cell_type": "code",
      "metadata": {
        "id": "FLhw4j2JlUTg",
        "colab_type": "code",
        "colab": {}
      },
      "source": [
        "with open('example_google_books_return.obj','rb') as f:\n",
        "    test = pickle.load(f)"
      ],
      "execution_count": 0,
      "outputs": []
    },
    {
      "cell_type": "code",
      "metadata": {
        "jupyter": {
          "outputs_hidden": true
        },
        "id": "_vvc314AlUTw",
        "colab_type": "code",
        "colab": {},
        "outputId": "fddc278e-48d5-422a-dc38-0aa82130315b"
      },
      "source": [
        "test"
      ],
      "execution_count": 0,
      "outputs": [
        {
          "output_type": "execute_result",
          "data": {
            "text/plain": [
              "{'kind': 'books#volumes',\n",
              " 'totalItems': 113,\n",
              " 'items': [{'kind': 'books#volume',\n",
              "   'id': 'gK98gXR8onwC',\n",
              "   'etag': 'ym8oWidtoE0',\n",
              "   'selfLink': 'https://www.googleapis.com/books/v1/volumes/gK98gXR8onwC',\n",
              "   'volumeInfo': {'title': 'Flowers for Algernon',\n",
              "    'subtitle': 'A One-act Play',\n",
              "    'authors': ['David Rogers', 'Daniel Keyes'],\n",
              "    'publisher': 'Dramatic Publishing',\n",
              "    'publishedDate': '1969',\n",
              "    'industryIdentifiers': [{'type': 'ISBN_10', 'identifier': '0871293870'},\n",
              "     {'type': 'ISBN_13', 'identifier': '9780871293879'}],\n",
              "    'readingModes': {'text': False, 'image': True},\n",
              "    'pageCount': 32,\n",
              "    'printType': 'BOOK',\n",
              "    'averageRating': 5,\n",
              "    'ratingsCount': 1,\n",
              "    'maturityRating': 'NOT_MATURE',\n",
              "    'allowAnonLogging': False,\n",
              "    'contentVersion': '0.0.2.0.preview.1',\n",
              "    'panelizationSummary': {'containsEpubBubbles': False,\n",
              "     'containsImageBubbles': False},\n",
              "    'imageLinks': {'smallThumbnail': 'http://books.google.com/books/content?id=gK98gXR8onwC&printsec=frontcover&img=1&zoom=5&edge=curl&source=gbs_api',\n",
              "     'thumbnail': 'http://books.google.com/books/content?id=gK98gXR8onwC&printsec=frontcover&img=1&zoom=1&edge=curl&source=gbs_api'},\n",
              "    'language': 'en',\n",
              "    'previewLink': 'http://books.google.com/books?id=gK98gXR8onwC&pg=PA3&dq=flowers+inauthor:keyes&hl=&cd=1&source=gbs_api',\n",
              "    'infoLink': 'http://books.google.com/books?id=gK98gXR8onwC&dq=flowers+inauthor:keyes&hl=&source=gbs_api',\n",
              "    'canonicalVolumeLink': 'https://books.google.com/books/about/Flowers_for_Algernon.html?hl=&id=gK98gXR8onwC'},\n",
              "   'saleInfo': {'country': 'US',\n",
              "    'saleability': 'NOT_FOR_SALE',\n",
              "    'isEbook': False},\n",
              "   'accessInfo': {'country': 'US',\n",
              "    'viewability': 'PARTIAL',\n",
              "    'embeddable': True,\n",
              "    'publicDomain': False,\n",
              "    'textToSpeechPermission': 'ALLOWED',\n",
              "    'epub': {'isAvailable': False},\n",
              "    'pdf': {'isAvailable': False},\n",
              "    'webReaderLink': 'http://play.google.com/books/reader?id=gK98gXR8onwC&hl=&printsec=frontcover&source=gbs_api',\n",
              "    'accessViewStatus': 'SAMPLE',\n",
              "    'quoteSharingAllowed': False},\n",
              "   'searchInfo': {'textSnippet': '<b>FLOWERS</b> FOR ALGERNON A One-act Play For Four Men And One Woman” <br>\\nCHARACTERS DR. STRAUSS . . . . . . . . . . . . . . . . . . . a young neurosurgeon <br>\\nPROFESSOR NEMUR . . . . . . . . . . . . . . . . his older colleague ALICE KINNIAN&nbsp;...'}},\n",
              "  {'kind': 'books#volume',\n",
              "   'id': '_oG_iTxP1pIC',\n",
              "   'etag': 'Jes7pJi/E4Y',\n",
              "   'selfLink': 'https://www.googleapis.com/books/v1/volumes/_oG_iTxP1pIC',\n",
              "   'volumeInfo': {'title': 'Flowers for Algernon',\n",
              "    'authors': ['Daniel Keyes'],\n",
              "    'publisher': 'Houghton Mifflin Harcourt',\n",
              "    'publishedDate': '2007-12-01',\n",
              "    'description': 'Oscar-winning film Charly starring Cliff Robertson and Claire Bloom-a mentally challenged man receives an operation that turns him into a genius...and introduces him to heartache.',\n",
              "    'industryIdentifiers': [{'type': 'ISBN_10', 'identifier': '0547539630'},\n",
              "     {'type': 'ISBN_13', 'identifier': '9780547539638'}],\n",
              "    'readingModes': {'text': True, 'image': True},\n",
              "    'pageCount': 304,\n",
              "    'printType': 'BOOK',\n",
              "    'categories': ['Fiction'],\n",
              "    'averageRating': 4,\n",
              "    'ratingsCount': 177,\n",
              "    'maturityRating': 'NOT_MATURE',\n",
              "    'allowAnonLogging': True,\n",
              "    'contentVersion': '1.12.11.0.preview.3',\n",
              "    'panelizationSummary': {'containsEpubBubbles': False,\n",
              "     'containsImageBubbles': False},\n",
              "    'imageLinks': {'smallThumbnail': 'http://books.google.com/books/content?id=_oG_iTxP1pIC&printsec=frontcover&img=1&zoom=5&edge=curl&source=gbs_api',\n",
              "     'thumbnail': 'http://books.google.com/books/content?id=_oG_iTxP1pIC&printsec=frontcover&img=1&zoom=1&edge=curl&source=gbs_api'},\n",
              "    'language': 'en',\n",
              "    'previewLink': 'http://books.google.com/books?id=_oG_iTxP1pIC&pg=PA225&dq=flowers+inauthor:keyes&hl=&cd=2&source=gbs_api',\n",
              "    'infoLink': 'https://play.google.com/store/books/details?id=_oG_iTxP1pIC&source=gbs_api',\n",
              "    'canonicalVolumeLink': 'https://play.google.com/store/books/details?id=_oG_iTxP1pIC'},\n",
              "   'saleInfo': {'country': 'US',\n",
              "    'saleability': 'FOR_SALE',\n",
              "    'isEbook': True,\n",
              "    'listPrice': {'amount': 8.99, 'currencyCode': 'USD'},\n",
              "    'retailPrice': {'amount': 8.99, 'currencyCode': 'USD'},\n",
              "    'buyLink': 'https://play.google.com/store/books/details?id=_oG_iTxP1pIC&rdid=book-_oG_iTxP1pIC&rdot=1&source=gbs_api',\n",
              "    'offers': [{'finskyOfferType': 1,\n",
              "      'listPrice': {'amountInMicros': 8990000, 'currencyCode': 'USD'},\n",
              "      'retailPrice': {'amountInMicros': 8990000, 'currencyCode': 'USD'},\n",
              "      'giftable': True}]},\n",
              "   'accessInfo': {'country': 'US',\n",
              "    'viewability': 'PARTIAL',\n",
              "    'embeddable': True,\n",
              "    'publicDomain': False,\n",
              "    'textToSpeechPermission': 'ALLOWED',\n",
              "    'epub': {'isAvailable': True,\n",
              "     'acsTokenLink': 'http://books.google.com/books/download/Flowers_for_Algernon-sample-epub.acsm?id=_oG_iTxP1pIC&format=epub&output=acs4_fulfillment_token&dl_type=sample&source=gbs_api'},\n",
              "    'pdf': {'isAvailable': True,\n",
              "     'acsTokenLink': 'http://books.google.com/books/download/Flowers_for_Algernon-sample-pdf.acsm?id=_oG_iTxP1pIC&format=pdf&output=acs4_fulfillment_token&dl_type=sample&source=gbs_api'},\n",
              "    'webReaderLink': 'http://play.google.com/books/reader?id=_oG_iTxP1pIC&hl=&printsec=frontcover&source=gbs_api',\n",
              "    'accessViewStatus': 'SAMPLE',\n",
              "    'quoteSharingAllowed': False}},\n",
              "  {'kind': 'books#volume',\n",
              "   'id': 'wAUiAAAAMAAJ',\n",
              "   'etag': 'CEuD+avG3Fk',\n",
              "   'selfLink': 'https://www.googleapis.com/books/v1/volumes/wAUiAAAAMAAJ',\n",
              "   'volumeInfo': {'title': 'Evan Dale',\n",
              "    'authors': ['F. Keyes'],\n",
              "    'publishedDate': '1864',\n",
              "    'industryIdentifiers': [{'type': 'OTHER',\n",
              "      'identifier': 'NYPL:33433074876743'}],\n",
              "    'readingModes': {'text': False, 'image': True},\n",
              "    'pageCount': 387,\n",
              "    'printType': 'BOOK',\n",
              "    'maturityRating': 'NOT_MATURE',\n",
              "    'allowAnonLogging': False,\n",
              "    'contentVersion': '0.1.1.0.full.1',\n",
              "    'panelizationSummary': {'containsEpubBubbles': False,\n",
              "     'containsImageBubbles': False},\n",
              "    'imageLinks': {'smallThumbnail': 'http://books.google.com/books/content?id=wAUiAAAAMAAJ&printsec=frontcover&img=1&zoom=5&edge=curl&source=gbs_api',\n",
              "     'thumbnail': 'http://books.google.com/books/content?id=wAUiAAAAMAAJ&printsec=frontcover&img=1&zoom=1&edge=curl&source=gbs_api'},\n",
              "    'language': 'en',\n",
              "    'previewLink': 'http://books.google.com/books?id=wAUiAAAAMAAJ&pg=PA137&dq=flowers+inauthor:keyes&hl=&cd=3&source=gbs_api',\n",
              "    'infoLink': 'https://play.google.com/store/books/details?id=wAUiAAAAMAAJ&source=gbs_api',\n",
              "    'canonicalVolumeLink': 'https://play.google.com/store/books/details?id=wAUiAAAAMAAJ'},\n",
              "   'saleInfo': {'country': 'US',\n",
              "    'saleability': 'FREE',\n",
              "    'isEbook': True,\n",
              "    'buyLink': 'https://play.google.com/store/books/details?id=wAUiAAAAMAAJ&rdid=book-wAUiAAAAMAAJ&rdot=1&source=gbs_api'},\n",
              "   'accessInfo': {'country': 'US',\n",
              "    'viewability': 'ALL_PAGES',\n",
              "    'embeddable': True,\n",
              "    'publicDomain': True,\n",
              "    'textToSpeechPermission': 'ALLOWED',\n",
              "    'epub': {'isAvailable': False,\n",
              "     'downloadLink': 'http://books.google.com/books/download/Evan_Dale.epub?id=wAUiAAAAMAAJ&hl=&output=epub&source=gbs_api'},\n",
              "    'pdf': {'isAvailable': True,\n",
              "     'downloadLink': 'http://books.google.com/books/download/Evan_Dale.pdf?id=wAUiAAAAMAAJ&hl=&output=pdf&sig=ACfU3U2Xg5OeqGIO0AvQ0NH19Kz80v0uRw&source=gbs_api'},\n",
              "    'webReaderLink': 'http://play.google.com/books/reader?id=wAUiAAAAMAAJ&hl=&printsec=frontcover&source=gbs_api',\n",
              "    'accessViewStatus': 'FULL_PUBLIC_DOMAIN',\n",
              "    'quoteSharingAllowed': False},\n",
              "   'searchInfo': {'textSnippet': 'crushed on the unfeeling <b>flowers</b> of the carpet, take it tip tenderly, and curse the <br>\\nfoot that spoiled it. For the rest of the evening Carleton was on an extensive <br>\\nsearch of discovery for the missing <b>flower</b>. In truth, he was in great danger of <br>\\nbecoming&nbsp;...'}},\n",
              "  {'kind': 'books#volume',\n",
              "   'id': 'wYB5PwAACAAJ',\n",
              "   'etag': 'nzRNkRjuXvg',\n",
              "   'selfLink': 'https://www.googleapis.com/books/v1/volumes/wYB5PwAACAAJ',\n",
              "   'volumeInfo': {'title': 'Bloemen Voor Algernon',\n",
              "    'authors': ['Daniel Keyes'],\n",
              "    'publisher': 'Bantam Books',\n",
              "    'publishedDate': '1984-05-01',\n",
              "    'description': 'With more than five million copies sold, \"Flowers for Algernon\" is the beloved, classic story of a mentally disabled man whose experimental quest for intelligence mirrors that of Algernon, an extraordinary lab mouse. High school and older.',\n",
              "    'industryIdentifiers': [{'type': 'ISBN_10', 'identifier': '0553169041'},\n",
              "     {'type': 'ISBN_13', 'identifier': '9780553169041'}],\n",
              "    'readingModes': {'text': False, 'image': False},\n",
              "    'pageCount': 72,\n",
              "    'printType': 'BOOK',\n",
              "    'averageRating': 4,\n",
              "    'ratingsCount': 157,\n",
              "    'maturityRating': 'NOT_MATURE',\n",
              "    'allowAnonLogging': False,\n",
              "    'contentVersion': 'preview-1.0.0',\n",
              "    'language': 'en',\n",
              "    'previewLink': 'http://books.google.com/books?id=wYB5PwAACAAJ&dq=flowers+inauthor:keyes&hl=&cd=4&source=gbs_api',\n",
              "    'infoLink': 'http://books.google.com/books?id=wYB5PwAACAAJ&dq=flowers+inauthor:keyes&hl=&source=gbs_api',\n",
              "    'canonicalVolumeLink': 'https://books.google.com/books/about/Bloemen_Voor_Algernon.html?hl=&id=wYB5PwAACAAJ'},\n",
              "   'saleInfo': {'country': 'US',\n",
              "    'saleability': 'NOT_FOR_SALE',\n",
              "    'isEbook': False},\n",
              "   'accessInfo': {'country': 'US',\n",
              "    'viewability': 'NO_PAGES',\n",
              "    'embeddable': False,\n",
              "    'publicDomain': False,\n",
              "    'textToSpeechPermission': 'ALLOWED',\n",
              "    'epub': {'isAvailable': False},\n",
              "    'pdf': {'isAvailable': False},\n",
              "    'webReaderLink': 'http://play.google.com/books/reader?id=wYB5PwAACAAJ&hl=&printsec=frontcover&source=gbs_api',\n",
              "    'accessViewStatus': 'NONE',\n",
              "    'quoteSharingAllowed': False},\n",
              "   'searchInfo': {'textSnippet': 'With more than five million copies sold, &quot;Flowers for Algernon&quot; is the beloved, classic story of a mentally disabled man whose experimental quest for intelligence mirrors that of Algernon, an extraordinary lab mouse. High school and older.'}},\n",
              "  {'kind': 'books#volume',\n",
              "   'id': 'jQxIAQAAMAAJ',\n",
              "   'etag': 'v3u/r482Yx0',\n",
              "   'selfLink': 'https://www.googleapis.com/books/v1/volumes/jQxIAQAAMAAJ',\n",
              "   'volumeInfo': {'title': 'The Five Senses',\n",
              "    'authors': ['Angela Mary Keyes'],\n",
              "    'publishedDate': '1911',\n",
              "    'industryIdentifiers': [{'type': 'OTHER',\n",
              "      'identifier': 'IOWA:31858006011708'}],\n",
              "    'readingModes': {'text': False, 'image': True},\n",
              "    'pageCount': 252,\n",
              "    'printType': 'BOOK',\n",
              "    'categories': ['Senses and sensation'],\n",
              "    'maturityRating': 'NOT_MATURE',\n",
              "    'allowAnonLogging': False,\n",
              "    'contentVersion': 'full-1.0.0',\n",
              "    'imageLinks': {'smallThumbnail': 'http://books.google.com/books/content?id=jQxIAQAAMAAJ&printsec=frontcover&img=1&zoom=5&edge=curl&source=gbs_api',\n",
              "     'thumbnail': 'http://books.google.com/books/content?id=jQxIAQAAMAAJ&printsec=frontcover&img=1&zoom=1&edge=curl&source=gbs_api'},\n",
              "    'language': 'en',\n",
              "    'previewLink': 'http://books.google.com/books?id=jQxIAQAAMAAJ&pg=PA203&dq=flowers+inauthor:keyes&hl=&cd=5&source=gbs_api',\n",
              "    'infoLink': 'https://play.google.com/store/books/details?id=jQxIAQAAMAAJ&source=gbs_api',\n",
              "    'canonicalVolumeLink': 'https://play.google.com/store/books/details?id=jQxIAQAAMAAJ'},\n",
              "   'saleInfo': {'country': 'US',\n",
              "    'saleability': 'FREE',\n",
              "    'isEbook': True,\n",
              "    'buyLink': 'https://play.google.com/store/books/details?id=jQxIAQAAMAAJ&rdid=book-jQxIAQAAMAAJ&rdot=1&source=gbs_api'},\n",
              "   'accessInfo': {'country': 'US',\n",
              "    'viewability': 'ALL_PAGES',\n",
              "    'embeddable': True,\n",
              "    'publicDomain': True,\n",
              "    'textToSpeechPermission': 'ALLOWED',\n",
              "    'epub': {'isAvailable': False},\n",
              "    'pdf': {'isAvailable': False},\n",
              "    'webReaderLink': 'http://play.google.com/books/reader?id=jQxIAQAAMAAJ&hl=&printsec=frontcover&source=gbs_api',\n",
              "    'accessViewStatus': 'FULL_PUBLIC_DOMAIN',\n",
              "    'quoteSharingAllowed': False},\n",
              "   'searchInfo': {'textSnippet': 'In field and garden the <b>flowers</b> no longer stood forth gaily in their brightest colors. <br>\\nButtercups and daisies bent on their ... “And O, Nell,” cried Ned, “there are no air <br>\\nships taking callers from <b>flower</b> to <b>flower</b>.” “No,” said Nell, “perhaps it is too wet&nbsp;...'}},\n",
              "  {'kind': 'books#volume',\n",
              "   'id': 'xYK5oAEACAAJ',\n",
              "   'etag': 'UPnY+0ord50',\n",
              "   'selfLink': 'https://www.googleapis.com/books/v1/volumes/xYK5oAEACAAJ',\n",
              "   'volumeInfo': {'title': 'Flowers for Algernon - Multiple Critical Perspectives',\n",
              "    'authors': ['Daniel Keyes'],\n",
              "    'publishedDate': '2011-01-01',\n",
              "    'description': 'Probe the depth and richness of your favorite titles and usher your students into an understanding of what really made us want to teach literature in the first place. Each guide offers clear and concise explanations of three different critical perspectives.',\n",
              "    'industryIdentifiers': [{'type': 'ISBN_10', 'identifier': '1935467964'},\n",
              "     {'type': 'ISBN_13', 'identifier': '9781935467960'}],\n",
              "    'readingModes': {'text': False, 'image': False},\n",
              "    'printType': 'BOOK',\n",
              "    'maturityRating': 'NOT_MATURE',\n",
              "    'allowAnonLogging': False,\n",
              "    'contentVersion': 'preview-1.0.0',\n",
              "    'language': 'en',\n",
              "    'previewLink': 'http://books.google.com/books?id=xYK5oAEACAAJ&dq=flowers+inauthor:keyes&hl=&cd=6&source=gbs_api',\n",
              "    'infoLink': 'http://books.google.com/books?id=xYK5oAEACAAJ&dq=flowers+inauthor:keyes&hl=&source=gbs_api',\n",
              "    'canonicalVolumeLink': 'https://books.google.com/books/about/Flowers_for_Algernon_Multiple_Critical_P.html?hl=&id=xYK5oAEACAAJ'},\n",
              "   'saleInfo': {'country': 'US',\n",
              "    'saleability': 'NOT_FOR_SALE',\n",
              "    'isEbook': False},\n",
              "   'accessInfo': {'country': 'US',\n",
              "    'viewability': 'NO_PAGES',\n",
              "    'embeddable': False,\n",
              "    'publicDomain': False,\n",
              "    'textToSpeechPermission': 'ALLOWED',\n",
              "    'epub': {'isAvailable': False},\n",
              "    'pdf': {'isAvailable': False},\n",
              "    'webReaderLink': 'http://play.google.com/books/reader?id=xYK5oAEACAAJ&hl=&printsec=frontcover&source=gbs_api',\n",
              "    'accessViewStatus': 'NONE',\n",
              "    'quoteSharingAllowed': False},\n",
              "   'searchInfo': {'textSnippet': 'Probe the depth and richness of your favorite titles and usher your students into an understanding of what really made us want to teach literature in the first place.'}},\n",
              "  {'kind': 'books#volume',\n",
              "   'id': 'LRlCAAAAYAAJ',\n",
              "   'etag': 'kU1SLj+zx1Q',\n",
              "   'selfLink': 'https://www.googleapis.com/books/v1/volumes/LRlCAAAAYAAJ',\n",
              "   'volumeInfo': {'title': 'Some Environmental Factors Influencing Bud Formation, Abscission and Flower Production of Gardenias',\n",
              "    'authors': ['Curtis Gilbert Keyes'],\n",
              "    'publishedDate': '1946',\n",
              "    'industryIdentifiers': [{'type': 'OTHER',\n",
              "      'identifier': 'CORNELL:31924002987646'}],\n",
              "    'readingModes': {'text': False, 'image': False},\n",
              "    'pageCount': 190,\n",
              "    'printType': 'BOOK',\n",
              "    'categories': ['Gardenia'],\n",
              "    'maturityRating': 'NOT_MATURE',\n",
              "    'allowAnonLogging': False,\n",
              "    'contentVersion': '0.1.1.0.preview.0',\n",
              "    'panelizationSummary': {'containsEpubBubbles': False,\n",
              "     'containsImageBubbles': False},\n",
              "    'imageLinks': {'smallThumbnail': 'http://books.google.com/books/content?id=LRlCAAAAYAAJ&printsec=frontcover&img=1&zoom=5&source=gbs_api',\n",
              "     'thumbnail': 'http://books.google.com/books/content?id=LRlCAAAAYAAJ&printsec=frontcover&img=1&zoom=1&source=gbs_api'},\n",
              "    'language': 'en',\n",
              "    'previewLink': 'http://books.google.com/books?id=LRlCAAAAYAAJ&q=flowers+inauthor:keyes&dq=flowers+inauthor:keyes&hl=&cd=7&source=gbs_api',\n",
              "    'infoLink': 'http://books.google.com/books?id=LRlCAAAAYAAJ&dq=flowers+inauthor:keyes&hl=&source=gbs_api',\n",
              "    'canonicalVolumeLink': 'https://books.google.com/books/about/Some_Environmental_Factors_Influencing_B.html?hl=&id=LRlCAAAAYAAJ'},\n",
              "   'saleInfo': {'country': 'US',\n",
              "    'saleability': 'NOT_FOR_SALE',\n",
              "    'isEbook': False},\n",
              "   'accessInfo': {'country': 'US',\n",
              "    'viewability': 'NO_PAGES',\n",
              "    'embeddable': False,\n",
              "    'publicDomain': False,\n",
              "    'textToSpeechPermission': 'ALLOWED',\n",
              "    'epub': {'isAvailable': False},\n",
              "    'pdf': {'isAvailable': False},\n",
              "    'webReaderLink': 'http://play.google.com/books/reader?id=LRlCAAAAYAAJ&hl=&printsec=frontcover&source=gbs_api',\n",
              "    'accessViewStatus': 'NONE',\n",
              "    'quoteSharingAllowed': False},\n",
              "   'searchInfo': {'textSnippet': 'Quo relation concernino <b>flower</b> production was consistantly observed, and too <br>\\nwas one correlation botvos., abscission aiki flows: production. ...eliever <b>flower</b> <br>\\nproduction was increasod too amount of bid abscission that took placs was fixed <br>\\nas&nbsp;...'}},\n",
              "  {'kind': 'books#volume',\n",
              "   'id': 'uCqioAEACAAJ',\n",
              "   'etag': 'tDCUJjyf2yk',\n",
              "   'selfLink': 'https://www.googleapis.com/books/v1/volumes/uCqioAEACAAJ',\n",
              "   'volumeInfo': {'title': 'Flowers for Algernon - Downloadable Multiple Critical Perspectives',\n",
              "    'authors': ['Daniel Keyes'],\n",
              "    'publishedDate': '2011-01-01',\n",
              "    'description': 'Probe the depth and richness of your favorite titles and usher your students into an understanding of what really made us want to teach literature in the first place. Each guide offers clear and concise explanations of three different critical perspectives.',\n",
              "    'industryIdentifiers': [{'type': 'ISBN_10', 'identifier': '1935467972'},\n",
              "     {'type': 'ISBN_13', 'identifier': '9781935467977'}],\n",
              "    'readingModes': {'text': False, 'image': False},\n",
              "    'printType': 'BOOK',\n",
              "    'maturityRating': 'NOT_MATURE',\n",
              "    'allowAnonLogging': False,\n",
              "    'contentVersion': 'preview-1.0.0',\n",
              "    'language': 'en',\n",
              "    'previewLink': 'http://books.google.com/books?id=uCqioAEACAAJ&dq=flowers+inauthor:keyes&hl=&cd=8&source=gbs_api',\n",
              "    'infoLink': 'http://books.google.com/books?id=uCqioAEACAAJ&dq=flowers+inauthor:keyes&hl=&source=gbs_api',\n",
              "    'canonicalVolumeLink': 'https://books.google.com/books/about/Flowers_for_Algernon_Downloadable_Multip.html?hl=&id=uCqioAEACAAJ'},\n",
              "   'saleInfo': {'country': 'US',\n",
              "    'saleability': 'NOT_FOR_SALE',\n",
              "    'isEbook': False},\n",
              "   'accessInfo': {'country': 'US',\n",
              "    'viewability': 'NO_PAGES',\n",
              "    'embeddable': False,\n",
              "    'publicDomain': False,\n",
              "    'textToSpeechPermission': 'ALLOWED',\n",
              "    'epub': {'isAvailable': False},\n",
              "    'pdf': {'isAvailable': False},\n",
              "    'webReaderLink': 'http://play.google.com/books/reader?id=uCqioAEACAAJ&hl=&printsec=frontcover&source=gbs_api',\n",
              "    'accessViewStatus': 'NONE',\n",
              "    'quoteSharingAllowed': False},\n",
              "   'searchInfo': {'textSnippet': 'Probe the depth and richness of your favorite titles and usher your students into an understanding of what really made us want to teach literature in the first place.'}},\n",
              "  {'kind': 'books#volume',\n",
              "   'id': 'vcZJAAAAIAAJ',\n",
              "   'etag': 'dD/pRMWOB3E',\n",
              "   'selfLink': 'https://www.googleapis.com/books/v1/volumes/vcZJAAAAIAAJ',\n",
              "   'volumeInfo': {'title': 'Stories and Story-telling',\n",
              "    'authors': ['Angela Mary Keyes'],\n",
              "    'publishedDate': '1911',\n",
              "    'industryIdentifiers': [{'type': 'OTHER', 'identifier': 'UCAL:$B262932'}],\n",
              "    'readingModes': {'text': False, 'image': True},\n",
              "    'pageCount': 286,\n",
              "    'printType': 'BOOK',\n",
              "    'categories': ['Storytelling'],\n",
              "    'maturityRating': 'NOT_MATURE',\n",
              "    'allowAnonLogging': False,\n",
              "    'contentVersion': '0.2.3.0.full.1',\n",
              "    'panelizationSummary': {'containsEpubBubbles': False,\n",
              "     'containsImageBubbles': False},\n",
              "    'imageLinks': {'smallThumbnail': 'http://books.google.com/books/content?id=vcZJAAAAIAAJ&printsec=frontcover&img=1&zoom=5&edge=curl&source=gbs_api',\n",
              "     'thumbnail': 'http://books.google.com/books/content?id=vcZJAAAAIAAJ&printsec=frontcover&img=1&zoom=1&edge=curl&source=gbs_api'},\n",
              "    'language': 'en',\n",
              "    'previewLink': 'http://books.google.com/books?id=vcZJAAAAIAAJ&pg=PA100&dq=flowers+inauthor:keyes&hl=&cd=9&source=gbs_api',\n",
              "    'infoLink': 'https://play.google.com/store/books/details?id=vcZJAAAAIAAJ&source=gbs_api',\n",
              "    'canonicalVolumeLink': 'https://play.google.com/store/books/details?id=vcZJAAAAIAAJ'},\n",
              "   'saleInfo': {'country': 'US',\n",
              "    'saleability': 'FREE',\n",
              "    'isEbook': True,\n",
              "    'buyLink': 'https://play.google.com/store/books/details?id=vcZJAAAAIAAJ&rdid=book-vcZJAAAAIAAJ&rdot=1&source=gbs_api'},\n",
              "   'accessInfo': {'country': 'US',\n",
              "    'viewability': 'ALL_PAGES',\n",
              "    'embeddable': True,\n",
              "    'publicDomain': True,\n",
              "    'textToSpeechPermission': 'ALLOWED',\n",
              "    'epub': {'isAvailable': False,\n",
              "     'downloadLink': 'http://books.google.com/books/download/Stories_and_Story_telling.epub?id=vcZJAAAAIAAJ&hl=&output=epub&source=gbs_api'},\n",
              "    'pdf': {'isAvailable': True,\n",
              "     'downloadLink': 'http://books.google.com/books/download/Stories_and_Story_telling.pdf?id=vcZJAAAAIAAJ&hl=&output=pdf&sig=ACfU3U1ZlWJVN9HuKOKVjHyRzblks4jwng&source=gbs_api'},\n",
              "    'webReaderLink': 'http://play.google.com/books/reader?id=vcZJAAAAIAAJ&hl=&printsec=frontcover&source=gbs_api',\n",
              "    'accessViewStatus': 'FULL_PUBLIC_DOMAIN',\n",
              "    'quoteSharingAllowed': False},\n",
              "   'searchInfo': {'textSnippet': 'Pick out one of the splendid <b>flowers</b> you see down there, and I will set you down <br>\\nin it.” “That will be a beautiful home,” cried Thumbelina, and clapped her hands. <br>\\nShe chose a great white <b>flower</b>. The swallow flew down with her and set her on&nbsp;...'}},\n",
              "  {'kind': 'books#volume',\n",
              "   'id': '6WrhAAAAMAAJ',\n",
              "   'etag': 'aUqYL+tt4G0',\n",
              "   'selfLink': 'https://www.googleapis.com/books/v1/volumes/6WrhAAAAMAAJ',\n",
              "   'volumeInfo': {'title': 'Algernon, Charlie, and I',\n",
              "    'subtitle': 'A Writer\\'s Journey : Plus the Complete Original Short Novelette Version of \"Flowers for Algernon\"',\n",
              "    'authors': ['Daniel Keyes'],\n",
              "    'publisher': 'Challenge PressInc',\n",
              "    'publishedDate': '1999',\n",
              "    'description': 'The author shares his creative processes, revealing the life experiences leading to the creation of Charlie Gordon and tracing the evolution of the novelette into a novel, stage production, cinema production, and TV movie.',\n",
              "    'industryIdentifiers': [{'type': 'OTHER',\n",
              "      'identifier': 'UOM:39015049675906'}],\n",
              "    'readingModes': {'text': False, 'image': False},\n",
              "    'pageCount': 223,\n",
              "    'printType': 'BOOK',\n",
              "    'categories': ['Biography & Autobiography'],\n",
              "    'averageRating': 4,\n",
              "    'ratingsCount': 1,\n",
              "    'maturityRating': 'NOT_MATURE',\n",
              "    'allowAnonLogging': False,\n",
              "    'contentVersion': 'preview-1.0.0',\n",
              "    'imageLinks': {'smallThumbnail': 'http://books.google.com/books/content?id=6WrhAAAAMAAJ&printsec=frontcover&img=1&zoom=5&source=gbs_api',\n",
              "     'thumbnail': 'http://books.google.com/books/content?id=6WrhAAAAMAAJ&printsec=frontcover&img=1&zoom=1&source=gbs_api'},\n",
              "    'language': 'en',\n",
              "    'previewLink': 'http://books.google.com/books?id=6WrhAAAAMAAJ&q=flowers+inauthor:keyes&dq=flowers+inauthor:keyes&hl=&cd=10&source=gbs_api',\n",
              "    'infoLink': 'http://books.google.com/books?id=6WrhAAAAMAAJ&dq=flowers+inauthor:keyes&hl=&source=gbs_api',\n",
              "    'canonicalVolumeLink': 'https://books.google.com/books/about/Algernon_Charlie_and_I.html?hl=&id=6WrhAAAAMAAJ'},\n",
              "   'saleInfo': {'country': 'US',\n",
              "    'saleability': 'NOT_FOR_SALE',\n",
              "    'isEbook': False},\n",
              "   'accessInfo': {'country': 'US',\n",
              "    'viewability': 'NO_PAGES',\n",
              "    'embeddable': False,\n",
              "    'publicDomain': False,\n",
              "    'textToSpeechPermission': 'ALLOWED',\n",
              "    'epub': {'isAvailable': False},\n",
              "    'pdf': {'isAvailable': False},\n",
              "    'webReaderLink': 'http://play.google.com/books/reader?id=6WrhAAAAMAAJ&hl=&printsec=frontcover&source=gbs_api',\n",
              "    'accessViewStatus': 'NONE',\n",
              "    'quoteSharingAllowed': False},\n",
              "   'searchInfo': {'textSnippet': 'The author shares his creative processes, revealing the life experiences leading to the creation of Charlie Gordon and tracing the evolution of the novelette into a novel, stage production, cinema production, and TV movie.'}}]}"
            ]
          },
          "metadata": {
            "tags": []
          },
          "execution_count": 105
        }
      ]
    },
    {
      "cell_type": "markdown",
      "metadata": {
        "id": "Hj3yPmlFlUT6",
        "colab_type": "text"
      },
      "source": [
        "## Extracting necessary information to send to Web"
      ]
    },
    {
      "cell_type": "code",
      "metadata": {
        "id": "WzifRlaAlUT7",
        "colab_type": "code",
        "colab": {},
        "outputId": "6e18fcea-0af1-44c0-f67b-7874ae786afc"
      },
      "source": [
        "# Results are in ['items'], and by default there are 10 results\n",
        "print('Top level heirarchy:', sample_api_result.keys(),'\\n')\n",
        "print(\"type(sample_api_results['items']) = \", type(sample_api_result['items']))\n",
        "print(\"len(sample_api_result['items']) = \", len(sample_api_result['items']))"
      ],
      "execution_count": 0,
      "outputs": [
        {
          "output_type": "stream",
          "text": [
            "Top level heirarchy: dict_keys(['kind', 'totalItems', 'items']) \n",
            "\n",
            "type(sample_api_results['items']) =  <class 'list'>\n",
            "len(sample_api_result['items']) =  10\n"
          ],
          "name": "stdout"
        }
      ]
    },
    {
      "cell_type": "code",
      "metadata": {
        "collapsed": true,
        "jupyter": {
          "outputs_hidden": true
        },
        "id": "BszPEe0hlUUN",
        "colab_type": "code",
        "colab": {},
        "outputId": "fbbd5f0e-e644-4767-b4bb-f81e3b5e9024"
      },
      "source": [
        "# Information stored in one record\n",
        "sample_api_result['items'][0]"
      ],
      "execution_count": 0,
      "outputs": [
        {
          "output_type": "execute_result",
          "data": {
            "text/plain": [
              "{'kind': 'books#volume',\n",
              " 'id': 'gK98gXR8onwC',\n",
              " 'etag': 'ym8oWidtoE0',\n",
              " 'selfLink': 'https://www.googleapis.com/books/v1/volumes/gK98gXR8onwC',\n",
              " 'volumeInfo': {'title': 'Flowers for Algernon',\n",
              "  'subtitle': 'A One-act Play',\n",
              "  'authors': ['David Rogers', 'Daniel Keyes'],\n",
              "  'publisher': 'Dramatic Publishing',\n",
              "  'publishedDate': '1969',\n",
              "  'industryIdentifiers': [{'type': 'ISBN_10', 'identifier': '0871293870'},\n",
              "   {'type': 'ISBN_13', 'identifier': '9780871293879'}],\n",
              "  'readingModes': {'text': False, 'image': True},\n",
              "  'pageCount': 32,\n",
              "  'printType': 'BOOK',\n",
              "  'averageRating': 5,\n",
              "  'ratingsCount': 1,\n",
              "  'maturityRating': 'NOT_MATURE',\n",
              "  'allowAnonLogging': False,\n",
              "  'contentVersion': '0.0.2.0.preview.1',\n",
              "  'panelizationSummary': {'containsEpubBubbles': False,\n",
              "   'containsImageBubbles': False},\n",
              "  'imageLinks': {'smallThumbnail': 'http://books.google.com/books/content?id=gK98gXR8onwC&printsec=frontcover&img=1&zoom=5&edge=curl&source=gbs_api',\n",
              "   'thumbnail': 'http://books.google.com/books/content?id=gK98gXR8onwC&printsec=frontcover&img=1&zoom=1&edge=curl&source=gbs_api'},\n",
              "  'language': 'en',\n",
              "  'previewLink': 'http://books.google.com/books?id=gK98gXR8onwC&pg=PA3&dq=flowers+inauthor:keyes&hl=&cd=1&source=gbs_api',\n",
              "  'infoLink': 'http://books.google.com/books?id=gK98gXR8onwC&dq=flowers+inauthor:keyes&hl=&source=gbs_api',\n",
              "  'canonicalVolumeLink': 'https://books.google.com/books/about/Flowers_for_Algernon.html?hl=&id=gK98gXR8onwC'},\n",
              " 'saleInfo': {'country': 'US',\n",
              "  'saleability': 'NOT_FOR_SALE',\n",
              "  'isEbook': False},\n",
              " 'accessInfo': {'country': 'US',\n",
              "  'viewability': 'PARTIAL',\n",
              "  'embeddable': True,\n",
              "  'publicDomain': False,\n",
              "  'textToSpeechPermission': 'ALLOWED',\n",
              "  'epub': {'isAvailable': False},\n",
              "  'pdf': {'isAvailable': False},\n",
              "  'webReaderLink': 'http://play.google.com/books/reader?id=gK98gXR8onwC&hl=&printsec=frontcover&source=gbs_api',\n",
              "  'accessViewStatus': 'SAMPLE',\n",
              "  'quoteSharingAllowed': False},\n",
              " 'searchInfo': {'textSnippet': '<b>FLOWERS</b> FOR ALGERNON A One-act Play For Four Men And One Woman” <br>\\nCHARACTERS DR. STRAUSS . . . . . . . . . . . . . . . . . . . a young neurosurgeon <br>\\nPROFESSOR NEMUR . . . . . . . . . . . . . . . . his older colleague ALICE KINNIAN&nbsp;...'}}"
            ]
          },
          "metadata": {
            "tags": []
          },
          "execution_count": 24
        }
      ]
    },
    {
      "cell_type": "code",
      "metadata": {
        "id": "IDvUlidSlUUs",
        "colab_type": "code",
        "colab": {}
      },
      "source": [
        "def retreive_details(json_dict,keys_to_extract):\n",
        "    \"\"\"\n",
        "    This is a function that searches through a dictionary, and\n",
        "    retreives keys that match keys from a list. This function is \n",
        "    will find matching keys in every level of the heirarchy.\n",
        "    \n",
        "    Inputs:\n",
        "    json_dict       -  A dictionary expected to be from json.loads() \n",
        "                       but any dictionary with JSON-like formatting\n",
        "                       will do\n",
        "    keys_to_extract -  A list of keys that you want to extract from the \n",
        "                       json_dict object\n",
        "                       \n",
        "    Output:\n",
        "    new_dict        -  A new \"flattened\"dictionary with all the matching keys. \n",
        "                       All the keys are in the top level \n",
        "    \"\"\"\n",
        "    new_dict={}\n",
        "    for item in json_dict.keys():\n",
        "        if type(json_dict[item]) is dict:\n",
        "            temp_dict = retreive_details(json_dict[item],keys_to_extract)\n",
        "            new_dict.update(temp_dict)\n",
        "        if item in keys_to_extract:\n",
        "            new_dict[item] = json_dict[item] \n",
        "    return new_dict"
      ],
      "execution_count": 0,
      "outputs": []
    },
    {
      "cell_type": "code",
      "metadata": {
        "id": "7zPtRMtIlUVE",
        "colab_type": "code",
        "colab": {}
      },
      "source": [
        "# The details (keys) to extract from the json object\n",
        "relevant_details=['id','title','authors','publisher',\n",
        "                  'publishedDate','description','industryIdentifiers',\n",
        "                  'pageCount','categories','thumbnail','smallThumbnail',\n",
        "                  'language','webReaderLink','textSnippet','isEbook',\n",
        "                  'averageRating']"
      ],
      "execution_count": 0,
      "outputs": []
    },
    {
      "cell_type": "code",
      "metadata": {
        "id": "4YJ9B4kAlUVk",
        "colab_type": "code",
        "colab": {},
        "outputId": "1d8484e1-cdec-49dd-f5f1-f594492be459"
      },
      "source": [
        "my_new_dictionary = retreive_details(sample_api_result['items'][0],relevant_details)\n",
        "my_new_dictionary"
      ],
      "execution_count": 0,
      "outputs": [
        {
          "output_type": "execute_result",
          "data": {
            "text/plain": [
              "{'id': 'gK98gXR8onwC',\n",
              " 'title': 'Flowers for Algernon',\n",
              " 'authors': ['David Rogers', 'Daniel Keyes'],\n",
              " 'publisher': 'Dramatic Publishing',\n",
              " 'publishedDate': '1969',\n",
              " 'industryIdentifiers': [{'type': 'ISBN_10', 'identifier': '0871293870'},\n",
              "  {'type': 'ISBN_13', 'identifier': '9780871293879'}],\n",
              " 'pageCount': 32,\n",
              " 'smallThumbnail': 'http://books.google.com/books/content?id=gK98gXR8onwC&printsec=frontcover&img=1&zoom=5&edge=curl&source=gbs_api',\n",
              " 'thumbnail': 'http://books.google.com/books/content?id=gK98gXR8onwC&printsec=frontcover&img=1&zoom=1&edge=curl&source=gbs_api',\n",
              " 'language': 'en',\n",
              " 'isEbook': False,\n",
              " 'webReaderLink': 'http://play.google.com/books/reader?id=gK98gXR8onwC&hl=&printsec=frontcover&source=gbs_api',\n",
              " 'textSnippet': '<b>FLOWERS</b> FOR ALGERNON A One-act Play For Four Men And One Woman” <br>\\nCHARACTERS DR. STRAUSS . . . . . . . . . . . . . . . . . . . a young neurosurgeon <br>\\nPROFESSOR NEMUR . . . . . . . . . . . . . . . . his older colleague ALICE KINNIAN&nbsp;...'}"
            ]
          },
          "metadata": {
            "tags": []
          },
          "execution_count": 36
        }
      ]
    },
    {
      "cell_type": "code",
      "metadata": {
        "id": "cDJ3MgWJlUVu",
        "colab_type": "code",
        "colab": {}
      },
      "source": [
        "# Loop over all the entries in the items list to \n",
        "# process all the books into the format that the API endpoint requires\n",
        "\n",
        "my_dict_list = []\n",
        "for item in a['items']:\n",
        "    temp_dict = retreive_details(item,relevant_details)\n",
        "    my_dict_list.append(temp_dict)\n"
      ],
      "execution_count": 0,
      "outputs": []
    },
    {
      "cell_type": "code",
      "metadata": {
        "collapsed": true,
        "jupyter": {
          "outputs_hidden": true
        },
        "id": "WeFMZEq0lUWE",
        "colab_type": "code",
        "colab": {},
        "outputId": "af3009b1-6cb1-42ae-a3a7-68961b05254e"
      },
      "source": [
        "my_dict_list"
      ],
      "execution_count": 0,
      "outputs": [
        {
          "output_type": "execute_result",
          "data": {
            "text/plain": [
              "[{'id': 'gK98gXR8onwC',\n",
              "  'title': 'Flowers for Algernon',\n",
              "  'authors': ['David Rogers', 'Daniel Keyes'],\n",
              "  'publisher': 'Dramatic Publishing',\n",
              "  'publishedDate': '1969',\n",
              "  'industryIdentifiers': [{'type': 'ISBN_10', 'identifier': '0871293870'},\n",
              "   {'type': 'ISBN_13', 'identifier': '9780871293879'}],\n",
              "  'pageCount': 32,\n",
              "  'smallThumbnail': 'http://books.google.com/books/content?id=gK98gXR8onwC&printsec=frontcover&img=1&zoom=5&edge=curl&source=gbs_api',\n",
              "  'thumbnail': 'http://books.google.com/books/content?id=gK98gXR8onwC&printsec=frontcover&img=1&zoom=1&edge=curl&source=gbs_api',\n",
              "  'language': 'en',\n",
              "  'isEbook': False,\n",
              "  'webReaderLink': 'http://play.google.com/books/reader?id=gK98gXR8onwC&hl=&printsec=frontcover&source=gbs_api',\n",
              "  'textSnippet': '<b>FLOWERS</b> FOR ALGERNON A One-act Play For Four Men And One Woman” <br>\\nCHARACTERS DR. STRAUSS . . . . . . . . . . . . . . . . . . . a young neurosurgeon <br>\\nPROFESSOR NEMUR . . . . . . . . . . . . . . . . his older colleague ALICE KINNIAN&nbsp;...'},\n",
              " {'id': '_oG_iTxP1pIC',\n",
              "  'title': 'Flowers for Algernon',\n",
              "  'authors': ['Daniel Keyes'],\n",
              "  'publisher': 'Houghton Mifflin Harcourt',\n",
              "  'publishedDate': '2007-12-01',\n",
              "  'description': 'Oscar-winning film Charly starring Cliff Robertson and Claire Bloom-a mentally challenged man receives an operation that turns him into a genius...and introduces him to heartache.',\n",
              "  'industryIdentifiers': [{'type': 'ISBN_10', 'identifier': '0547539630'},\n",
              "   {'type': 'ISBN_13', 'identifier': '9780547539638'}],\n",
              "  'pageCount': 304,\n",
              "  'categories': ['Fiction'],\n",
              "  'smallThumbnail': 'http://books.google.com/books/content?id=_oG_iTxP1pIC&printsec=frontcover&img=1&zoom=5&edge=curl&source=gbs_api',\n",
              "  'thumbnail': 'http://books.google.com/books/content?id=_oG_iTxP1pIC&printsec=frontcover&img=1&zoom=1&edge=curl&source=gbs_api',\n",
              "  'language': 'en',\n",
              "  'isEbook': True,\n",
              "  'webReaderLink': 'http://play.google.com/books/reader?id=_oG_iTxP1pIC&hl=&printsec=frontcover&source=gbs_api'},\n",
              " {'id': 'wAUiAAAAMAAJ',\n",
              "  'title': 'Evan Dale',\n",
              "  'authors': ['F. Keyes'],\n",
              "  'publishedDate': '1864',\n",
              "  'industryIdentifiers': [{'type': 'OTHER',\n",
              "    'identifier': 'NYPL:33433074876743'}],\n",
              "  'pageCount': 387,\n",
              "  'smallThumbnail': 'http://books.google.com/books/content?id=wAUiAAAAMAAJ&printsec=frontcover&img=1&zoom=5&edge=curl&source=gbs_api',\n",
              "  'thumbnail': 'http://books.google.com/books/content?id=wAUiAAAAMAAJ&printsec=frontcover&img=1&zoom=1&edge=curl&source=gbs_api',\n",
              "  'language': 'en',\n",
              "  'isEbook': True,\n",
              "  'webReaderLink': 'http://play.google.com/books/reader?id=wAUiAAAAMAAJ&hl=&printsec=frontcover&source=gbs_api',\n",
              "  'textSnippet': 'crushed on the unfeeling <b>flowers</b> of the carpet, take it tip tenderly, and curse the <br>\\nfoot that spoiled it. For the rest of the evening Carleton was on an extensive <br>\\nsearch of discovery for the missing <b>flower</b>. In truth, he was in great danger of <br>\\nbecoming&nbsp;...'},\n",
              " {'id': 'wYB5PwAACAAJ',\n",
              "  'title': 'Bloemen Voor Algernon',\n",
              "  'authors': ['Daniel Keyes'],\n",
              "  'publisher': 'Bantam Books',\n",
              "  'publishedDate': '1984-05-01',\n",
              "  'description': 'With more than five million copies sold, \"Flowers for Algernon\" is the beloved, classic story of a mentally disabled man whose experimental quest for intelligence mirrors that of Algernon, an extraordinary lab mouse. High school and older.',\n",
              "  'industryIdentifiers': [{'type': 'ISBN_10', 'identifier': '0553169041'},\n",
              "   {'type': 'ISBN_13', 'identifier': '9780553169041'}],\n",
              "  'pageCount': 72,\n",
              "  'language': 'en',\n",
              "  'isEbook': False,\n",
              "  'webReaderLink': 'http://play.google.com/books/reader?id=wYB5PwAACAAJ&hl=&printsec=frontcover&source=gbs_api',\n",
              "  'textSnippet': 'With more than five million copies sold, &quot;Flowers for Algernon&quot; is the beloved, classic story of a mentally disabled man whose experimental quest for intelligence mirrors that of Algernon, an extraordinary lab mouse. High school and older.'},\n",
              " {'id': 'jQxIAQAAMAAJ',\n",
              "  'title': 'The Five Senses',\n",
              "  'authors': ['Angela Mary Keyes'],\n",
              "  'publishedDate': '1911',\n",
              "  'industryIdentifiers': [{'type': 'OTHER',\n",
              "    'identifier': 'IOWA:31858006011708'}],\n",
              "  'pageCount': 252,\n",
              "  'categories': ['Senses and sensation'],\n",
              "  'smallThumbnail': 'http://books.google.com/books/content?id=jQxIAQAAMAAJ&printsec=frontcover&img=1&zoom=5&edge=curl&source=gbs_api',\n",
              "  'thumbnail': 'http://books.google.com/books/content?id=jQxIAQAAMAAJ&printsec=frontcover&img=1&zoom=1&edge=curl&source=gbs_api',\n",
              "  'language': 'en',\n",
              "  'isEbook': True,\n",
              "  'webReaderLink': 'http://play.google.com/books/reader?id=jQxIAQAAMAAJ&hl=&printsec=frontcover&source=gbs_api',\n",
              "  'textSnippet': 'In field and garden the <b>flowers</b> no longer stood forth gaily in their brightest colors. <br>\\nButtercups and daisies bent on their ... “And O, Nell,” cried Ned, “there are no air <br>\\nships taking callers from <b>flower</b> to <b>flower</b>.” “No,” said Nell, “perhaps it is too wet&nbsp;...'},\n",
              " {'id': 'xYK5oAEACAAJ',\n",
              "  'title': 'Flowers for Algernon - Multiple Critical Perspectives',\n",
              "  'authors': ['Daniel Keyes'],\n",
              "  'publishedDate': '2011-01-01',\n",
              "  'description': 'Probe the depth and richness of your favorite titles and usher your students into an understanding of what really made us want to teach literature in the first place. Each guide offers clear and concise explanations of three different critical perspectives.',\n",
              "  'industryIdentifiers': [{'type': 'ISBN_10', 'identifier': '1935467964'},\n",
              "   {'type': 'ISBN_13', 'identifier': '9781935467960'}],\n",
              "  'language': 'en',\n",
              "  'isEbook': False,\n",
              "  'webReaderLink': 'http://play.google.com/books/reader?id=xYK5oAEACAAJ&hl=&printsec=frontcover&source=gbs_api',\n",
              "  'textSnippet': 'Probe the depth and richness of your favorite titles and usher your students into an understanding of what really made us want to teach literature in the first place.'},\n",
              " {'id': 'LRlCAAAAYAAJ',\n",
              "  'title': 'Some Environmental Factors Influencing Bud Formation, Abscission and Flower Production of Gardenias',\n",
              "  'authors': ['Curtis Gilbert Keyes'],\n",
              "  'publishedDate': '1946',\n",
              "  'industryIdentifiers': [{'type': 'OTHER',\n",
              "    'identifier': 'CORNELL:31924002987646'}],\n",
              "  'pageCount': 190,\n",
              "  'categories': ['Gardenia'],\n",
              "  'smallThumbnail': 'http://books.google.com/books/content?id=LRlCAAAAYAAJ&printsec=frontcover&img=1&zoom=5&source=gbs_api',\n",
              "  'thumbnail': 'http://books.google.com/books/content?id=LRlCAAAAYAAJ&printsec=frontcover&img=1&zoom=1&source=gbs_api',\n",
              "  'language': 'en',\n",
              "  'isEbook': False,\n",
              "  'webReaderLink': 'http://play.google.com/books/reader?id=LRlCAAAAYAAJ&hl=&printsec=frontcover&source=gbs_api',\n",
              "  'textSnippet': 'Quo relation concernino <b>flower</b> production was consistantly observed, and too <br>\\nwas one correlation botvos., abscission aiki flows: production. ...eliever <b>flower</b> <br>\\nproduction was increasod too amount of bid abscission that took placs was fixed <br>\\nas&nbsp;...'},\n",
              " {'id': 'uCqioAEACAAJ',\n",
              "  'title': 'Flowers for Algernon - Downloadable Multiple Critical Perspectives',\n",
              "  'authors': ['Daniel Keyes'],\n",
              "  'publishedDate': '2011-01-01',\n",
              "  'description': 'Probe the depth and richness of your favorite titles and usher your students into an understanding of what really made us want to teach literature in the first place. Each guide offers clear and concise explanations of three different critical perspectives.',\n",
              "  'industryIdentifiers': [{'type': 'ISBN_10', 'identifier': '1935467972'},\n",
              "   {'type': 'ISBN_13', 'identifier': '9781935467977'}],\n",
              "  'language': 'en',\n",
              "  'isEbook': False,\n",
              "  'webReaderLink': 'http://play.google.com/books/reader?id=uCqioAEACAAJ&hl=&printsec=frontcover&source=gbs_api',\n",
              "  'textSnippet': 'Probe the depth and richness of your favorite titles and usher your students into an understanding of what really made us want to teach literature in the first place.'},\n",
              " {'id': 'vcZJAAAAIAAJ',\n",
              "  'title': 'Stories and Story-telling',\n",
              "  'authors': ['Angela Mary Keyes'],\n",
              "  'publishedDate': '1911',\n",
              "  'industryIdentifiers': [{'type': 'OTHER', 'identifier': 'UCAL:$B262932'}],\n",
              "  'pageCount': 286,\n",
              "  'categories': ['Storytelling'],\n",
              "  'smallThumbnail': 'http://books.google.com/books/content?id=vcZJAAAAIAAJ&printsec=frontcover&img=1&zoom=5&edge=curl&source=gbs_api',\n",
              "  'thumbnail': 'http://books.google.com/books/content?id=vcZJAAAAIAAJ&printsec=frontcover&img=1&zoom=1&edge=curl&source=gbs_api',\n",
              "  'language': 'en',\n",
              "  'isEbook': True,\n",
              "  'webReaderLink': 'http://play.google.com/books/reader?id=vcZJAAAAIAAJ&hl=&printsec=frontcover&source=gbs_api',\n",
              "  'textSnippet': 'Pick out one of the splendid <b>flowers</b> you see down there, and I will set you down <br>\\nin it.” “That will be a beautiful home,” cried Thumbelina, and clapped her hands. <br>\\nShe chose a great white <b>flower</b>. The swallow flew down with her and set her on&nbsp;...'},\n",
              " {'id': '6WrhAAAAMAAJ',\n",
              "  'title': 'Algernon, Charlie, and I',\n",
              "  'authors': ['Daniel Keyes'],\n",
              "  'publisher': 'Challenge PressInc',\n",
              "  'publishedDate': '1999',\n",
              "  'description': 'The author shares his creative processes, revealing the life experiences leading to the creation of Charlie Gordon and tracing the evolution of the novelette into a novel, stage production, cinema production, and TV movie.',\n",
              "  'industryIdentifiers': [{'type': 'OTHER',\n",
              "    'identifier': 'UOM:39015049675906'}],\n",
              "  'pageCount': 223,\n",
              "  'categories': ['Biography & Autobiography'],\n",
              "  'smallThumbnail': 'http://books.google.com/books/content?id=6WrhAAAAMAAJ&printsec=frontcover&img=1&zoom=5&source=gbs_api',\n",
              "  'thumbnail': 'http://books.google.com/books/content?id=6WrhAAAAMAAJ&printsec=frontcover&img=1&zoom=1&source=gbs_api',\n",
              "  'language': 'en',\n",
              "  'isEbook': False,\n",
              "  'webReaderLink': 'http://play.google.com/books/reader?id=6WrhAAAAMAAJ&hl=&printsec=frontcover&source=gbs_api',\n",
              "  'textSnippet': 'The author shares his creative processes, revealing the life experiences leading to the creation of Charlie Gordon and tracing the evolution of the novelette into a novel, stage production, cinema production, and TV movie.'}]"
            ]
          },
          "metadata": {
            "tags": []
          },
          "execution_count": 38
        }
      ]
    },
    {
      "cell_type": "markdown",
      "metadata": {
        "id": "g5tcDcsXlUWS",
        "colab_type": "text"
      },
      "source": [
        "## Final Cleanup of information:\n",
        "The function defined earlier is generic, and so reusable. The data however still does not perfectly match the data model that the Web team is expecting. The ISBN informaiton needs to be unpacked, and the id key needs to change to googleid"
      ]
    },
    {
      "cell_type": "code",
      "metadata": {
        "id": "lEqkfDZGlUWV",
        "colab_type": "code",
        "colab": {},
        "outputId": "5efb1dfa-3a94-4ebd-e761-35eb214145ac"
      },
      "source": [
        "# Starting from cleaning one entry:\n",
        "a = retreive_details(sample_api_result['items'][0],relevant_details)\n",
        "a"
      ],
      "execution_count": 0,
      "outputs": [
        {
          "output_type": "execute_result",
          "data": {
            "text/plain": [
              "{'id': 'gK98gXR8onwC',\n",
              " 'title': 'Flowers for Algernon',\n",
              " 'authors': ['David Rogers', 'Daniel Keyes'],\n",
              " 'publisher': 'Dramatic Publishing',\n",
              " 'publishedDate': '1969',\n",
              " 'industryIdentifiers': [{'type': 'ISBN_10', 'identifier': '0871293870'},\n",
              "  {'type': 'ISBN_13', 'identifier': '9780871293879'}],\n",
              " 'pageCount': 32,\n",
              " 'averageRating': 5,\n",
              " 'ratingsCount': 1,\n",
              " 'smallThumbnail': 'http://books.google.com/books/content?id=gK98gXR8onwC&printsec=frontcover&img=1&zoom=5&edge=curl&source=gbs_api',\n",
              " 'thumbnail': 'http://books.google.com/books/content?id=gK98gXR8onwC&printsec=frontcover&img=1&zoom=1&edge=curl&source=gbs_api',\n",
              " 'language': 'en',\n",
              " 'isEbook': False,\n",
              " 'webReaderLink': 'http://play.google.com/books/reader?id=gK98gXR8onwC&hl=&printsec=frontcover&source=gbs_api',\n",
              " 'textSnippet': '<b>FLOWERS</b> FOR ALGERNON A One-act Play For Four Men And One Woman” <br>\\nCHARACTERS DR. STRAUSS . . . . . . . . . . . . . . . . . . . a young neurosurgeon <br>\\nPROFESSOR NEMUR . . . . . . . . . . . . . . . . his older colleague ALICE KINNIAN&nbsp;...'}"
            ]
          },
          "metadata": {
            "tags": []
          },
          "execution_count": 17
        }
      ]
    },
    {
      "cell_type": "code",
      "metadata": {
        "id": "ATjAuD6dlUWr",
        "colab_type": "code",
        "colab": {}
      },
      "source": [
        "my_dict = {}\n",
        "for i in a['industryIdentifiers']:\n",
        "    my_dict[(\"\".join(i['type'].split('_')).lower())] = i['identifier']"
      ],
      "execution_count": 0,
      "outputs": []
    },
    {
      "cell_type": "code",
      "metadata": {
        "id": "nQ5cNrltlUWx",
        "colab_type": "code",
        "colab": {},
        "outputId": "fe1b640d-09df-4494-b612-b8e5cd20a233"
      },
      "source": [
        "my_dict"
      ],
      "execution_count": 0,
      "outputs": [
        {
          "output_type": "execute_result",
          "data": {
            "text/plain": [
              "{'isbn10': '0871293870', 'isbn13': '9780871293879'}"
            ]
          },
          "metadata": {
            "tags": []
          },
          "execution_count": 51
        }
      ]
    },
    {
      "cell_type": "code",
      "metadata": {
        "id": "kPJ8YV4TlUW4",
        "colab_type": "code",
        "colab": {}
      },
      "source": [
        "# Add isbns to dictionary and remove the industryIdentifiers key\n",
        "a.update(my_dict)\n",
        "del a['industryIdentifiers']"
      ],
      "execution_count": 0,
      "outputs": []
    },
    {
      "cell_type": "code",
      "metadata": {
        "id": "N-6GO0tClUW8",
        "colab_type": "code",
        "colab": {}
      },
      "source": [
        "# Change id to googleId\n",
        "a['googleId']=a['id']\n",
        "del a['id']"
      ],
      "execution_count": 0,
      "outputs": []
    },
    {
      "cell_type": "code",
      "metadata": {
        "id": "71QgZyN8lUXB",
        "colab_type": "code",
        "colab": {},
        "outputId": "a7c8ca7a-8efe-4251-93bd-d5cd118dfd4a"
      },
      "source": [
        "# final result\n",
        "a"
      ],
      "execution_count": 0,
      "outputs": [
        {
          "output_type": "execute_result",
          "data": {
            "text/plain": [
              "{'title': 'Flowers for Algernon',\n",
              " 'authors': ['David Rogers', 'Daniel Keyes'],\n",
              " 'publisher': 'Dramatic Publishing',\n",
              " 'publishedDate': '1969',\n",
              " 'pageCount': 32,\n",
              " 'smallThumbnail': 'http://books.google.com/books/content?id=gK98gXR8onwC&printsec=frontcover&img=1&zoom=5&edge=curl&source=gbs_api',\n",
              " 'thumbnail': 'http://books.google.com/books/content?id=gK98gXR8onwC&printsec=frontcover&img=1&zoom=1&edge=curl&source=gbs_api',\n",
              " 'language': 'en',\n",
              " 'isEbook': False,\n",
              " 'webReaderLink': 'http://play.google.com/books/reader?id=gK98gXR8onwC&hl=&printsec=frontcover&source=gbs_api',\n",
              " 'textSnippet': '<b>FLOWERS</b> FOR ALGERNON A One-act Play For Four Men And One Woman” <br>\\nCHARACTERS DR. STRAUSS . . . . . . . . . . . . . . . . . . . a young neurosurgeon <br>\\nPROFESSOR NEMUR . . . . . . . . . . . . . . . . his older colleague ALICE KINNIAN&nbsp;...',\n",
              " 'isbn10': '0871293870',\n",
              " 'isbn13': '9780871293879',\n",
              " 'googleId': 'gK98gXR8onwC'}"
            ]
          },
          "metadata": {
            "tags": []
          },
          "execution_count": 56
        }
      ]
    },
    {
      "cell_type": "markdown",
      "metadata": {
        "id": "BoxrGtCwlUXU",
        "colab_type": "text"
      },
      "source": [
        "An initial concern was the ordering of the dictionary, but whenever any sort of dictionary-like object is accessed it is accessed through a call to the key, so order doesn't matter. Another concern is null values. The Web team has dealt with exception handling, so explicit null values are not required."
      ]
    },
    {
      "cell_type": "code",
      "metadata": {
        "id": "4kDad-V_lUXk",
        "colab_type": "code",
        "colab": {}
      },
      "source": [
        "def clean(input_dict):\n",
        "    \"\"\"\n",
        "    This function reformats isbns, and modifies the id name\n",
        "    from a dictionary returned from retreive_details. It also \n",
        "    changes the id key to googleId to match the format that the\n",
        "    API endpoint specifies.\n",
        "    \n",
        "    Input:\n",
        "    input_dict  - a dictionary with only relevant keys.\n",
        "                -\n",
        "    \"\"\"\n",
        "    \n",
        "    my_dict = {}\n",
        "    \n",
        "    # Change the format of the isbn data\n",
        "    try:\n",
        "        for i in input_dict['industryIdentifiers']:\n",
        "            my_dict[(\"\".join(i['type'].split('_')).lower())] = i['identifier']\n",
        "\n",
        "        # Add isbns to dictionary and remove the industryIdentifiers key\n",
        "        input_dict.update(my_dict)\n",
        "        del input_dict['industryIdentifiers']\n",
        "    except KeyError:\n",
        "        pass\n",
        "    \n",
        "    # Change id to googleId\n",
        "    \n",
        "    # Try/except should not be necessary here.\n",
        "    # Google Books always returns an id\n",
        "    input_dict['googleId']=input_dict['id']\n",
        "    del input_dict['id']\n",
        "    \n",
        "    return input_dict"
      ],
      "execution_count": 0,
      "outputs": []
    },
    {
      "cell_type": "code",
      "metadata": {
        "id": "Pd5NHR3hlUX0",
        "colab_type": "code",
        "colab": {},
        "outputId": "ce960b8c-acbb-435c-9a07-ef977b5e4720"
      },
      "source": [
        "# Testing out cleaning functionality\n",
        "a = retreive_details(sample_api_result['items'][0],relevant_details)\n",
        "b = clean(a)\n",
        "b"
      ],
      "execution_count": 0,
      "outputs": [
        {
          "output_type": "execute_result",
          "data": {
            "text/plain": [
              "{'title': 'Flowers for Algernon',\n",
              " 'authors': ['David Rogers', 'Daniel Keyes'],\n",
              " 'publisher': 'Dramatic Publishing',\n",
              " 'publishedDate': '1969',\n",
              " 'pageCount': 32,\n",
              " 'smallThumbnail': 'http://books.google.com/books/content?id=gK98gXR8onwC&printsec=frontcover&img=1&zoom=5&edge=curl&source=gbs_api',\n",
              " 'thumbnail': 'http://books.google.com/books/content?id=gK98gXR8onwC&printsec=frontcover&img=1&zoom=1&edge=curl&source=gbs_api',\n",
              " 'language': 'en',\n",
              " 'isEbook': False,\n",
              " 'webReaderLink': 'http://play.google.com/books/reader?id=gK98gXR8onwC&hl=&printsec=frontcover&source=gbs_api',\n",
              " 'textSnippet': '<b>FLOWERS</b> FOR ALGERNON A One-act Play For Four Men And One Woman” <br>\\nCHARACTERS DR. STRAUSS . . . . . . . . . . . . . . . . . . . a young neurosurgeon <br>\\nPROFESSOR NEMUR . . . . . . . . . . . . . . . . his older colleague ALICE KINNIAN&nbsp;...',\n",
              " 'isbn10': '0871293870',\n",
              " 'isbn13': '9780871293879',\n",
              " 'googleId': 'gK98gXR8onwC'}"
            ]
          },
          "metadata": {
            "tags": []
          },
          "execution_count": 106
        }
      ]
    },
    {
      "cell_type": "markdown",
      "metadata": {
        "id": "Fvg5UA3xlUX6",
        "colab_type": "text"
      },
      "source": [
        "## Putting everything into one function.\n"
      ]
    },
    {
      "cell_type": "code",
      "metadata": {
        "id": "S4bfoNzVlUX8",
        "colab_type": "code",
        "colab": {}
      },
      "source": [
        "def process_list(list_of_entries,keys_to_extract):\n",
        "    out_list = []\n",
        "    for i in list_of_entries:\n",
        "        parsed_dict = retreive_details(i,keys_to_extract)\n",
        "        clean_dict = clean(parsed_dict)\n",
        "        out_list.append(clean_dict)\n",
        "    return out_list"
      ],
      "execution_count": 0,
      "outputs": []
    },
    {
      "cell_type": "code",
      "metadata": {
        "id": "YgZWHnUulUYI",
        "colab_type": "code",
        "colab": {}
      },
      "source": [
        "response = requests.get('https://www.googleapis.com/books/v1/volumes?q=flowers+inauthor:keyes&key='+GOOGLE_KEY)"
      ],
      "execution_count": 0,
      "outputs": []
    },
    {
      "cell_type": "code",
      "metadata": {
        "id": "EdnWOzb-lUYU",
        "colab_type": "code",
        "colab": {}
      },
      "source": [
        "sample_api_result = json.loads(response.text)"
      ],
      "execution_count": 0,
      "outputs": []
    },
    {
      "cell_type": "code",
      "metadata": {
        "id": "bqaDq63alUY3",
        "colab_type": "code",
        "colab": {},
        "outputId": "7d6401b2-2e8b-4359-b78e-e4d5efdb8169"
      },
      "source": [
        "process_list(sample_api_result['items'],relevant_details)"
      ],
      "execution_count": 0,
      "outputs": [
        {
          "output_type": "execute_result",
          "data": {
            "text/plain": [
              "[{'title': 'Flowers for Algernon',\n",
              "  'authors': ['David Rogers', 'Daniel Keyes'],\n",
              "  'publisher': 'Dramatic Publishing',\n",
              "  'publishedDate': '1969',\n",
              "  'pageCount': 32,\n",
              "  'averageRating': 5,\n",
              "  'ratingsCount': 1,\n",
              "  'smallThumbnail': 'http://books.google.com/books/content?id=gK98gXR8onwC&printsec=frontcover&img=1&zoom=5&edge=curl&source=gbs_api',\n",
              "  'thumbnail': 'http://books.google.com/books/content?id=gK98gXR8onwC&printsec=frontcover&img=1&zoom=1&edge=curl&source=gbs_api',\n",
              "  'language': 'en',\n",
              "  'isEbook': False,\n",
              "  'webReaderLink': 'http://play.google.com/books/reader?id=gK98gXR8onwC&hl=&printsec=frontcover&source=gbs_api',\n",
              "  'textSnippet': '<b>FLOWERS</b> FOR ALGERNON A One-act Play For Four Men And One Woman” <br>\\nCHARACTERS DR. STRAUSS . . . . . . . . . . . . . . . . . . . a young neurosurgeon <br>\\nPROFESSOR NEMUR . . . . . . . . . . . . . . . . his older colleague ALICE KINNIAN&nbsp;...',\n",
              "  'isbn10': '0871293870',\n",
              "  'isbn13': '9780871293879',\n",
              "  'googleId': 'gK98gXR8onwC'},\n",
              " {'title': 'Flowers for Algernon',\n",
              "  'authors': ['Daniel Keyes'],\n",
              "  'publisher': 'Houghton Mifflin Harcourt',\n",
              "  'publishedDate': '2007-12-01',\n",
              "  'description': 'Oscar-winning film Charly starring Cliff Robertson and Claire Bloom-a mentally challenged man receives an operation that turns him into a genius...and introduces him to heartache.',\n",
              "  'pageCount': 304,\n",
              "  'categories': ['Fiction'],\n",
              "  'averageRating': 4,\n",
              "  'ratingsCount': 177,\n",
              "  'smallThumbnail': 'http://books.google.com/books/content?id=_oG_iTxP1pIC&printsec=frontcover&img=1&zoom=5&edge=curl&source=gbs_api',\n",
              "  'thumbnail': 'http://books.google.com/books/content?id=_oG_iTxP1pIC&printsec=frontcover&img=1&zoom=1&edge=curl&source=gbs_api',\n",
              "  'language': 'en',\n",
              "  'isEbook': True,\n",
              "  'webReaderLink': 'http://play.google.com/books/reader?id=_oG_iTxP1pIC&hl=&printsec=frontcover&source=gbs_api',\n",
              "  'isbn10': '0547539630',\n",
              "  'isbn13': '9780547539638',\n",
              "  'googleId': '_oG_iTxP1pIC'},\n",
              " {'title': 'Bloemen Voor Algernon',\n",
              "  'authors': ['Daniel Keyes'],\n",
              "  'publisher': 'Bantam Books',\n",
              "  'publishedDate': '1984-05-01',\n",
              "  'description': 'With more than five million copies sold, \"Flowers for Algernon\" is the beloved, classic story of a mentally disabled man whose experimental quest for intelligence mirrors that of Algernon, an extraordinary lab mouse. High school and older.',\n",
              "  'pageCount': 72,\n",
              "  'averageRating': 4,\n",
              "  'ratingsCount': 157,\n",
              "  'language': 'en',\n",
              "  'isEbook': False,\n",
              "  'webReaderLink': 'http://play.google.com/books/reader?id=wYB5PwAACAAJ&hl=&printsec=frontcover&source=gbs_api',\n",
              "  'textSnippet': 'With more than five million copies sold, &quot;Flowers for Algernon&quot; is the beloved, classic story of a mentally disabled man whose experimental quest for intelligence mirrors that of Algernon, an extraordinary lab mouse. High school and older.',\n",
              "  'isbn10': '0553169041',\n",
              "  'isbn13': '9780553169041',\n",
              "  'googleId': 'wYB5PwAACAAJ'},\n",
              " {'title': 'Evan Dale',\n",
              "  'authors': ['F. Keyes'],\n",
              "  'publishedDate': '1864',\n",
              "  'pageCount': 387,\n",
              "  'smallThumbnail': 'http://books.google.com/books/content?id=wAUiAAAAMAAJ&printsec=frontcover&img=1&zoom=5&edge=curl&source=gbs_api',\n",
              "  'thumbnail': 'http://books.google.com/books/content?id=wAUiAAAAMAAJ&printsec=frontcover&img=1&zoom=1&edge=curl&source=gbs_api',\n",
              "  'language': 'en',\n",
              "  'isEbook': True,\n",
              "  'webReaderLink': 'http://play.google.com/books/reader?id=wAUiAAAAMAAJ&hl=&printsec=frontcover&source=gbs_api',\n",
              "  'textSnippet': 'crushed on the unfeeling <b>flowers</b> of the carpet, take it tip tenderly, and curse the <br>\\nfoot that spoiled it. For the rest of the evening Carleton was on an extensive <br>\\nsearch of discovery for the missing <b>flower</b>. In truth, he was in great danger of <br>\\nbecoming&nbsp;...',\n",
              "  'other': 'NYPL:33433074876743',\n",
              "  'googleId': 'wAUiAAAAMAAJ'},\n",
              " {'title': 'Flowers for Algernon - Multiple Critical Perspectives',\n",
              "  'authors': ['Daniel Keyes'],\n",
              "  'publishedDate': '2011-01-01',\n",
              "  'description': 'Probe the depth and richness of your favorite titles and usher your students into an understanding of what really made us want to teach literature in the first place. Each guide offers clear and concise explanations of three different critical perspectives.',\n",
              "  'language': 'en',\n",
              "  'isEbook': False,\n",
              "  'webReaderLink': 'http://play.google.com/books/reader?id=xYK5oAEACAAJ&hl=&printsec=frontcover&source=gbs_api',\n",
              "  'textSnippet': 'Probe the depth and richness of your favorite titles and usher your students into an understanding of what really made us want to teach literature in the first place.',\n",
              "  'isbn10': '1935467964',\n",
              "  'isbn13': '9781935467960',\n",
              "  'googleId': 'xYK5oAEACAAJ'},\n",
              " {'title': 'The Five Senses',\n",
              "  'authors': ['Angela Mary Keyes'],\n",
              "  'publishedDate': '1911',\n",
              "  'pageCount': 252,\n",
              "  'categories': ['Senses and sensation'],\n",
              "  'smallThumbnail': 'http://books.google.com/books/content?id=jQxIAQAAMAAJ&printsec=frontcover&img=1&zoom=5&edge=curl&source=gbs_api',\n",
              "  'thumbnail': 'http://books.google.com/books/content?id=jQxIAQAAMAAJ&printsec=frontcover&img=1&zoom=1&edge=curl&source=gbs_api',\n",
              "  'language': 'en',\n",
              "  'isEbook': True,\n",
              "  'webReaderLink': 'http://play.google.com/books/reader?id=jQxIAQAAMAAJ&hl=&printsec=frontcover&source=gbs_api',\n",
              "  'textSnippet': 'In field and garden the <b>flowers</b> no longer stood forth gaily in their brightest colors. <br>\\nButtercups and daisies bent on their ... “And O, Nell,” cried Ned, “there are no air <br>\\nships taking callers from <b>flower</b> to <b>flower</b>.” “No,” said Nell, “perhaps it is too wet&nbsp;...',\n",
              "  'other': 'IOWA:31858006011708',\n",
              "  'googleId': 'jQxIAQAAMAAJ'},\n",
              " {'title': 'Flowers for Algernon - Downloadable Multiple Critical Perspectives',\n",
              "  'authors': ['Daniel Keyes'],\n",
              "  'publishedDate': '2011-01-01',\n",
              "  'description': 'Probe the depth and richness of your favorite titles and usher your students into an understanding of what really made us want to teach literature in the first place. Each guide offers clear and concise explanations of three different critical perspectives.',\n",
              "  'language': 'en',\n",
              "  'isEbook': False,\n",
              "  'webReaderLink': 'http://play.google.com/books/reader?id=uCqioAEACAAJ&hl=&printsec=frontcover&source=gbs_api',\n",
              "  'textSnippet': 'Probe the depth and richness of your favorite titles and usher your students into an understanding of what really made us want to teach literature in the first place.',\n",
              "  'isbn10': '1935467972',\n",
              "  'isbn13': '9781935467977',\n",
              "  'googleId': 'uCqioAEACAAJ'},\n",
              " {'title': 'Some Environmental Factors Influencing Bud Formation, Abscission and Flower Production of Gardenias',\n",
              "  'authors': ['Curtis Gilbert Keyes'],\n",
              "  'publishedDate': '1946',\n",
              "  'pageCount': 190,\n",
              "  'categories': ['Gardenia'],\n",
              "  'smallThumbnail': 'http://books.google.com/books/content?id=LRlCAAAAYAAJ&printsec=frontcover&img=1&zoom=5&source=gbs_api',\n",
              "  'thumbnail': 'http://books.google.com/books/content?id=LRlCAAAAYAAJ&printsec=frontcover&img=1&zoom=1&source=gbs_api',\n",
              "  'language': 'en',\n",
              "  'isEbook': False,\n",
              "  'webReaderLink': 'http://play.google.com/books/reader?id=LRlCAAAAYAAJ&hl=&printsec=frontcover&source=gbs_api',\n",
              "  'textSnippet': 'Quo relation concernino <b>flower</b> production was consistantly observed, and too <br>\\nwas one correlation botvos., abscission aiki flows: production. ...eliever <b>flower</b> <br>\\nproduction was increasod too amount of bid abscission that took placs was fixed <br>\\nas&nbsp;...',\n",
              "  'other': 'CORNELL:31924002987646',\n",
              "  'googleId': 'LRlCAAAAYAAJ'},\n",
              " {'title': 'Stories and Story-telling',\n",
              "  'authors': ['Angela Mary Keyes'],\n",
              "  'publishedDate': '1911',\n",
              "  'pageCount': 286,\n",
              "  'categories': ['Storytelling'],\n",
              "  'smallThumbnail': 'http://books.google.com/books/content?id=vcZJAAAAIAAJ&printsec=frontcover&img=1&zoom=5&edge=curl&source=gbs_api',\n",
              "  'thumbnail': 'http://books.google.com/books/content?id=vcZJAAAAIAAJ&printsec=frontcover&img=1&zoom=1&edge=curl&source=gbs_api',\n",
              "  'language': 'en',\n",
              "  'isEbook': True,\n",
              "  'webReaderLink': 'http://play.google.com/books/reader?id=vcZJAAAAIAAJ&hl=&printsec=frontcover&source=gbs_api',\n",
              "  'textSnippet': 'Pick out one of the splendid <b>flowers</b> you see down there, and I will set you down <br>\\nin it.” “That will be a beautiful home,” cried Thumbelina, and clapped her hands. <br>\\nShe chose a great white <b>flower</b>. The swallow flew down with her and set her on&nbsp;...',\n",
              "  'other': 'UCAL:$B262932',\n",
              "  'googleId': 'vcZJAAAAIAAJ'},\n",
              " {'title': 'Algernon, Charlie, and I',\n",
              "  'authors': ['Daniel Keyes'],\n",
              "  'publisher': 'Challenge PressInc',\n",
              "  'publishedDate': '1999',\n",
              "  'description': 'The author shares his creative processes, revealing the life experiences leading to the creation of Charlie Gordon and tracing the evolution of the novelette into a novel, stage production, cinema production, and TV movie.',\n",
              "  'pageCount': 223,\n",
              "  'categories': ['Biography & Autobiography'],\n",
              "  'averageRating': 4,\n",
              "  'ratingsCount': 1,\n",
              "  'smallThumbnail': 'http://books.google.com/books/content?id=6WrhAAAAMAAJ&printsec=frontcover&img=1&zoom=5&source=gbs_api',\n",
              "  'thumbnail': 'http://books.google.com/books/content?id=6WrhAAAAMAAJ&printsec=frontcover&img=1&zoom=1&source=gbs_api',\n",
              "  'language': 'en',\n",
              "  'isEbook': False,\n",
              "  'webReaderLink': 'http://play.google.com/books/reader?id=6WrhAAAAMAAJ&hl=&printsec=frontcover&source=gbs_api',\n",
              "  'textSnippet': 'The author shares his creative processes, revealing the life experiences leading to the creation of Charlie Gordon and tracing the evolution of the novelette into a novel, stage production, cinema production, and TV movie.',\n",
              "  'other': 'UOM:39015049675906',\n",
              "  'googleId': '6WrhAAAAMAAJ'}]"
            ]
          },
          "metadata": {
            "tags": []
          },
          "execution_count": 18
        }
      ]
    },
    {
      "cell_type": "markdown",
      "metadata": {
        "id": "-rUBBYHdlUY-",
        "colab_type": "text"
      },
      "source": [
        "### Testing error handling for when the `industryIdentifiers` doesn't exist for an entry"
      ]
    },
    {
      "cell_type": "code",
      "metadata": {
        "id": "riCUH62ilUY_",
        "colab_type": "code",
        "colab": {}
      },
      "source": [
        "del sample_api_result['items'][0]['volumeInfo']['industryIdentifiers']"
      ],
      "execution_count": 0,
      "outputs": []
    },
    {
      "cell_type": "code",
      "metadata": {
        "id": "INpWUVvClUZG",
        "colab_type": "code",
        "colab": {},
        "outputId": "0107ba68-eda3-4d19-ad8f-80dbd6764ea2"
      },
      "source": [
        "# notice the lack of isbn10 and isbn13\n",
        "clean(retreive_details(sample_api_result['items'][0],relevant_details))"
      ],
      "execution_count": 0,
      "outputs": [
        {
          "output_type": "execute_result",
          "data": {
            "text/plain": [
              "{'title': 'Flowers for Algernon',\n",
              " 'authors': ['David Rogers', 'Daniel Keyes'],\n",
              " 'publisher': 'Dramatic Publishing',\n",
              " 'publishedDate': '1969',\n",
              " 'pageCount': 32,\n",
              " 'smallThumbnail': 'http://books.google.com/books/content?id=gK98gXR8onwC&printsec=frontcover&img=1&zoom=5&edge=curl&source=gbs_api',\n",
              " 'thumbnail': 'http://books.google.com/books/content?id=gK98gXR8onwC&printsec=frontcover&img=1&zoom=1&edge=curl&source=gbs_api',\n",
              " 'language': 'en',\n",
              " 'isEbook': False,\n",
              " 'webReaderLink': 'http://play.google.com/books/reader?id=gK98gXR8onwC&hl=&printsec=frontcover&source=gbs_api',\n",
              " 'textSnippet': '<b>FLOWERS</b> FOR ALGERNON A One-act Play For Four Men And One Woman” <br>\\nCHARACTERS DR. STRAUSS . . . . . . . . . . . . . . . . . . . a young neurosurgeon <br>\\nPROFESSOR NEMUR . . . . . . . . . . . . . . . . his older colleague ALICE KINNIAN&nbsp;...',\n",
              " 'googleId': 'gK98gXR8onwC'}"
            ]
          },
          "metadata": {
            "tags": []
          },
          "execution_count": 98
        }
      ]
    },
    {
      "cell_type": "markdown",
      "metadata": {
        "id": "j2dNxqEIlUZK",
        "colab_type": "text"
      },
      "source": [
        "## Testing the module:\n",
        "\n",
        "This is the minimal code needed to process the request. In the final app the code needs to be \n",
        "jsonified, butt this is good enough as proof of concept"
      ]
    },
    {
      "cell_type": "code",
      "metadata": {
        "id": "QQlvPaPclUZM",
        "colab_type": "code",
        "colab": {}
      },
      "source": [
        "import google_books_hf as hf"
      ],
      "execution_count": 0,
      "outputs": []
    },
    {
      "cell_type": "code",
      "metadata": {
        "collapsed": true,
        "jupyter": {
          "outputs_hidden": true
        },
        "id": "hi075XRrlUZi",
        "colab_type": "code",
        "colab": {},
        "outputId": "fa0665f7-a947-4a52-9e61-193d559e7c4a"
      },
      "source": [
        "help(hf)"
      ],
      "execution_count": 0,
      "outputs": [
        {
          "output_type": "stream",
          "text": [
            "Help on module google_books_hf:\n",
            "\n",
            "NAME\n",
            "    google_books_hf\n",
            "\n",
            "DESCRIPTION\n",
            "    This module is a set of helper functions to process data from the google\n",
            "    books API. The functions are as follows:\n",
            "    \n",
            "    retreive_details()  - Retreive specific keys from a dictionary object\n",
            "    \n",
            "    clean()             - Alter data to match data model\n",
            "    \n",
            "    process_list()      - Process a list of dictionaries to endpoint output format\n",
            "\n",
            "FUNCTIONS\n",
            "    clean(input_dict)\n",
            "        Alter data to match data model \n",
            "        \n",
            "        This function reformats isbns, and modifies the id name\n",
            "        from a dictionary returned from retreive_details. It also \n",
            "        changes the id key to googleId to match the format that the\n",
            "        API endpoint specifies.\n",
            "        \n",
            "        Input:\n",
            "        input_dict  - a dictionary output from retreive_details using\n",
            "                      the list of keys required for the BetterReadsDS \n",
            "                      API response.\n",
            "        \n",
            "        Output:\n",
            "        output_dict - a dictionary ready to send as a response to a\n",
            "                      request received by the server.\n",
            "    \n",
            "    process_list(list_of_entries, keys_to_extract)\n",
            "        Process a list of dictionaries to endpoint output format\n",
            "        \n",
            "        This function takes a list of dictionaries, extracts the keys\n",
            "        specified, and then cleans the resulting list of dictionaries.\n",
            "        See the clean function for details on what \"cleaning\" entails.\n",
            "        \n",
            "        Inputs: \n",
            "        list_of_entries - A list of dictonaries from the Google Books API.\n",
            "                        \n",
            "        keys_to_extract - A list of keys that you want to extract from the\n",
            "                          json_dict object.\n",
            "        \n",
            "        Outputs:\n",
            "        out_list        - a list of dictionaries containing book entries.\n",
            "    \n",
            "    retreive_details(input_dict, keys_to_extract)\n",
            "        Retreive specific keys from a dictionary object\n",
            "        \n",
            "        This function searches through a dictionary, and\n",
            "        retreives keys that match keys from a list. This function \n",
            "        will find matching keys in every level of the dictionary heirarchy.\n",
            "        \n",
            "        Inputs:\n",
            "        input_dict      -  A dictionary (expected to be from json.loads() \n",
            "                           in the context of BetterReads, but the function\n",
            "                           will work on any dictionary).\n",
            "        keys_to_extract -  A list of keys that you want to extract from the \n",
            "                           json_dict object.\n",
            "                           \n",
            "        Output:\n",
            "        new_dict        -  A new \"flattened\"dictionary with all the matching keys. \n",
            "                           All the keys are in the top level.\n",
            "\n",
            "FILE\n",
            "    g:\\data\\lambda\\data_science_course\\labs\\betterreads-ds\\apis\\google_books\\google_books_hf.py\n",
            "\n",
            "\n"
          ],
          "name": "stdout"
        }
      ]
    },
    {
      "cell_type": "code",
      "metadata": {
        "id": "JrW9N7CXlUZo",
        "colab_type": "code",
        "colab": {}
      },
      "source": [
        "from secrets import GOOGLE_KEY\n",
        "response = requests.get('https://www.googleapis.com/books/v1/volumes?q=flowers+inauthor:keyes&key='+GOOGLE_KEY)\n",
        "sample_api_result = json.loads(response.text)\n",
        "\n",
        "relevant_details=['id','title','authors','publisher',\n",
        "                  'publishedDate','description','industryIdentifiers',\n",
        "                  'pageCount','categories','thumbnail','smallThumbnail',\n",
        "                  'language','webReaderLink','textSnippet','isEbook']"
      ],
      "execution_count": 0,
      "outputs": []
    },
    {
      "cell_type": "code",
      "metadata": {
        "id": "ttWl2v0ulUZs",
        "colab_type": "code",
        "colab": {},
        "outputId": "1250fec4-e4d7-44c8-dabc-45f1566d95db"
      },
      "source": [
        "process_list(sample_api_result['items'],relevant_details)"
      ],
      "execution_count": 0,
      "outputs": [
        {
          "output_type": "error",
          "ename": "NameError",
          "evalue": "name 'retreive_details' is not defined",
          "traceback": [
            "\u001b[1;31m---------------------------------------------------------------------------\u001b[0m",
            "\u001b[1;31mNameError\u001b[0m                                 Traceback (most recent call last)",
            "\u001b[1;32m<ipython-input-11-799204aa19cb>\u001b[0m in \u001b[0;36m<module>\u001b[1;34m\u001b[0m\n\u001b[1;32m----> 1\u001b[1;33m \u001b[0mprocess_list\u001b[0m\u001b[1;33m(\u001b[0m\u001b[0msample_api_result\u001b[0m\u001b[1;33m[\u001b[0m\u001b[1;34m'items'\u001b[0m\u001b[1;33m]\u001b[0m\u001b[1;33m,\u001b[0m\u001b[0mrelevant_details\u001b[0m\u001b[1;33m)\u001b[0m\u001b[1;33m\u001b[0m\u001b[0m\n\u001b[0m",
            "\u001b[1;32m<ipython-input-4-2389abab0114>\u001b[0m in \u001b[0;36mprocess_list\u001b[1;34m(list_of_entries, keys_to_extract)\u001b[0m\n\u001b[0;32m      2\u001b[0m     \u001b[0mout_list\u001b[0m \u001b[1;33m=\u001b[0m \u001b[1;33m[\u001b[0m\u001b[1;33m]\u001b[0m\u001b[1;33m\u001b[0m\u001b[0m\n\u001b[0;32m      3\u001b[0m     \u001b[1;32mfor\u001b[0m \u001b[0mi\u001b[0m \u001b[1;32min\u001b[0m \u001b[0mlist_of_entries\u001b[0m\u001b[1;33m:\u001b[0m\u001b[1;33m\u001b[0m\u001b[0m\n\u001b[1;32m----> 4\u001b[1;33m         \u001b[0mparsed_dict\u001b[0m \u001b[1;33m=\u001b[0m \u001b[0mretreive_details\u001b[0m\u001b[1;33m(\u001b[0m\u001b[0mi\u001b[0m\u001b[1;33m,\u001b[0m\u001b[0mkeys_to_extract\u001b[0m\u001b[1;33m)\u001b[0m\u001b[1;33m\u001b[0m\u001b[0m\n\u001b[0m\u001b[0;32m      5\u001b[0m         \u001b[0mclean_dict\u001b[0m \u001b[1;33m=\u001b[0m \u001b[0mclean\u001b[0m\u001b[1;33m(\u001b[0m\u001b[0mparsed_dict\u001b[0m\u001b[1;33m)\u001b[0m\u001b[1;33m\u001b[0m\u001b[0m\n\u001b[0;32m      6\u001b[0m         \u001b[0mout_list\u001b[0m\u001b[1;33m.\u001b[0m\u001b[0mappend\u001b[0m\u001b[1;33m(\u001b[0m\u001b[0mclean_dict\u001b[0m\u001b[1;33m)\u001b[0m\u001b[1;33m\u001b[0m\u001b[0m\n",
            "\u001b[1;31mNameError\u001b[0m: name 'retreive_details' is not defined"
          ]
        }
      ]
    },
    {
      "cell_type": "markdown",
      "metadata": {
        "id": "-cwoCtaXlUaM",
        "colab_type": "text"
      },
      "source": [
        "## Importing ENV variables instead of secrets.py\n",
        "This is simply syntax reference because jupyter notebook environment doen't have a .env file like a pipenv does. In the final product this is probably what we are going to be doing because we can load in environment variables to elastic beanstalk\n",
        "```\n",
        "import os\n",
        "GOOGLE_KEY = os.environ['GOOGLE_KEY']\n",
        "```"
      ]
    },
    {
      "cell_type": "markdown",
      "metadata": {
        "id": "sCOd-Cp4lUaN",
        "colab_type": "text"
      },
      "source": [
        "## Book ID API endpoint"
      ]
    },
    {
      "cell_type": "code",
      "metadata": {
        "id": "1c5sBw78lUaO",
        "colab_type": "code",
        "colab": {}
      },
      "source": [
        "url = 'https://www.googleapis.com/books/v1/volumes/zyTCAlFPjgYC?key='"
      ],
      "execution_count": 0,
      "outputs": []
    },
    {
      "cell_type": "code",
      "metadata": {
        "id": "xt28fqv9lUaW",
        "colab_type": "code",
        "colab": {}
      },
      "source": [
        "from secrets import GOOGLE_KEY"
      ],
      "execution_count": 0,
      "outputs": []
    },
    {
      "cell_type": "code",
      "metadata": {
        "id": "l9F9M3EzlUau",
        "colab_type": "code",
        "colab": {}
      },
      "source": [
        "a = requests.get(url+GOOGLE_KEY)"
      ],
      "execution_count": 0,
      "outputs": []
    },
    {
      "cell_type": "code",
      "metadata": {
        "id": "T6xDrHMvlUa-",
        "colab_type": "code",
        "colab": {}
      },
      "source": [
        "book = json.loads(a.text)"
      ],
      "execution_count": 0,
      "outputs": []
    },
    {
      "cell_type": "code",
      "metadata": {
        "collapsed": true,
        "jupyter": {
          "outputs_hidden": true
        },
        "id": "cQ0yLVHblUbm",
        "colab_type": "code",
        "colab": {},
        "outputId": "cf2864ce-f4a7-4a3e-c71f-562b5ccc42d7"
      },
      "source": [
        "book"
      ],
      "execution_count": 0,
      "outputs": [
        {
          "output_type": "execute_result",
          "data": {
            "text/plain": [
              "{'kind': 'books#volume',\n",
              " 'id': 'zyTCAlFPjgYC',\n",
              " 'etag': 'jL6FrE3yeUw',\n",
              " 'selfLink': 'https://www.googleapis.com/books/v1/volumes/zyTCAlFPjgYC',\n",
              " 'volumeInfo': {'title': 'The Google Story (2018 Updated Edition)',\n",
              "  'subtitle': 'Inside the Hottest Business, Media, and Technology Success of Our Time',\n",
              "  'authors': ['David A. Vise', 'Mark Malseed'],\n",
              "  'publisher': 'Random House Publishing Group',\n",
              "  'publishedDate': '2005-11-15',\n",
              "  'description': '<b> <b>The definitive, bestselling account of the company that changed the way we work and live, updated for the twentieth anniversary of Google’s founding with analysis of its most recent bold moves to redefine the world—and its even more ambitious plans for the future.</b><br></b><br>Moscow-born Sergey Brin and Midwest-born Larry Page dropped out of graduate school at Stanford University to, as they said, “change the world” through a powerful search engine that would organize every bit of information on the Web for free.\\xa0<i>The Google Story</i>\\xa0takes you deep inside the company’s wild ride from an idea that struggled for funding in 1998 to a firm that today rakes in billions in profits. Based on scrupulous research and extraordinary access to Google, this fast-moving narrative reveals how an unorthodox management style and a culture of innovation enabled a search-engine giant to shake up Madison Avenue, clash with governments that accuse it of being a monopoly, deploy self-driving cars to forever change how we travel, and launch high-flying Internet balloons. Unafraid of controversy, Google is surging ahead with artificial intelligence that could cure diseases but also displace millions of people from their jobs, testing the founders’ guiding mantra: DON’T BE EVIL.<br><b><br>Praise for\\xa0<i>The Google Story<br></i></b><i><br></i>“[The authors] do a fine job of recounting Google’s rapid rise and explaining its search business.”<b>—<i>The New York Times<br></i></b><br>“An intriguing insider view of the Google culture.”<b>—<i>Harvard Business Review<br></i></b><br>“An interesting read on a powerhouse company . . . If you haven’t read anything about one of today’s most influential companies, you should. If you don’t read\\xa0<i>The Google Story,</i>\\xa0you’re missing a few extra treats.”<b>—<i>USA Today<br></i></b><br>“Fascinating . . . meticulous . . . never bogs down.”<b>—<i>Houston Chronicle</i></b>',\n",
              "  'industryIdentifiers': [{'type': 'ISBN_10', 'identifier': '0440335701'},\n",
              "   {'type': 'ISBN_13', 'identifier': '9780440335702'}],\n",
              "  'readingModes': {'text': True, 'image': False},\n",
              "  'pageCount': 384,\n",
              "  'printedPageCount': 394,\n",
              "  'dimensions': {'height': '24.00 cm'},\n",
              "  'printType': 'BOOK',\n",
              "  'categories': ['Business & Economics / Entrepreneurship',\n",
              "   'Computers / Information Technology',\n",
              "   'History / Modern / 20th Century'],\n",
              "  'averageRating': 3.5,\n",
              "  'ratingsCount': 19,\n",
              "  'maturityRating': 'NOT_MATURE',\n",
              "  'allowAnonLogging': True,\n",
              "  'contentVersion': '2.3.2.0.preview.2',\n",
              "  'panelizationSummary': {'containsEpubBubbles': False,\n",
              "   'containsImageBubbles': False},\n",
              "  'imageLinks': {'smallThumbnail': 'http://books.google.com/books/content?id=zyTCAlFPjgYC&printsec=frontcover&img=1&zoom=5&edge=curl&imgtk=AFLRE723GylfEIBkP5_4g5Q89y_Etn6lOgFyen5v1z9v3WS3yiKANqzY3oi8UlamvYb-OmEscGjHhB1NZd2iXpoFQmxW2Z7brBJcZXP5AxYL2-TKE64kMViLKIjSikzGZUYFg0OCkxqZ&source=gbs_api',\n",
              "   'thumbnail': 'http://books.google.com/books/content?id=zyTCAlFPjgYC&printsec=frontcover&img=1&zoom=1&edge=curl&imgtk=AFLRE72KxwoxbL6vyAbyVjE3zS_bLiJSagy-fEEILCe37OdzVLGk0R1vy4YjF5E4LUBeTdmJ7RyiWsZdWmvEqVwB4U1_VXO9dnpwpaFGcunUtagDcz8OGxmHDK0v3-53j2O77jzr7GdZ&source=gbs_api',\n",
              "   'small': 'http://books.google.com/books/content?id=zyTCAlFPjgYC&printsec=frontcover&img=1&zoom=2&edge=curl&imgtk=AFLRE73mBSrkCvC4duqCdxxGC2yBiTI7FEN53vXpaXh2C7Iw5LUcVHZdjOyUJTUXyNkugRp9zSfyCUNYdR-5lFoUZRjPsCJa7QqMI1hgaOr4-ocwO8MNb3GHgG1jGikxD38HYwe1CgeF&source=gbs_api',\n",
              "   'medium': 'http://books.google.com/books/content?id=zyTCAlFPjgYC&printsec=frontcover&img=1&zoom=3&edge=curl&imgtk=AFLRE73Qvqe-3dLg8Jqzm_K5ZHptYtAJ7aCfQTiosZm674kE5EXXNxmAy3rCJhDV3cdUY0PqiMTo9YEaiZYkPXvnSF1ww-mrlhXOXvGnkIvuqZjbuQ_i1wr_cg-eNrsR1pv8ke9k6ON7&source=gbs_api',\n",
              "   'large': 'http://books.google.com/books/content?id=zyTCAlFPjgYC&printsec=frontcover&img=1&zoom=4&edge=curl&imgtk=AFLRE73eEFnWZdBknRQo00GJiqYfyDeDdeA_rcS4IE4zJUBHeDXW2dpfn4k4W2AK6LEqV-JVDPRIu7ySFzFGPxtdc2362XrCzvMqyvgTJC0LcaVTLIrwxAxAUGGsOaQZEeaZu1u_Jx63&source=gbs_api'},\n",
              "  'language': 'en',\n",
              "  'previewLink': 'http://books.google.com/books?id=zyTCAlFPjgYC&hl=&source=gbs_api',\n",
              "  'infoLink': 'https://play.google.com/store/books/details?id=zyTCAlFPjgYC&source=gbs_api',\n",
              "  'canonicalVolumeLink': 'https://play.google.com/store/books/details?id=zyTCAlFPjgYC'},\n",
              " 'layerInfo': {'layers': [{'layerId': 'geo',\n",
              "    'volumeAnnotationsVersion': '7'}]},\n",
              " 'saleInfo': {'country': 'US',\n",
              "  'saleability': 'FOR_SALE',\n",
              "  'isEbook': True,\n",
              "  'listPrice': {'amount': 13.99, 'currencyCode': 'USD'},\n",
              "  'retailPrice': {'amount': 13.99, 'currencyCode': 'USD'},\n",
              "  'buyLink': 'https://play.google.com/store/books/details?id=zyTCAlFPjgYC&rdid=book-zyTCAlFPjgYC&rdot=1&source=gbs_api',\n",
              "  'offers': [{'finskyOfferType': 1,\n",
              "    'listPrice': {'amountInMicros': 13990000, 'currencyCode': 'USD'},\n",
              "    'retailPrice': {'amountInMicros': 13990000, 'currencyCode': 'USD'},\n",
              "    'giftable': True}]},\n",
              " 'accessInfo': {'country': 'US',\n",
              "  'viewability': 'PARTIAL',\n",
              "  'embeddable': True,\n",
              "  'publicDomain': False,\n",
              "  'textToSpeechPermission': 'ALLOWED_FOR_ACCESSIBILITY',\n",
              "  'epub': {'isAvailable': True,\n",
              "   'acsTokenLink': 'http://books.google.com/books/download/The_Google_Story_2018_Updated_Edition-sample-epub.acsm?id=zyTCAlFPjgYC&format=epub&output=acs4_fulfillment_token&dl_type=sample&source=gbs_api'},\n",
              "  'pdf': {'isAvailable': False},\n",
              "  'webReaderLink': 'http://play.google.com/books/reader?id=zyTCAlFPjgYC&hl=&printsec=frontcover&source=gbs_api',\n",
              "  'accessViewStatus': 'SAMPLE',\n",
              "  'quoteSharingAllowed': False}}"
            ]
          },
          "metadata": {
            "tags": []
          },
          "execution_count": 31
        }
      ]
    },
    {
      "cell_type": "code",
      "metadata": {
        "id": "a9PiQuk0lUbs",
        "colab_type": "code",
        "colab": {}
      },
      "source": [
        "import google_books_hf as hf"
      ],
      "execution_count": 0,
      "outputs": []
    },
    {
      "cell_type": "code",
      "metadata": {
        "id": "4CdWlCNwlUbw",
        "colab_type": "code",
        "colab": {}
      },
      "source": [
        "relevant_details=['id','title','authors','publisher',\n",
        "                  'publishedDate','description','industryIdentifiers',\n",
        "                  'pageCount','categories','thumbnail','smallThumbnail',\n",
        "                  'language','webReaderLink','textSnippet','isEbook']"
      ],
      "execution_count": 0,
      "outputs": []
    },
    {
      "cell_type": "code",
      "metadata": {
        "id": "wLbiDJ0OlUb7",
        "colab_type": "code",
        "colab": {}
      },
      "source": [
        "details = hf.retreive_details(book, relevant_details)"
      ],
      "execution_count": 0,
      "outputs": []
    },
    {
      "cell_type": "code",
      "metadata": {
        "id": "izRIgGGslUcG",
        "colab_type": "code",
        "colab": {},
        "outputId": "3d06d65d-3ab1-4e24-fa42-a90e107cca24"
      },
      "source": [
        "hf.clean(details)"
      ],
      "execution_count": 0,
      "outputs": [
        {
          "output_type": "execute_result",
          "data": {
            "text/plain": [
              "{'title': 'The Google Story (2018 Updated Edition)',\n",
              " 'authors': ['David A. Vise', 'Mark Malseed'],\n",
              " 'publisher': 'Random House Publishing Group',\n",
              " 'publishedDate': '2005-11-15',\n",
              " 'description': '<b> <b>The definitive, bestselling account of the company that changed the way we work and live, updated for the twentieth anniversary of Google’s founding with analysis of its most recent bold moves to redefine the world—and its even more ambitious plans for the future.</b><br></b><br>Moscow-born Sergey Brin and Midwest-born Larry Page dropped out of graduate school at Stanford University to, as they said, “change the world” through a powerful search engine that would organize every bit of information on the Web for free.\\xa0<i>The Google Story</i>\\xa0takes you deep inside the company’s wild ride from an idea that struggled for funding in 1998 to a firm that today rakes in billions in profits. Based on scrupulous research and extraordinary access to Google, this fast-moving narrative reveals how an unorthodox management style and a culture of innovation enabled a search-engine giant to shake up Madison Avenue, clash with governments that accuse it of being a monopoly, deploy self-driving cars to forever change how we travel, and launch high-flying Internet balloons. Unafraid of controversy, Google is surging ahead with artificial intelligence that could cure diseases but also displace millions of people from their jobs, testing the founders’ guiding mantra: DON’T BE EVIL.<br><b><br>Praise for\\xa0<i>The Google Story<br></i></b><i><br></i>“[The authors] do a fine job of recounting Google’s rapid rise and explaining its search business.”<b>—<i>The New York Times<br></i></b><br>“An intriguing insider view of the Google culture.”<b>—<i>Harvard Business Review<br></i></b><br>“An interesting read on a powerhouse company . . . If you haven’t read anything about one of today’s most influential companies, you should. If you don’t read\\xa0<i>The Google Story,</i>\\xa0you’re missing a few extra treats.”<b>—<i>USA Today<br></i></b><br>“Fascinating . . . meticulous . . . never bogs down.”<b>—<i>Houston Chronicle</i></b>',\n",
              " 'pageCount': 384,\n",
              " 'categories': ['Business & Economics / Entrepreneurship',\n",
              "  'Computers / Information Technology',\n",
              "  'History / Modern / 20th Century'],\n",
              " 'smallThumbnail': 'http://books.google.com/books/content?id=zyTCAlFPjgYC&printsec=frontcover&img=1&zoom=5&edge=curl&imgtk=AFLRE723GylfEIBkP5_4g5Q89y_Etn6lOgFyen5v1z9v3WS3yiKANqzY3oi8UlamvYb-OmEscGjHhB1NZd2iXpoFQmxW2Z7brBJcZXP5AxYL2-TKE64kMViLKIjSikzGZUYFg0OCkxqZ&source=gbs_api',\n",
              " 'thumbnail': 'http://books.google.com/books/content?id=zyTCAlFPjgYC&printsec=frontcover&img=1&zoom=1&edge=curl&imgtk=AFLRE72KxwoxbL6vyAbyVjE3zS_bLiJSagy-fEEILCe37OdzVLGk0R1vy4YjF5E4LUBeTdmJ7RyiWsZdWmvEqVwB4U1_VXO9dnpwpaFGcunUtagDcz8OGxmHDK0v3-53j2O77jzr7GdZ&source=gbs_api',\n",
              " 'language': 'en',\n",
              " 'isEbook': True,\n",
              " 'webReaderLink': 'http://play.google.com/books/reader?id=zyTCAlFPjgYC&hl=&printsec=frontcover&source=gbs_api',\n",
              " 'isbn10': '0440335701',\n",
              " 'isbn13': '9780440335702',\n",
              " 'googleId': 'zyTCAlFPjgYC'}"
            ]
          },
          "metadata": {
            "tags": []
          },
          "execution_count": 33
        }
      ]
    },
    {
      "cell_type": "markdown",
      "metadata": {
        "id": "WGk_yWMTnzbK",
        "colab_type": "text"
      },
      "source": [
        "#Minimum code example\n",
        "This example retreives results from the google api based on a query string, and formats them. The documentation for the format should be found here. Note that the \"clean\" function in google_books_hf might have to be edited if the expected data format changes."
      ]
    },
    {
      "cell_type": "code",
      "metadata": {
        "id": "Z-Nc5ExIn5b3",
        "colab_type": "code",
        "colab": {}
      },
      "source": [
        "# Basic imports\n",
        "import requests\n",
        "import json\n",
        "import pickle"
      ],
      "execution_count": 0,
      "outputs": []
    },
    {
      "cell_type": "code",
      "metadata": {
        "id": "wkfYyS_4n_jG",
        "colab_type": "code",
        "colab": {}
      },
      "source": [
        "# Google books API key\n",
        "from secrets import GOOGLE_KEY"
      ],
      "execution_count": 0,
      "outputs": []
    },
    {
      "cell_type": "code",
      "metadata": {
        "id": "KUQuETJJoAoD",
        "colab_type": "code",
        "colab": {}
      },
      "source": [
        "# Helper function to return data in Web ready format\n",
        "from google_books_hf import process_list"
      ],
      "execution_count": 0,
      "outputs": []
    },
    {
      "cell_type": "code",
      "metadata": {
        "id": "oUGL7MZRoAgW",
        "colab_type": "code",
        "colab": {}
      },
      "source": [
        "# Function to compose queries (added to google_books_hf too)\n",
        "def gapi_query(query):\n",
        "    response = requests.get('https://www.googleapis.com/books/v1/volumes?q='\n",
        "                 + query\n",
        "                 + '&key='\n",
        "                 + GOOGLE_KEY)\n",
        "    result_dict = json.loads(response.text)\n",
        "    return result_dict['items']"
      ],
      "execution_count": 0,
      "outputs": []
    },
    {
      "cell_type": "code",
      "metadata": {
        "id": "vUIW7sOjoAaP",
        "colab_type": "code",
        "colab": {}
      },
      "source": [
        "my_query = 'subject:Fantasy'\n",
        "results = gapi_query(my_query)"
      ],
      "execution_count": 0,
      "outputs": []
    },
    {
      "cell_type": "code",
      "metadata": {
        "id": "bnNtmkaYoAUO",
        "colab_type": "code",
        "colab": {}
      },
      "source": [
        "relevant_details=['id','title','authors','publisher',\n",
        "                  'publishedDate','description','industryIdentifiers',\n",
        "                  'pageCount','categories','thumbnail','smallThumbnail',\n",
        "                  'language','webReaderLink','textSnippet','isEbook',\n",
        "                  'averageRating','categories']"
      ],
      "execution_count": 0,
      "outputs": []
    },
    {
      "cell_type": "code",
      "metadata": {
        "id": "DV3kvUyBoANy",
        "colab_type": "code",
        "colab": {}
      },
      "source": [
        "process_list(results, relevant_details)"
      ],
      "execution_count": 0,
      "outputs": []
    }
  ]
}