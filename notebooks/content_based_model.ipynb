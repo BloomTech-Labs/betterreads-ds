{
 "cells": [
  {
   "cell_type": "markdown",
   "metadata": {},
   "source": [
    "# Content Based Model \n",
    "Testing a content-based recommendation system on a dataset of 12k+ books. The main question in this experiment:\n",
    "\n",
    "\"Will a recommendation based on descriptions provide better results than the details laten in a collaborative filtering \n",
    "system?\""
   ]
  },
  {
   "cell_type": "code",
   "execution_count": 1,
   "metadata": {},
   "outputs": [],
   "source": [
    "import numpy as np\n",
    "import matplotlib.pyplot as plt\n",
    "import pandas as pd\n",
    "import spacy \n",
    "import squarify\n",
    "from collections import Counter\n",
    "nlp = spacy.load(\"en_core_web_lg\")"
   ]
  },
  {
   "cell_type": "code",
   "execution_count": 5,
   "metadata": {},
   "outputs": [
    {
     "data": {
      "text/html": [
       "<div>\n",
       "<style scoped>\n",
       "    .dataframe tbody tr th:only-of-type {\n",
       "        vertical-align: middle;\n",
       "    }\n",
       "\n",
       "    .dataframe tbody tr th {\n",
       "        vertical-align: top;\n",
       "    }\n",
       "\n",
       "    .dataframe thead th {\n",
       "        text-align: right;\n",
       "    }\n",
       "</style>\n",
       "<table border=\"1\" class=\"dataframe\">\n",
       "  <thead>\n",
       "    <tr style=\"text-align: right;\">\n",
       "      <th></th>\n",
       "      <th>id</th>\n",
       "      <th>title</th>\n",
       "      <th>authors</th>\n",
       "      <th>publisher</th>\n",
       "      <th>publishedDate</th>\n",
       "      <th>description</th>\n",
       "      <th>isbn</th>\n",
       "      <th>pageCount</th>\n",
       "      <th>categories</th>\n",
       "      <th>thumbnail</th>\n",
       "      <th>smallThumbnail</th>\n",
       "      <th>language</th>\n",
       "      <th>webReaderLink</th>\n",
       "      <th>textSnippet</th>\n",
       "      <th>isEbook</th>\n",
       "      <th>averageRating</th>\n",
       "      <th>maturityRating</th>\n",
       "      <th>ratingsCount</th>\n",
       "      <th>subtitle</th>\n",
       "      <th>index</th>\n",
       "    </tr>\n",
       "  </thead>\n",
       "  <tbody>\n",
       "    <tr>\n",
       "      <th>0</th>\n",
       "      <td>MkHJ91AwS8MC</td>\n",
       "      <td>A Long Way Gone</td>\n",
       "      <td>Ishmael Beah</td>\n",
       "      <td>Macmillan</td>\n",
       "      <td>2007-02-13</td>\n",
       "      <td>In a heart-wrenching, candid autobiography, a ...</td>\n",
       "      <td>9780374105235</td>\n",
       "      <td>229.0</td>\n",
       "      <td>Biography &amp; Autobiography</td>\n",
       "      <td>http://books.google.com/books/content?id=MkHJ9...</td>\n",
       "      <td>http://books.google.com/books/content?id=MkHJ9...</td>\n",
       "      <td>en</td>\n",
       "      <td>http://play.google.com/books/reader?id=MkHJ91A...</td>\n",
       "      <td>NaN</td>\n",
       "      <td>0.0</td>\n",
       "      <td>4.0</td>\n",
       "      <td>NOT_MATURE</td>\n",
       "      <td>206.0</td>\n",
       "      <td>Memoirs of a Boy Soldier</td>\n",
       "      <td>NaN</td>\n",
       "    </tr>\n",
       "    <tr>\n",
       "      <th>1</th>\n",
       "      <td>MyaZDwAAQBAJ</td>\n",
       "      <td>The Better Half</td>\n",
       "      <td>Dr. Sharon Moalem, MD, PhD</td>\n",
       "      <td>Farrar, Straus and Giroux</td>\n",
       "      <td>2020-04-07</td>\n",
       "      <td>An award-winning physician and scientist makes...</td>\n",
       "      <td>1250174791</td>\n",
       "      <td>288.0</td>\n",
       "      <td>Science</td>\n",
       "      <td>http://books.google.com/books/content?id=MyaZD...</td>\n",
       "      <td>http://books.google.com/books/content?id=MyaZD...</td>\n",
       "      <td>en</td>\n",
       "      <td>http://play.google.com/books/reader?id=MyaZDwA...</td>\n",
       "      <td>NaN</td>\n",
       "      <td>1.0</td>\n",
       "      <td>NaN</td>\n",
       "      <td>NOT_MATURE</td>\n",
       "      <td>NaN</td>\n",
       "      <td>On the Genetic Superiority of Women</td>\n",
       "      <td>NaN</td>\n",
       "    </tr>\n",
       "    <tr>\n",
       "      <th>2</th>\n",
       "      <td>0h-ZDwAAQBAJ</td>\n",
       "      <td>The Dominant Animal</td>\n",
       "      <td>Kathryn Scanlan</td>\n",
       "      <td>MCD x FSG Originals</td>\n",
       "      <td>2020-04-07</td>\n",
       "      <td>A collection of innovative and ambitious short...</td>\n",
       "      <td>0374719985</td>\n",
       "      <td>160.0</td>\n",
       "      <td>Fiction</td>\n",
       "      <td>http://books.google.com/books/content?id=0h-ZD...</td>\n",
       "      <td>http://books.google.com/books/content?id=0h-ZD...</td>\n",
       "      <td>en</td>\n",
       "      <td>http://play.google.com/books/reader?id=0h-ZDwA...</td>\n",
       "      <td>NaN</td>\n",
       "      <td>1.0</td>\n",
       "      <td>NaN</td>\n",
       "      <td>NOT_MATURE</td>\n",
       "      <td>NaN</td>\n",
       "      <td>Stories</td>\n",
       "      <td>NaN</td>\n",
       "    </tr>\n",
       "    <tr>\n",
       "      <th>3</th>\n",
       "      <td>GZyEDwAAQBAJ</td>\n",
       "      <td>When It Was Grand</td>\n",
       "      <td>LeeAnna Keith</td>\n",
       "      <td>Hill and Wang</td>\n",
       "      <td>2020-01-14</td>\n",
       "      <td>A group biography of the activists who defende...</td>\n",
       "      <td>1429947586</td>\n",
       "      <td>352.0</td>\n",
       "      <td>History</td>\n",
       "      <td>http://books.google.com/books/content?id=GZyED...</td>\n",
       "      <td>http://books.google.com/books/content?id=GZyED...</td>\n",
       "      <td>en</td>\n",
       "      <td>http://play.google.com/books/reader?id=GZyEDwA...</td>\n",
       "      <td>NaN</td>\n",
       "      <td>1.0</td>\n",
       "      <td>NaN</td>\n",
       "      <td>NOT_MATURE</td>\n",
       "      <td>NaN</td>\n",
       "      <td>The Radical Republican History of the Civil War</td>\n",
       "      <td>NaN</td>\n",
       "    </tr>\n",
       "    <tr>\n",
       "      <th>4</th>\n",
       "      <td>7mklDwAAQBAJ</td>\n",
       "      <td>New Collected Poems</td>\n",
       "      <td>Marianne Moore</td>\n",
       "      <td>NaN</td>\n",
       "      <td>2017-06-20</td>\n",
       "      <td>\"The definitive collected edition of one of ou...</td>\n",
       "      <td>0374221049</td>\n",
       "      <td>480.0</td>\n",
       "      <td>Poetry</td>\n",
       "      <td>http://books.google.com/books/content?id=7mklD...</td>\n",
       "      <td>http://books.google.com/books/content?id=7mklD...</td>\n",
       "      <td>en</td>\n",
       "      <td>http://play.google.com/books/reader?id=7mklDwA...</td>\n",
       "      <td>NaN</td>\n",
       "      <td>0.0</td>\n",
       "      <td>NaN</td>\n",
       "      <td>NOT_MATURE</td>\n",
       "      <td>NaN</td>\n",
       "      <td>NaN</td>\n",
       "      <td>NaN</td>\n",
       "    </tr>\n",
       "  </tbody>\n",
       "</table>\n",
       "</div>"
      ],
      "text/plain": [
       "             id                title                     authors  \\\n",
       "0  MkHJ91AwS8MC      A Long Way Gone                Ishmael Beah   \n",
       "1  MyaZDwAAQBAJ      The Better Half  Dr. Sharon Moalem, MD, PhD   \n",
       "2  0h-ZDwAAQBAJ  The Dominant Animal             Kathryn Scanlan   \n",
       "3  GZyEDwAAQBAJ    When It Was Grand               LeeAnna Keith   \n",
       "4  7mklDwAAQBAJ  New Collected Poems              Marianne Moore   \n",
       "\n",
       "                   publisher publishedDate  \\\n",
       "0                  Macmillan    2007-02-13   \n",
       "1  Farrar, Straus and Giroux    2020-04-07   \n",
       "2        MCD x FSG Originals    2020-04-07   \n",
       "3              Hill and Wang    2020-01-14   \n",
       "4                        NaN    2017-06-20   \n",
       "\n",
       "                                         description           isbn  \\\n",
       "0  In a heart-wrenching, candid autobiography, a ...  9780374105235   \n",
       "1  An award-winning physician and scientist makes...     1250174791   \n",
       "2  A collection of innovative and ambitious short...     0374719985   \n",
       "3  A group biography of the activists who defende...     1429947586   \n",
       "4  \"The definitive collected edition of one of ou...     0374221049   \n",
       "\n",
       "   pageCount                 categories  \\\n",
       "0      229.0  Biography & Autobiography   \n",
       "1      288.0                    Science   \n",
       "2      160.0                    Fiction   \n",
       "3      352.0                    History   \n",
       "4      480.0                     Poetry   \n",
       "\n",
       "                                           thumbnail  \\\n",
       "0  http://books.google.com/books/content?id=MkHJ9...   \n",
       "1  http://books.google.com/books/content?id=MyaZD...   \n",
       "2  http://books.google.com/books/content?id=0h-ZD...   \n",
       "3  http://books.google.com/books/content?id=GZyED...   \n",
       "4  http://books.google.com/books/content?id=7mklD...   \n",
       "\n",
       "                                      smallThumbnail language  \\\n",
       "0  http://books.google.com/books/content?id=MkHJ9...       en   \n",
       "1  http://books.google.com/books/content?id=MyaZD...       en   \n",
       "2  http://books.google.com/books/content?id=0h-ZD...       en   \n",
       "3  http://books.google.com/books/content?id=GZyED...       en   \n",
       "4  http://books.google.com/books/content?id=7mklD...       en   \n",
       "\n",
       "                                       webReaderLink  textSnippet  isEbook  \\\n",
       "0  http://play.google.com/books/reader?id=MkHJ91A...          NaN      0.0   \n",
       "1  http://play.google.com/books/reader?id=MyaZDwA...          NaN      1.0   \n",
       "2  http://play.google.com/books/reader?id=0h-ZDwA...          NaN      1.0   \n",
       "3  http://play.google.com/books/reader?id=GZyEDwA...          NaN      1.0   \n",
       "4  http://play.google.com/books/reader?id=7mklDwA...          NaN      0.0   \n",
       "\n",
       "   averageRating maturityRating  ratingsCount  \\\n",
       "0            4.0     NOT_MATURE         206.0   \n",
       "1            NaN     NOT_MATURE           NaN   \n",
       "2            NaN     NOT_MATURE           NaN   \n",
       "3            NaN     NOT_MATURE           NaN   \n",
       "4            NaN     NOT_MATURE           NaN   \n",
       "\n",
       "                                          subtitle  index  \n",
       "0                         Memoirs of a Boy Soldier    NaN  \n",
       "1              On the Genetic Superiority of Women    NaN  \n",
       "2                                          Stories    NaN  \n",
       "3  The Radical Republican History of the Civil War    NaN  \n",
       "4                                              NaN    NaN  "
      ]
     },
     "execution_count": 5,
     "metadata": {},
     "output_type": "execute_result"
    }
   ],
   "source": [
    "books = pd.read_csv('https://zernach.com/wp-content/uploads/2020/04/filtered35k.csv')\n",
    "books.head()"
   ]
  },
  {
   "cell_type": "code",
   "execution_count": 6,
   "metadata": {},
   "outputs": [
    {
     "name": "stdout",
     "output_type": "stream",
     "text": [
      "A Long Way Gone\n",
      "http://books.google.com/books/content?id=MkHJ91AwS8MC&printsec=frontcover&img=1&zoom=5&edge=curl&source=gbs_api\n"
     ]
    },
    {
     "data": {
      "text/plain": [
       "'In a heart-wrenching, candid autobiography, a human rights activist offers a firsthand account of war from the perspective of a former child soldier, detailing the violent civil war that wracked his native Sierra Leone and the government forces that transformed a gentle young boy into a killer as a member of the army. 75,000 first printing.'"
      ]
     },
     "execution_count": 6,
     "metadata": {},
     "output_type": "execute_result"
    }
   ],
   "source": [
    "i = 0\n",
    "print(books['title'].iloc[i])\n",
    "print(books['smallThumbnail'].iloc[i])\n",
    "books['description'].iloc[i]"
   ]
  },
  {
   "cell_type": "code",
   "execution_count": 3,
   "metadata": {},
   "outputs": [
    {
     "data": {
      "text/plain": [
       "8989"
      ]
     },
     "execution_count": 3,
     "metadata": {},
     "output_type": "execute_result"
    }
   ],
   "source": [
    "books['ratingsCount'].isnull().sum()"
   ]
  },
  {
   "cell_type": "code",
   "execution_count": 21,
   "metadata": {},
   "outputs": [
    {
     "data": {
      "text/plain": [
       "0    in a heart-wrenching, candid autobiography, a ...\n",
       "1    an award-winning physician and scientist makes...\n",
       "2    a collection of innovative and ambitious short...\n",
       "3    a group biography of the activists who defende...\n",
       "4    \"the definitive collected edition of one of ou...\n",
       "Name: description, dtype: object"
      ]
     },
     "execution_count": 21,
     "metadata": {},
     "output_type": "execute_result"
    }
   ],
   "source": [
    "desc = books['description'].str.lower()\n",
    "desc.head()"
   ]
  },
  {
   "cell_type": "code",
   "execution_count": 38,
   "metadata": {},
   "outputs": [],
   "source": [
    "# Visualize all words to decide whether or not to extend stop-words\n",
    "from spacy.tokenizer import Tokenizer\n",
    "tokenizer = Tokenizer(nlp.vocab)\n",
    "\n",
    "def get_simple_tokens(corpus, ext_stop=False, sw=None):\n",
    "    tokens = []\n",
    "\n",
    "    for doc in tokenizer.pipe(desc, batch_size=500):\n",
    "        doc_tokens = []\n",
    "        for token in doc:\n",
    "            if ext_stop:\n",
    "                if token.text not in sw:\n",
    "                    doc_tokens.append(token.text)\n",
    "            else:\n",
    "                if (token.is_stop == False) & (token.is_punct == False):\n",
    "                    doc_tokens.append(token.text)\n",
    "        tokens.append(doc_tokens)\n",
    "        \n",
    "    return tokens"
   ]
  },
  {
   "cell_type": "code",
   "execution_count": 3,
   "metadata": {},
   "outputs": [],
   "source": [
    "# Helpful counting function\n",
    "def count(docs):\n",
    "\n",
    "        word_counts = Counter()\n",
    "        appears_in = Counter()\n",
    "        \n",
    "        total_docs = len(docs)\n",
    "\n",
    "        for doc in docs:\n",
    "            word_counts.update(doc)\n",
    "            appears_in.update(set(doc))\n",
    "\n",
    "        temp = zip(word_counts.keys(), word_counts.values())\n",
    "        \n",
    "        wc = pd.DataFrame(temp, columns = ['word', 'count'])\n",
    "\n",
    "        wc['rank'] = wc['count'].rank(method='first', ascending=False)\n",
    "        total = wc['count'].sum()\n",
    "\n",
    "        wc['pct_total'] = wc['count'].apply(lambda x: x / total)\n",
    "        \n",
    "        wc = wc.sort_values(by='rank')\n",
    "        wc['cul_pct_total'] = wc['pct_total'].cumsum()\n",
    "\n",
    "        t2 = zip(appears_in.keys(), appears_in.values())\n",
    "        ac = pd.DataFrame(t2, columns=['word', 'appears_in'])\n",
    "        wc = ac.merge(wc, on='word')\n",
    "\n",
    "        wc['appears_in_pct'] = wc['appears_in'].apply(lambda x: x / total_docs)\n",
    "        \n",
    "        return wc.sort_values(by='rank')"
   ]
  },
  {
   "cell_type": "markdown",
   "metadata": {},
   "source": [
    "The plot is such that it seems necessary to remove the following words:\n",
    "- new \n",
    "- book\n",
    "- author\n",
    "- story\n",
    "- life\n",
    "- work\n",
    "- best"
   ]
  },
  {
   "cell_type": "code",
   "execution_count": 32,
   "metadata": {},
   "outputs": [
    {
     "data": {
      "image/png": "[encoded data removed]",
      "text/plain": [
       "<Figure size 432x288 with 1 Axes>"
      ]
     },
     "metadata": {
      "needs_background": "light"
     },
     "output_type": "display_data"
    }
   ],
   "source": [
    "# Visualize with squarify plot\n",
    "wc = count(tokens)\n",
    "top_20 = wc[wc[\"rank\"] <= 20]\n",
    "\n",
    "squarify.plot(sizes=top_20[\"pct_total\"], label=top_20[\"word\"], alpha=0.8)\n",
    "plt.axis(\"off\")\n",
    "plt.show()"
   ]
  },
  {
   "cell_type": "code",
   "execution_count": 40,
   "metadata": {},
   "outputs": [],
   "source": [
    "# Extend stop words\n",
    "stop_words = nlp.Defaults.stop_words.union([\"new\", \"book\", \"author\"\n",
    "                                            \"story\", \"life\", \"work\", \"best\"])\n",
    "\n",
    "tokens = get_simple_tokens(desc, ext_stop=True, sw=stop_words)"
   ]
  },
  {
   "cell_type": "code",
   "execution_count": 41,
   "metadata": {},
   "outputs": [
    {
     "data": {
      "image/png": "[encoded data removed]",
      "text/plain": [
       "<Figure size 432x288 with 1 Axes>"
      ]
     },
     "metadata": {
      "needs_background": "light"
     },
     "output_type": "display_data"
    }
   ],
   "source": [
    "# Revisit visualization\n",
    "wc = count(tokens)\n",
    "top_20 = wc[wc[\"rank\"] <= 20]\n",
    "\n",
    "squarify.plot(sizes=top_20[\"pct_total\"], label=top_20[\"word\"], alpha=0.8)\n",
    "plt.axis(\"off\")\n",
    "plt.show()"
   ]
  },
  {
   "cell_type": "markdown",
   "metadata": {},
   "source": [
    "A few things to do in this notebook:\n",
    "- Find a good way to get as much meaning from the description as possible\n",
    "- Create some sort of vector, tfidf may not work that well here, needs to be seen\n",
    "- Try the recommendation system from the notebook, and try nearest neighbors"
   ]
  }
 ],
 "metadata": {
  "kernelspec": {
   "display_name": "Unit4-Sprint1-NLP (python3)",
   "language": "python",
   "name": "u4s1nlp"
  },
  "language_info": {
   "codemirror_mode": {
    "name": "ipython",
    "version": 3
   },
   "file_extension": ".py",
   "mimetype": "text/x-python",
   "name": "python",
   "nbconvert_exporter": "python",
   "pygments_lexer": "ipython3",
   "version": "3.7.4"
  }
 },
 "nbformat": 4,
 "nbformat_minor": 4
}
