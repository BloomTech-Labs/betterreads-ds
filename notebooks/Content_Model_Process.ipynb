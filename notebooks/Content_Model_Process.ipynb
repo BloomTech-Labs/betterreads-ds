{
  "nbformat": 4,
  "nbformat_minor": 0,
  "metadata": {
    "colab": {
      "name": "MRContent-Model.ipynb",
      "provenance": [],
      "collapsed_sections": [],
      "toc_visible": true
    },
    "kernelspec": {
      "name": "python3",
      "display_name": "Python 3"
    }
  },
  "cells": [
    {
      "cell_type": "markdown",
      "metadata": {
        "id": "k3ETe3AnP2MT",
        "colab_type": "text"
      },
      "source": [
        "# Content Based Model \n",
        "This notebook documents the process for serializing the components used for the recommender class. This includes spacy's nlp, the document term matrix and sklearn tfidf model used to vectorize text within the class"
      ]
    },
    {
      "cell_type": "code",
      "metadata": {
        "id": "vURQykw-QB53",
        "colab_type": "code",
        "colab": {}
      },
      "source": [
        "import os\n",
        "import re\n",
        "import pickle\n",
        "\n",
        "import pandas as pd\n",
        "from sklearn.feature_extraction.text import TfidfVectorizer\n",
        "from sklearn.neighbors import NearestNeighbors\n",
        "import spacy\n",
        "\n",
        "!python -m spacy download en_core_web_sm"
      ],
      "execution_count": 0,
      "outputs": []
    },
    {
      "cell_type": "markdown",
      "metadata": {
        "id": "3AlSNygZQbgP",
        "colab_type": "text"
      },
      "source": [
        "#### Data Source\n",
        "Our database contains a table `gb_data` with over 100,000 descriptions and text snippets to compare. The tfidf in this notebook is only trained on rows where description is not null."
      ]
    },
    {
      "cell_type": "code",
      "metadata": {
        "id": "fzd0TWUwQ__9",
        "colab_type": "code",
        "colab": {}
      },
      "source": [
        "query = '''\n",
        "SELECT *\n",
        "FROM gb_data\n",
        "'''"
      ],
      "execution_count": 0,
      "outputs": []
    },
    {
      "cell_type": "code",
      "metadata": {
        "id": "gPv4WBbhQb0e",
        "colab_type": "code",
        "colab": {}
      },
      "source": [
        "df = pd.read_sql(sql=query, con=os.environ[\"DATABASE_URL\"])"
      ],
      "execution_count": 0,
      "outputs": []
    },
    {
      "cell_type": "code",
      "metadata": {
        "id": "HKCOZxVqTwn_",
        "colab_type": "code",
        "colab": {}
      },
      "source": [
        "df = df.dropna(axis='index', subset=['description'])"
      ],
      "execution_count": 0,
      "outputs": []
    },
    {
      "cell_type": "code",
      "metadata": {
        "id": "LQFx-5f8UhLH",
        "colab_type": "code",
        "colab": {}
      },
      "source": [
        "def cleaner(text):\n",
        "    text = text.replace('\\n', ' ')\n",
        "    text = re.sub(r'\\W+\\s', ' ', text)\n",
        "    text = re.sub(r'[^a-zA-Z ^0-9]', '', text)\n",
        "    return text"
      ],
      "execution_count": 0,
      "outputs": []
    },
    {
      "cell_type": "code",
      "metadata": {
        "id": "qWFJcdEm2-Pc",
        "colab_type": "code",
        "colab": {}
      },
      "source": [
        "df['description'] = df['description'].apply(cleaner)"
      ],
      "execution_count": 0,
      "outputs": []
    },
    {
      "cell_type": "code",
      "metadata": {
        "id": "CP4BGLiUYwdT",
        "colab_type": "code",
        "colab": {}
      },
      "source": [
        "nlp = spacy.load('en_core_web_sm')"
      ],
      "execution_count": 0,
      "outputs": []
    },
    {
      "cell_type": "code",
      "metadata": {
        "id": "JxRJsdYyZeTQ",
        "colab_type": "code",
        "colab": {}
      },
      "source": [
        "STOP_WORDS = [\"new\", \"book\", \"author\", \"story\", \"life\", \"work\", \"best\", \n",
        "              \"edition\", \"readers\", \"include\", \"provide\", \"information\"]\n",
        "STOP_WORDS = nlp.Defaults.stop_words.union(STOP_WORDS)"
      ],
      "execution_count": 0,
      "outputs": []
    },
    {
      "cell_type": "code",
      "metadata": {
        "id": "yWkuzsx4Z5ih",
        "colab_type": "code",
        "colab": {}
      },
      "source": [
        "def tokenize(text):\n",
        "    '''\n",
        "    Input: String\n",
        "    Output: list of tokens\n",
        "    '''\n",
        "    doc = nlp(text)\n",
        "\n",
        "    tokens = []\n",
        "    \n",
        "    for token in doc:\n",
        "        if ((token.text.lower() not in STOP_WORDS) & \n",
        "            (token.is_punct == False) & \n",
        "            (token.pos_ != 'PRON') & \n",
        "            (token.is_alpha == True)):\n",
        "            tokens.append(token.text.lower())\n",
        "            \n",
        "    return tokens"
      ],
      "execution_count": 0,
      "outputs": []
    },
    {
      "cell_type": "code",
      "metadata": {
        "id": "j4c_AZBBd7mW",
        "colab_type": "code",
        "colab": {}
      },
      "source": [
        "tfidf = TfidfVectorizer(\n",
        "    analyzer='word',\n",
        "    ngram_range=(1, 2),\n",
        "    min_df=15,\n",
        "    max_df=0.85,\n",
        "    tokenizer=tokenize)"
      ],
      "execution_count": 0,
      "outputs": []
    },
    {
      "cell_type": "code",
      "metadata": {
        "id": "-cyvd5F7pnEB",
        "colab_type": "code",
        "colab": {}
      },
      "source": [
        "dtm = tfidf.fit_transform(df['description'])"
      ],
      "execution_count": 0,
      "outputs": []
    },
    {
      "cell_type": "markdown",
      "metadata": {
        "id": "58RfRO2tRpkM",
        "colab_type": "text"
      },
      "source": [
        "The document term matrix consists of 116k+ documents with over 90k unique unigrams and bigrams"
      ]
    },
    {
      "cell_type": "code",
      "metadata": {
        "id": "VQtGngvt8v13",
        "colab_type": "code",
        "outputId": "33bbeefa-9c69-4139-f97c-147cb6abbfbf",
        "colab": {
          "base_uri": "https://localhost:8080/",
          "height": 35
        }
      },
      "source": [
        "dtm.shape"
      ],
      "execution_count": 0,
      "outputs": [
        {
          "output_type": "execute_result",
          "data": {
            "text/plain": [
              "(116626, 96208)"
            ]
          },
          "metadata": {
            "tags": []
          },
          "execution_count": 31
        }
      ]
    },
    {
      "cell_type": "code",
      "metadata": {
        "id": "1v2Fjpnr8wvl",
        "colab_type": "code",
        "outputId": "755893ce-3f8f-47e9-fc60-a1506fda7c19",
        "colab": {
          "base_uri": "https://localhost:8080/",
          "height": 72
        }
      },
      "source": [
        "nn = NearestNeighbors(metric='cosine')\n",
        "nn.fit(dtm)"
      ],
      "execution_count": 0,
      "outputs": [
        {
          "output_type": "execute_result",
          "data": {
            "text/plain": [
              "NearestNeighbors(algorithm='auto', leaf_size=30, metric='cosine',\n",
              "                 metric_params=None, n_jobs=None, n_neighbors=5, p=2,\n",
              "                 radius=1.0)"
            ]
          },
          "metadata": {
            "tags": []
          },
          "execution_count": 33
        }
      ]
    },
    {
      "cell_type": "code",
      "metadata": {
        "id": "moHm6EBd168X",
        "colab_type": "code",
        "colab": {}
      },
      "source": [
        "ready_player_one = ['Immersing himself in a mid-21st-century '\n",
        "                    'technological virtual utopia to escape '\n",
        "                    'an ugly real world of famine, poverty '\n",
        "                    'and disease, Wade Watts joins an '\n",
        "                    'increasingly violent effort to solve a '\n",
        "                    \"series of puzzles by the virtual world's \"\n",
        "                    'super-wealthy creator, who has promised '\n",
        "                    'that the winner will be his heir. (This '\n",
        "                    'book was previously listed in Forecast.)']\n",
        "\n",
        "the_martian = [\"Nominated as one of America’s best-loved novels by PBS’s \"\n",
        "               \"The Great American Read Six days ago, astronaut Mark Watney \"\n",
        "               \"became one of the first people to walk on Mars. Now, he's sure \"\n",
        "               \"he'll be the first person to die there. After a dust storm \"\n",
        "               \"nearly kills him and forces his crew to evacuate while thinking \"\n",
        "               \"him dead, Mark finds himself stranded and completely alone with \"\n",
        "               \"no way to even signal Earth that he’s alive—and even if he \"\n",
        "               \"could get word out, his supplies would be gone long before a \"\n",
        "               \"rescue could arrive. Chances are, though, he won't have time to \"\n",
        "               \"starve to death. The damaged machinery, unforgiving environment, \"\n",
        "               \"or plain-old human error are much more likely to kill him first. \"\n",
        "               \"But Mark isn't ready to give up yet. Drawing on his ingenuity, \"\n",
        "               \"his engineering skills—and a relentless, dogged refusal to \"\n",
        "               \"quit—he steadfastly confronts one seemingly insurmountable \"\n",
        "               \"obstacle after the next. Will his resourcefulness be enough to \"\n",
        "               \"overcome the impossible odds against him?\"]"
      ],
      "execution_count": 0,
      "outputs": []
    },
    {
      "cell_type": "code",
      "metadata": {
        "id": "dxvJg2j_9X0b",
        "colab_type": "code",
        "outputId": "e098eefb-0235-44ad-87e3-8514bd8386a8",
        "colab": {
          "base_uri": "https://localhost:8080/",
          "height": 90
        }
      },
      "source": [
        "rp_one = tfidf.transform(ready_player_one)\n",
        "neighbors = nn.kneighbors(rp_one.todense(), n_neighbors=10)\n",
        "neighbors"
      ],
      "execution_count": 0,
      "outputs": [
        {
          "output_type": "execute_result",
          "data": {
            "text/plain": [
              "(array([[0.79823089, 0.84525823, 0.85666574, 0.85904816, 0.86928128,\n",
              "         0.87437104, 0.87959326, 0.87968499, 0.88407935, 0.88553481]]),\n",
              " array([[ 9327, 96848, 57228, 47717, 20798, 14723, 40165, 95049, 72260,\n",
              "         81469]]))"
            ]
          },
          "metadata": {
            "tags": []
          },
          "execution_count": 36
        }
      ]
    },
    {
      "cell_type": "code",
      "metadata": {
        "id": "JsGRn9NcISCZ",
        "colab_type": "code",
        "colab": {}
      },
      "source": [
        "def get_recs_wspacy(df, description):\n",
        "    \"\"\"\n",
        "    Gets recommendations via NN and sorted by average rating\n",
        "\n",
        "    df: pandas DataFrame object with textual description labeled as such\n",
        "    description: textual summary of book content\n",
        "    \"\"\"\n",
        "    description = [description]\n",
        "    book = tfidf.transform(description)\n",
        "    distances, neighbors = nn.kneighbors(book.todense(), n_neighbors=20)\n",
        "    neighbors = neighbors.tolist()[0]\n",
        "\n",
        "    sorted_ratings = df['averagerating'].iloc[neighbors].sort_values(ascending=False).index\n",
        "\n",
        "    for position, index in enumerate(sorted_ratings):\n",
        "        print(\"{0}. {1}\".format(position+1, df['title'].loc[index]))"
      ],
      "execution_count": 0,
      "outputs": []
    },
    {
      "cell_type": "code",
      "metadata": {
        "id": "__nVqgkrI86N",
        "colab_type": "code",
        "outputId": "1277ed11-9120-4d78-d7eb-753ba350abfa",
        "colab": {
          "base_uri": "https://localhost:8080/",
          "height": 384
        }
      },
      "source": [
        "automate = \"This is the second edition of the best selling Python book in \"\\\n",
        "           \"the world. Python Crash Course, 2nd Edition is a straightforward \"\\\n",
        "           \"introduction to the core of Python programming. Author Eric Matthes \"\\\n",
        "           \"dispenses with the sort of tedious, unnecessary information that \"\\\n",
        "           \"can get in the way of learning how to program, choosing instead to \"\\\n",
        "           \"provide a foundation in general programming concepts, Python \"\\\n",
        "           \"fundamentals, and problem solving. Three real world projects in the \"\\\n",
        "           \"second part of the book allow readers to apply their knowledge in \"\\\n",
        "           \"useful ways. Readers will learn how to create a simple video game, \"\\\n",
        "           \"use data visualization techniques to make graphs and charts, and \"\\\n",
        "           \"build and deploy an interactive web application. Python Crash \"\\\n",
        "           \"Course, 2nd Edition teaches beginners the essentials of Python \"\\\n",
        "           \"quickly so that they can build practical programs and develop \"\\\n",
        "           \"powerful programming techniques.\"\n",
        "\n",
        "get_recs(df, automate)"
      ],
      "execution_count": 0,
      "outputs": [
        {
          "output_type": "stream",
          "text": [
            "1. OpenGL Game Programming\n",
            "2. JavaScript and JQuery\n",
            "3. The Psychology of Computer Programming\n",
            "4. Compilers\n",
            "5. Earthsong\n",
            "6. Monty Python's Flying Circus\n",
            "7. Fundamentals of Python: First Programs\n",
            "8. Elinor\n",
            "9. The Fairly Incomplete & Rather Badly Illustrated Monty Python Song Book\n",
            "10. Monty Python's Big Red Book\n",
            "11. Never Trust a Calm Dog\n",
            "12. Beginning Programming with C++ For Dummies\n",
            "13. Koi's Python\n",
            "14. The Basic Book\n",
            "15. Animals That Show and Tell\n",
            "16. The Brand New Monty Python Papperbok\n",
            "17. Beginning iOS Programming For Dummies\n",
            "18. An Introduction to Programming with Modula-2\n",
            "19. The Best British Stand-Up and Comedy Routines\n",
            "20. QBasic for Beginners\n"
          ],
          "name": "stdout"
        }
      ]
    },
    {
      "cell_type": "markdown",
      "metadata": {
        "id": "Vx1TLS7MVYw2",
        "colab_type": "text"
      },
      "source": [
        "Serialized components for use within deployed application"
      ]
    },
    {
      "cell_type": "code",
      "metadata": {
        "id": "tw45XwkbVkg6",
        "colab_type": "code",
        "colab": {}
      },
      "source": [
        "pickle.dump(nlp, open('nlp.pkl', 'wb'))\n",
        "pickle.dump(tfidf, open('tfidf_model.pkl', 'wb'))\n",
        "pickle.dump(dtm, open('dtm.pkl', 'wb'))"
      ],
      "execution_count": 0,
      "outputs": []
    }
  ]
}