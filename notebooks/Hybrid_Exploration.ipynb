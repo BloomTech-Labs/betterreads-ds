{
  "nbformat": 4,
  "nbformat_minor": 0,
  "metadata": {
    "kernelspec": {
      "display_name": "Python3 (rec-systems)",
      "language": "python",
      "name": "rec-systems"
    },
    "language_info": {
      "codemirror_mode": {
        "name": "ipython",
        "version": 3
      },
      "file_extension": ".py",
      "mimetype": "text/x-python",
      "name": "python",
      "nbconvert_exporter": "python",
      "pygments_lexer": "ipython3",
      "version": "3.7.0"
    },
    "colab": {
      "name": "Hybrid_Exploration.ipynb",
      "provenance": [],
      "toc_visible": true
    }
  },
  "cells": [
    {
      "cell_type": "markdown",
      "metadata": {
        "id": "Ug55_jXPUJmt",
        "colab_type": "text"
      },
      "source": [
        "# Simple Hybrid Recommender\n",
        "This is a basic hybrid recommendation system that uses the 10k goodbooks data set\n",
        "in our database. There are 3 main components to this system:\n",
        "- Title Search\n",
        "    - Since currently, a bookshelf is sent without an identifier stored in our \n",
        "      database, and the identifier that _is_ sent can't be used without a call\n",
        "      to the google books API, the most practical thing to do is to search for \n",
        "      the _closest_ book. \n",
        "- Content Based System\n",
        "    - A cosine similarity matrix is built on similarity given a book description.\n",
        "      The values in that matrix will be multiplied by the weighted values of another\n",
        "      matrix, the cosine similarity of books through collaborative filtering\n",
        "- Collaborative Filtering\n",
        "    - User book ratings will be used here to create a sort of user engagement\n",
        "      matrix, from which the second similarity matrix will be derived\n",
        "      \n",
        "The recommender will work as follows:\n",
        "1. A title is searched for via a basic search engine (CountVectorizer)\n",
        "2. If the title is similar enough, the index of said title will be referenced in \n",
        "   a combined similarity matrix\n",
        "3. The top 10 most similar indices will be returned (along with pertinent information)"
      ]
    },
    {
      "cell_type": "code",
      "metadata": {
        "id": "f6ELg6IdUJmz",
        "colab_type": "code",
        "colab": {}
      },
      "source": [
        "import os\n",
        "import re\n",
        "import sys\n",
        "import pickle\n",
        "\n",
        "import pandas as pd\n",
        "import numpy as np\n",
        "from bs4 import BeautifulSoup as bs\n",
        "\n",
        "from scipy.sparse import csr_matrix\n",
        "from sklearn.feature_extraction.text import TfidfVectorizer, CountVectorizer\n",
        "from sklearn.neighbors import NearestNeighbors\n",
        "from sklearn.metrics.pairwise import linear_kernel, cosine_similarity"
      ],
      "execution_count": 0,
      "outputs": []
    },
    {
      "cell_type": "markdown",
      "metadata": {
        "id": "x6dRX9ioUJnL",
        "colab_type": "text"
      },
      "source": [
        "### Title Search Function\n",
        "This step is necessary because we don't get ISBNs in the response body. The ISBNs are also somewhat unreliable due to differing editions, versions etc."
      ]
    },
    {
      "cell_type": "code",
      "metadata": {
        "id": "ITOSBHOWUJnT",
        "colab_type": "code",
        "colab": {
          "base_uri": "https://localhost:8080/",
          "height": 628
        },
        "outputId": "a982cd4e-2ab0-4f8e-c8ad-3fefa1dee7a0"
      },
      "source": [
        "sql = \"\"\"\n",
        "SELECT *\n",
        "FROM goodbooks_books_xml;\n",
        "\"\"\"\n",
        "con = os.environ[\"DATABASE_URL\"]\n",
        "books = pd.read_sql(sql, con)\n",
        "books.head()"
      ],
      "execution_count": 4,
      "outputs": [
        {
          "output_type": "stream",
          "text": [
            "/usr/local/lib/python3.6/dist-packages/psycopg2/__init__.py:144: UserWarning: The psycopg2 wheel package will be renamed from release 2.8; in order to keep installing from binary please use \"pip install psycopg2-binary\" instead. For details see: <http://initd.org/psycopg/docs/install.html#binary-install-from-pypi>.\n",
            "  \"\"\")\n"
          ],
          "name": "stderr"
        },
        {
          "output_type": "execute_result",
          "data": {
            "text/html": [
              "<div>\n",
              "<style scoped>\n",
              "    .dataframe tbody tr th:only-of-type {\n",
              "        vertical-align: middle;\n",
              "    }\n",
              "\n",
              "    .dataframe tbody tr th {\n",
              "        vertical-align: top;\n",
              "    }\n",
              "\n",
              "    .dataframe thead th {\n",
              "        text-align: right;\n",
              "    }\n",
              "</style>\n",
              "<table border=\"1\" class=\"dataframe\">\n",
              "  <thead>\n",
              "    <tr style=\"text-align: right;\">\n",
              "      <th></th>\n",
              "      <th>id</th>\n",
              "      <th>title</th>\n",
              "      <th>isbn</th>\n",
              "      <th>isbn13</th>\n",
              "      <th>asin</th>\n",
              "      <th>kindle_asin</th>\n",
              "      <th>marketplace_id</th>\n",
              "      <th>country_code</th>\n",
              "      <th>image_url</th>\n",
              "      <th>small_image_url</th>\n",
              "      <th>publication_year</th>\n",
              "      <th>publication_month</th>\n",
              "      <th>publication_day</th>\n",
              "      <th>publisher</th>\n",
              "      <th>language_code</th>\n",
              "      <th>is_ebook</th>\n",
              "      <th>description</th>\n",
              "      <th>work</th>\n",
              "      <th>work_work</th>\n",
              "      <th>work_id</th>\n",
              "      <th>work_books_count</th>\n",
              "      <th>work_best_book_id</th>\n",
              "      <th>work_reviews_count</th>\n",
              "      <th>work_ratings_sum</th>\n",
              "      <th>work_ratings_count</th>\n",
              "      <th>work_text_reviews_count</th>\n",
              "      <th>work_original_publication_year</th>\n",
              "      <th>work_original_publication_month</th>\n",
              "      <th>work_original_publication_day</th>\n",
              "      <th>work_original_title</th>\n",
              "      <th>work_original_language_id</th>\n",
              "      <th>work_media_type</th>\n",
              "      <th>work_rating_dist</th>\n",
              "      <th>work_desc_user_id</th>\n",
              "      <th>work_default_chaptering_book_id</th>\n",
              "      <th>work_default_description_language_code</th>\n",
              "      <th>average_rating</th>\n",
              "      <th>num_pages</th>\n",
              "      <th>format</th>\n",
              "      <th>edition_information</th>\n",
              "      <th>ratings_count</th>\n",
              "      <th>text_reviews_count</th>\n",
              "      <th>url</th>\n",
              "      <th>link</th>\n",
              "      <th>authors</th>\n",
              "      <th>authors_authors</th>\n",
              "      <th>authors_author</th>\n",
              "      <th>authors_id</th>\n",
              "      <th>authors_name</th>\n",
              "      <th>authors_role</th>\n",
              "      <th>authors_image_url</th>\n",
              "      <th>authors_small_image_url</th>\n",
              "      <th>authors_link</th>\n",
              "      <th>authors_average_rating</th>\n",
              "      <th>authors_ratings_count</th>\n",
              "      <th>authors_text_reviews_count</th>\n",
              "      <th>public_document</th>\n",
              "      <th>public_document_public_document</th>\n",
              "      <th>public_document_id</th>\n",
              "      <th>public_document_document_url</th>\n",
              "    </tr>\n",
              "  </thead>\n",
              "  <tbody>\n",
              "    <tr>\n",
              "      <th>0</th>\n",
              "      <td>1162022</td>\n",
              "      <td>On the Jellicoe Road</td>\n",
              "      <td>0670070297</td>\n",
              "      <td>9780670070299</td>\n",
              "      <td>None</td>\n",
              "      <td>B00AMH0S8A</td>\n",
              "      <td>A1F83G8C2ARO7P</td>\n",
              "      <td>GB</td>\n",
              "      <td>https://s.gr-assets.com/assets/nophoto/book/11...</td>\n",
              "      <td>https://s.gr-assets.com/assets/nophoto/book/50...</td>\n",
              "      <td>2006</td>\n",
              "      <td>8</td>\n",
              "      <td>28</td>\n",
              "      <td>Penguin Australia</td>\n",
              "      <td>eng</td>\n",
              "      <td>false</td>\n",
              "      <td>I'm dreaming of the boy in the tree. I tell hi...</td>\n",
              "      <td>\\n</td>\n",
              "      <td>\\n</td>\n",
              "      <td>6479100</td>\n",
              "      <td>37</td>\n",
              "      <td>1162022</td>\n",
              "      <td>121977</td>\n",
              "      <td>168383</td>\n",
              "      <td>40624</td>\n",
              "      <td>6185</td>\n",
              "      <td>2006</td>\n",
              "      <td>None</td>\n",
              "      <td>None</td>\n",
              "      <td>On the Jellicoe Road</td>\n",
              "      <td>None</td>\n",
              "      <td>book</td>\n",
              "      <td>5:20011|4:11237|3:5957|2:2090|1:1329|total:40624</td>\n",
              "      <td>171430</td>\n",
              "      <td>None</td>\n",
              "      <td>None</td>\n",
              "      <td>4.14</td>\n",
              "      <td>290</td>\n",
              "      <td>Paperback</td>\n",
              "      <td>1st edition</td>\n",
              "      <td>33421</td>\n",
              "      <td>3771</td>\n",
              "      <td>https://www.goodreads.com/book/show/1162022.On...</td>\n",
              "      <td>https://www.goodreads.com/book/show/1162022.On...</td>\n",
              "      <td>\\n</td>\n",
              "      <td>\\n</td>\n",
              "      <td>\\n</td>\n",
              "      <td>47104</td>\n",
              "      <td>Melina Marchetta</td>\n",
              "      <td>None</td>\n",
              "      <td>\\nhttps://images.gr-assets.com/authors/1277655...</td>\n",
              "      <td>\\nhttps://images.gr-assets.com/authors/1277655...</td>\n",
              "      <td>https://www.goodreads.com/author/show/47104.Me...</td>\n",
              "      <td>4.06</td>\n",
              "      <td>159449</td>\n",
              "      <td>19650</td>\n",
              "      <td>None</td>\n",
              "      <td>None</td>\n",
              "      <td>None</td>\n",
              "      <td>None</td>\n",
              "    </tr>\n",
              "    <tr>\n",
              "      <th>1</th>\n",
              "      <td>18143968</td>\n",
              "      <td>I've Got You Under My Skin (Under Suspicion, #1)</td>\n",
              "      <td>147674906X</td>\n",
              "      <td>9781476749068</td>\n",
              "      <td>None</td>\n",
              "      <td>B00EBA5P1O</td>\n",
              "      <td>A1F83G8C2ARO7P</td>\n",
              "      <td>GB</td>\n",
              "      <td>https://images.gr-assets.com/books/1397768065m...</td>\n",
              "      <td>https://images.gr-assets.com/books/1397768065s...</td>\n",
              "      <td>2014</td>\n",
              "      <td>4</td>\n",
              "      <td>1</td>\n",
              "      <td>Simon  Schuster</td>\n",
              "      <td>eng</td>\n",
              "      <td>false</td>\n",
              "      <td>When Laurie Moran's husband was brutally murde...</td>\n",
              "      <td>\\n</td>\n",
              "      <td>\\n</td>\n",
              "      <td>25491291</td>\n",
              "      <td>46</td>\n",
              "      <td>18143968</td>\n",
              "      <td>22253</td>\n",
              "      <td>44529</td>\n",
              "      <td>11889</td>\n",
              "      <td>1224</td>\n",
              "      <td>2014</td>\n",
              "      <td>4</td>\n",
              "      <td>1</td>\n",
              "      <td>I've Got You Under My Skin</td>\n",
              "      <td>None</td>\n",
              "      <td>book</td>\n",
              "      <td>5:2977|4:4367|3:3347|2:937|1:261|total:11889</td>\n",
              "      <td>6355728</td>\n",
              "      <td>None</td>\n",
              "      <td>None</td>\n",
              "      <td>3.75</td>\n",
              "      <td>303</td>\n",
              "      <td>Hardcover</td>\n",
              "      <td>None</td>\n",
              "      <td>8892</td>\n",
              "      <td>1023</td>\n",
              "      <td>https://www.goodreads.com/book/show/18143968-i...</td>\n",
              "      <td>https://www.goodreads.com/book/show/18143968-i...</td>\n",
              "      <td>\\n</td>\n",
              "      <td>\\n</td>\n",
              "      <td>\\n</td>\n",
              "      <td>108774</td>\n",
              "      <td>Alafair Burke</td>\n",
              "      <td>None</td>\n",
              "      <td>\\nhttps://images.gr-assets.com/authors/1367515...</td>\n",
              "      <td>\\nhttps://images.gr-assets.com/authors/1367515...</td>\n",
              "      <td>https://www.goodreads.com/author/show/108774.A...</td>\n",
              "      <td>3.75</td>\n",
              "      <td>70989</td>\n",
              "      <td>8154</td>\n",
              "      <td>None</td>\n",
              "      <td>None</td>\n",
              "      <td>None</td>\n",
              "      <td>None</td>\n",
              "    </tr>\n",
              "    <tr>\n",
              "      <th>2</th>\n",
              "      <td>25403</td>\n",
              "      <td>The Orange Girl</td>\n",
              "      <td>0753819929</td>\n",
              "      <td>9780753819920</td>\n",
              "      <td>None</td>\n",
              "      <td>B004OBZNXU</td>\n",
              "      <td>A1F83G8C2ARO7P</td>\n",
              "      <td>GB</td>\n",
              "      <td>https://images.gr-assets.com/books/1415583796m...</td>\n",
              "      <td>https://images.gr-assets.com/books/1415583796s...</td>\n",
              "      <td>2005</td>\n",
              "      <td>7</td>\n",
              "      <td>6</td>\n",
              "      <td>None</td>\n",
              "      <td>eng</td>\n",
              "      <td>false</td>\n",
              "      <td>'My father died eleven years ago. I was only f...</td>\n",
              "      <td>\\n</td>\n",
              "      <td>\\n</td>\n",
              "      <td>1015565</td>\n",
              "      <td>85</td>\n",
              "      <td>25403</td>\n",
              "      <td>27592</td>\n",
              "      <td>61869</td>\n",
              "      <td>15820</td>\n",
              "      <td>1358</td>\n",
              "      <td>2003</td>\n",
              "      <td>None</td>\n",
              "      <td>None</td>\n",
              "      <td>Appelsinpiken</td>\n",
              "      <td>None</td>\n",
              "      <td>book</td>\n",
              "      <td>5:5184|4:5624|3:3704|2:1033|1:275|total:15820</td>\n",
              "      <td>43579257</td>\n",
              "      <td>None</td>\n",
              "      <td>None</td>\n",
              "      <td>3.91</td>\n",
              "      <td>160</td>\n",
              "      <td>None</td>\n",
              "      <td>None</td>\n",
              "      <td>10362</td>\n",
              "      <td>612</td>\n",
              "      <td>https://www.goodreads.com/book/show/25403.The_...</td>\n",
              "      <td>https://www.goodreads.com/book/show/25403.The_...</td>\n",
              "      <td>\\n</td>\n",
              "      <td>\\n</td>\n",
              "      <td>\\n</td>\n",
              "      <td>191735</td>\n",
              "      <td>James Anderson</td>\n",
              "      <td>Translator</td>\n",
              "      <td>\\nhttps://images.gr-assets.com/authors/1284560...</td>\n",
              "      <td>\\nhttps://images.gr-assets.com/authors/1284560...</td>\n",
              "      <td>https://www.goodreads.com/author/show/191735.J...</td>\n",
              "      <td>3.80</td>\n",
              "      <td>24511</td>\n",
              "      <td>1832</td>\n",
              "      <td>None</td>\n",
              "      <td>None</td>\n",
              "      <td>None</td>\n",
              "      <td>None</td>\n",
              "    </tr>\n",
              "    <tr>\n",
              "      <th>3</th>\n",
              "      <td>9914</td>\n",
              "      <td>The Informers</td>\n",
              "      <td>0330339184</td>\n",
              "      <td>9780330339186</td>\n",
              "      <td>None</td>\n",
              "      <td>B004FV4T3Y</td>\n",
              "      <td>A1F83G8C2ARO7P</td>\n",
              "      <td>GB</td>\n",
              "      <td>https://images.gr-assets.com/books/1374684746m...</td>\n",
              "      <td>https://images.gr-assets.com/books/1374684746s...</td>\n",
              "      <td>2000</td>\n",
              "      <td>None</td>\n",
              "      <td>None</td>\n",
              "      <td>MacMillan</td>\n",
              "      <td>en-GB</td>\n",
              "      <td>false</td>\n",
              "      <td>Set in Los Angeles, in the recent past. The bi...</td>\n",
              "      <td>\\n</td>\n",
              "      <td>\\n</td>\n",
              "      <td>1308950</td>\n",
              "      <td>53</td>\n",
              "      <td>9914</td>\n",
              "      <td>24808</td>\n",
              "      <td>49718</td>\n",
              "      <td>14685</td>\n",
              "      <td>477</td>\n",
              "      <td>1994</td>\n",
              "      <td>None</td>\n",
              "      <td>None</td>\n",
              "      <td>The Informers</td>\n",
              "      <td>None</td>\n",
              "      <td>book</td>\n",
              "      <td>5:2314|4:4328|3:5346|2:2101|1:596|total:14685</td>\n",
              "      <td>-51</td>\n",
              "      <td>None</td>\n",
              "      <td>None</td>\n",
              "      <td>3.39</td>\n",
              "      <td>240</td>\n",
              "      <td>Unknown Binding</td>\n",
              "      <td>None</td>\n",
              "      <td>12907</td>\n",
              "      <td>298</td>\n",
              "      <td>https://www.goodreads.com/book/show/9914.The_I...</td>\n",
              "      <td>https://www.goodreads.com/book/show/9914.The_I...</td>\n",
              "      <td>\\n</td>\n",
              "      <td>\\n</td>\n",
              "      <td>\\n</td>\n",
              "      <td>2751</td>\n",
              "      <td>Bret Easton Ellis</td>\n",
              "      <td>None</td>\n",
              "      <td>\\nhttps://images.gr-assets.com/authors/1405340...</td>\n",
              "      <td>\\nhttps://images.gr-assets.com/authors/1405340...</td>\n",
              "      <td>https://www.goodreads.com/author/show/2751.Bre...</td>\n",
              "      <td>3.69</td>\n",
              "      <td>323887</td>\n",
              "      <td>14657</td>\n",
              "      <td>None</td>\n",
              "      <td>None</td>\n",
              "      <td>None</td>\n",
              "      <td>None</td>\n",
              "    </tr>\n",
              "    <tr>\n",
              "      <th>4</th>\n",
              "      <td>39980</td>\n",
              "      <td>A Year Down Yonder (A Long Way from Chicago, #2)</td>\n",
              "      <td>0142300705</td>\n",
              "      <td>9780142300701</td>\n",
              "      <td>None</td>\n",
              "      <td>None</td>\n",
              "      <td>None</td>\n",
              "      <td>GB</td>\n",
              "      <td>https://s.gr-assets.com/assets/nophoto/book/11...</td>\n",
              "      <td>https://s.gr-assets.com/assets/nophoto/book/50...</td>\n",
              "      <td>2002</td>\n",
              "      <td>11</td>\n",
              "      <td>21</td>\n",
              "      <td>Puffin Books</td>\n",
              "      <td>eng</td>\n",
              "      <td>false</td>\n",
              "      <td>Mary Alice remembers childhood summers packed ...</td>\n",
              "      <td>\\n</td>\n",
              "      <td>\\n</td>\n",
              "      <td>39678</td>\n",
              "      <td>30</td>\n",
              "      <td>39980</td>\n",
              "      <td>33163</td>\n",
              "      <td>99867</td>\n",
              "      <td>24366</td>\n",
              "      <td>1637</td>\n",
              "      <td>2000</td>\n",
              "      <td>1</td>\n",
              "      <td>1</td>\n",
              "      <td>A Year Down Yonder</td>\n",
              "      <td>None</td>\n",
              "      <td>book</td>\n",
              "      <td>5:10198|4:8285|3:4425|2:1004|1:454|total:24366</td>\n",
              "      <td>4863716</td>\n",
              "      <td>None</td>\n",
              "      <td>None</td>\n",
              "      <td>4.10</td>\n",
              "      <td>160</td>\n",
              "      <td>Paperback</td>\n",
              "      <td>None</td>\n",
              "      <td>23326</td>\n",
              "      <td>1444</td>\n",
              "      <td>https://www.goodreads.com/book/show/39980.A_Ye...</td>\n",
              "      <td>https://www.goodreads.com/book/show/39980.A_Ye...</td>\n",
              "      <td>\\n</td>\n",
              "      <td>\\n</td>\n",
              "      <td>\\n</td>\n",
              "      <td>22414</td>\n",
              "      <td>Richard Peck</td>\n",
              "      <td>None</td>\n",
              "      <td>\\nhttps://images.gr-assets.com/authors/1299893...</td>\n",
              "      <td>\\nhttps://images.gr-assets.com/authors/1299893...</td>\n",
              "      <td>https://www.goodreads.com/author/show/22414.Ri...</td>\n",
              "      <td>3.91</td>\n",
              "      <td>86021</td>\n",
              "      <td>9084</td>\n",
              "      <td>None</td>\n",
              "      <td>None</td>\n",
              "      <td>None</td>\n",
              "      <td>None</td>\n",
              "    </tr>\n",
              "  </tbody>\n",
              "</table>\n",
              "</div>"
            ],
            "text/plain": [
              "         id  ... public_document_document_url\n",
              "0   1162022  ...                         None\n",
              "1  18143968  ...                         None\n",
              "2     25403  ...                         None\n",
              "3      9914  ...                         None\n",
              "4     39980  ...                         None\n",
              "\n",
              "[5 rows x 60 columns]"
            ]
          },
          "metadata": {
            "tags": []
          },
          "execution_count": 4
        }
      ]
    },
    {
      "cell_type": "code",
      "metadata": {
        "id": "QF-Hw2C6UJnm",
        "colab_type": "code",
        "colab": {}
      },
      "source": [
        "# Remove null isbn13s\n",
        "books = books.dropna(subset=['isbn13'])"
      ],
      "execution_count": 0,
      "outputs": []
    },
    {
      "cell_type": "code",
      "metadata": {
        "id": "sjjYDsuBUJn1",
        "colab_type": "code",
        "colab": {
          "base_uri": "https://localhost:8080/",
          "height": 35
        },
        "outputId": "ddb8664a-4fad-4aff-978f-b70e3f37353f"
      },
      "source": [
        "# books needs book id from old dataset\n",
        "csv_books = pd.read_csv('https://raw.githubusercontent.com/zygmuntz/goodbooks-10k/master/books.csv')\n",
        "csv_books['id'] = csv_books['goodreads_book_id']\n",
        "csv_books = csv_books[['id', 'title', 'book_id']]\n",
        "\n",
        "# Cast books['id'] as type int to match csv data\n",
        "books['id'] = books['id'].astype(int)\n",
        "\n",
        "# Merge datasets to match ratings\n",
        "books = books.merge(csv_books, on=['id', 'title'])\n",
        "\n",
        "# Remove isbn13 where value is null, these need to be used to search db\n",
        "books = books.dropna(subset=['isbn13'])\n",
        "books.shape"
      ],
      "execution_count": 6,
      "outputs": [
        {
          "output_type": "execute_result",
          "data": {
            "text/plain": [
              "(9405, 61)"
            ]
          },
          "metadata": {
            "tags": []
          },
          "execution_count": 6
        }
      ]
    },
    {
      "cell_type": "code",
      "metadata": {
        "id": "hohgnhCMUJoH",
        "colab_type": "code",
        "colab": {
          "base_uri": "https://localhost:8080/",
          "height": 424
        },
        "outputId": "3d06ed36-eb2b-43c3-d296-cdd6e4845cc2"
      },
      "source": [
        "# Which column has the actual author name?\n",
        "books[['authors', 'authors_authors', 'authors_author',\n",
        "       'authors_id', 'authors_name', 'authors_role']]"
      ],
      "execution_count": 7,
      "outputs": [
        {
          "output_type": "execute_result",
          "data": {
            "text/html": [
              "<div>\n",
              "<style scoped>\n",
              "    .dataframe tbody tr th:only-of-type {\n",
              "        vertical-align: middle;\n",
              "    }\n",
              "\n",
              "    .dataframe tbody tr th {\n",
              "        vertical-align: top;\n",
              "    }\n",
              "\n",
              "    .dataframe thead th {\n",
              "        text-align: right;\n",
              "    }\n",
              "</style>\n",
              "<table border=\"1\" class=\"dataframe\">\n",
              "  <thead>\n",
              "    <tr style=\"text-align: right;\">\n",
              "      <th></th>\n",
              "      <th>authors</th>\n",
              "      <th>authors_authors</th>\n",
              "      <th>authors_author</th>\n",
              "      <th>authors_id</th>\n",
              "      <th>authors_name</th>\n",
              "      <th>authors_role</th>\n",
              "    </tr>\n",
              "  </thead>\n",
              "  <tbody>\n",
              "    <tr>\n",
              "      <th>0</th>\n",
              "      <td>\\n</td>\n",
              "      <td>\\n</td>\n",
              "      <td>\\n</td>\n",
              "      <td>47104</td>\n",
              "      <td>Melina Marchetta</td>\n",
              "      <td>None</td>\n",
              "    </tr>\n",
              "    <tr>\n",
              "      <th>1</th>\n",
              "      <td>\\n</td>\n",
              "      <td>\\n</td>\n",
              "      <td>\\n</td>\n",
              "      <td>108774</td>\n",
              "      <td>Alafair Burke</td>\n",
              "      <td>None</td>\n",
              "    </tr>\n",
              "    <tr>\n",
              "      <th>2</th>\n",
              "      <td>\\n</td>\n",
              "      <td>\\n</td>\n",
              "      <td>\\n</td>\n",
              "      <td>191735</td>\n",
              "      <td>James Anderson</td>\n",
              "      <td>Translator</td>\n",
              "    </tr>\n",
              "    <tr>\n",
              "      <th>3</th>\n",
              "      <td>\\n</td>\n",
              "      <td>\\n</td>\n",
              "      <td>\\n</td>\n",
              "      <td>2751</td>\n",
              "      <td>Bret Easton Ellis</td>\n",
              "      <td>None</td>\n",
              "    </tr>\n",
              "    <tr>\n",
              "      <th>4</th>\n",
              "      <td>\\n</td>\n",
              "      <td>\\n</td>\n",
              "      <td>\\n</td>\n",
              "      <td>22414</td>\n",
              "      <td>Richard Peck</td>\n",
              "      <td>None</td>\n",
              "    </tr>\n",
              "    <tr>\n",
              "      <th>...</th>\n",
              "      <td>...</td>\n",
              "      <td>...</td>\n",
              "      <td>...</td>\n",
              "      <td>...</td>\n",
              "      <td>...</td>\n",
              "      <td>...</td>\n",
              "    </tr>\n",
              "    <tr>\n",
              "      <th>9400</th>\n",
              "      <td>\\n</td>\n",
              "      <td>\\n</td>\n",
              "      <td>\\n</td>\n",
              "      <td>38550</td>\n",
              "      <td>Brandon Sanderson</td>\n",
              "      <td>None</td>\n",
              "    </tr>\n",
              "    <tr>\n",
              "      <th>9401</th>\n",
              "      <td>\\n</td>\n",
              "      <td>\\n</td>\n",
              "      <td>\\n</td>\n",
              "      <td>1654</td>\n",
              "      <td>Terry Pratchett</td>\n",
              "      <td>None</td>\n",
              "    </tr>\n",
              "    <tr>\n",
              "      <th>9402</th>\n",
              "      <td>\\n</td>\n",
              "      <td>\\n</td>\n",
              "      <td>\\n</td>\n",
              "      <td>27398</td>\n",
              "      <td>Joshua Harris</td>\n",
              "      <td>None</td>\n",
              "    </tr>\n",
              "    <tr>\n",
              "      <th>9403</th>\n",
              "      <td>\\n</td>\n",
              "      <td>\\n</td>\n",
              "      <td>\\n</td>\n",
              "      <td>14617</td>\n",
              "      <td>Margaret Peterson Haddix</td>\n",
              "      <td>None</td>\n",
              "    </tr>\n",
              "    <tr>\n",
              "      <th>9404</th>\n",
              "      <td>\\n</td>\n",
              "      <td>\\n</td>\n",
              "      <td>\\n</td>\n",
              "      <td>11091</td>\n",
              "      <td>Lincoln Child</td>\n",
              "      <td>None</td>\n",
              "    </tr>\n",
              "  </tbody>\n",
              "</table>\n",
              "<p>9405 rows × 6 columns</p>\n",
              "</div>"
            ],
            "text/plain": [
              "     authors authors_authors  ...              authors_name authors_role\n",
              "0         \\n              \\n  ...          Melina Marchetta         None\n",
              "1         \\n              \\n  ...             Alafair Burke         None\n",
              "2         \\n              \\n  ...            James Anderson   Translator\n",
              "3         \\n              \\n  ...         Bret Easton Ellis         None\n",
              "4         \\n              \\n  ...              Richard Peck         None\n",
              "...      ...             ...  ...                       ...          ...\n",
              "9400      \\n              \\n  ...         Brandon Sanderson         None\n",
              "9401      \\n              \\n  ...           Terry Pratchett         None\n",
              "9402      \\n              \\n  ...             Joshua Harris         None\n",
              "9403      \\n              \\n  ...  Margaret Peterson Haddix         None\n",
              "9404      \\n              \\n  ...             Lincoln Child         None\n",
              "\n",
              "[9405 rows x 6 columns]"
            ]
          },
          "metadata": {
            "tags": []
          },
          "execution_count": 7
        }
      ]
    },
    {
      "cell_type": "code",
      "metadata": {
        "id": "YulsTGXCUJoW",
        "colab_type": "code",
        "colab": {
          "base_uri": "https://localhost:8080/",
          "height": 35
        },
        "outputId": "d01d1817-6e2a-4a72-f043-ff5f582248c3"
      },
      "source": [
        "# Drop duplicate titles (so that all matrices are the same size for comparison)\n",
        "books = books.drop_duplicates(['title'])\n",
        "books.shape"
      ],
      "execution_count": 8,
      "outputs": [
        {
          "output_type": "execute_result",
          "data": {
            "text/plain": [
              "(9371, 61)"
            ]
          },
          "metadata": {
            "tags": []
          },
          "execution_count": 8
        }
      ]
    },
    {
      "cell_type": "code",
      "metadata": {
        "id": "-10IvKrmUJon",
        "colab_type": "code",
        "colab": {
          "base_uri": "https://localhost:8080/",
          "height": 127
        },
        "outputId": "2f359593-2e9a-42c8-e0b3-fb4d1a97a7db"
      },
      "source": [
        "title_search_terms = books['title'] + ' ' + books['authors_name']\n",
        "title_search_terms.head()"
      ],
      "execution_count": 9,
      "outputs": [
        {
          "output_type": "execute_result",
          "data": {
            "text/plain": [
              "0                On the Jellicoe Road Melina Marchetta\n",
              "1    I've Got You Under My Skin (Under Suspicion, #...\n",
              "2                       The Orange Girl James Anderson\n",
              "3                      The Informers Bret Easton Ellis\n",
              "4    A Year Down Yonder (A Long Way from Chicago, #...\n",
              "dtype: object"
            ]
          },
          "metadata": {
            "tags": []
          },
          "execution_count": 9
        }
      ]
    },
    {
      "cell_type": "code",
      "metadata": {
        "id": "XgnNnpQEUJow",
        "colab_type": "code",
        "colab": {
          "base_uri": "https://localhost:8080/",
          "height": 35
        },
        "outputId": "d9c5bdd2-aaa8-4d21-f504-5529e0522154"
      },
      "source": [
        "# Take the titles + authors and create a document term matrix based on term counts\n",
        "vectorizer = CountVectorizer(ngram_range=(1, 2), max_df=190)\n",
        "title_term_matrix = vectorizer.fit_transform(title_search_terms)\n",
        "title_term_matrix.shape"
      ],
      "execution_count": 10,
      "outputs": [
        {
          "output_type": "execute_result",
          "data": {
            "text/plain": [
              "(9371, 47802)"
            ]
          },
          "metadata": {
            "tags": []
          },
          "execution_count": 10
        }
      ]
    },
    {
      "cell_type": "code",
      "metadata": {
        "id": "fIsdtm9hUJo-",
        "colab_type": "code",
        "colab": {
          "base_uri": "https://localhost:8080/",
          "height": 72
        },
        "outputId": "e634b320-05c7-47bd-ab7e-0da30397a1aa"
      },
      "source": [
        "nn = NearestNeighbors(algorithm='brute', metric='cosine')\n",
        "nn.fit(title_term_matrix)"
      ],
      "execution_count": 11,
      "outputs": [
        {
          "output_type": "execute_result",
          "data": {
            "text/plain": [
              "NearestNeighbors(algorithm='brute', leaf_size=30, metric='cosine',\n",
              "                 metric_params=None, n_jobs=None, n_neighbors=5, p=2,\n",
              "                 radius=1.0)"
            ]
          },
          "metadata": {
            "tags": []
          },
          "execution_count": 11
        }
      ]
    },
    {
      "cell_type": "code",
      "metadata": {
        "id": "9N4kRd5rUJpT",
        "colab_type": "code",
        "colab": {}
      },
      "source": [
        "def closest_titles(title, thresh=1.0):\n",
        "    \"\"\"\n",
        "    Returns closest title if within parameter\n",
        "    \n",
        "    thresh: if distance falls below this param, print title details\n",
        "    \"\"\"\n",
        "    title = [title]\n",
        "    title_transformed = vectorizer.transform(title)\n",
        "    distances, indices = nn.kneighbors(title_transformed)\n",
        "    distances = distances.flatten()\n",
        "    indices = indices.flatten()\n",
        "    nearest = list(zip(distances, indices))[0]\n",
        "    \n",
        "    if nearest[0] < thresh:\n",
        "        i = nearest[1]\n",
        "        d = nearest[0]\n",
        "        print(\"%i | %.3f - %s\" % (i, d, books['title'].iloc[i]))\n",
        "    else:\n",
        "        print('No good match found. Send to content based')\n",
        "        \n",
        "def all_details(title):\n",
        "    \"\"\"Prints all closest indices, distances and titles\"\"\"\n",
        "    title = [title]\n",
        "    title_transformed = vectorizer.transform(title)\n",
        "    distances, indices = nn.kneighbors(title_transformed)\n",
        "    distances = distances.flatten()\n",
        "    indices = indices.flatten()\n",
        "    nearest = list(zip(distances, indices))\n",
        "    \n",
        "    for d, i in nearest:\n",
        "        print(\"%i | %.3f - %s\" % (i, d, books['title'].iloc[i]))\n",
        "        \n",
        "def all_titles(title):\n",
        "    closest_titles(title, thresh=.631)\n",
        "    print(\"\\nNeighbors:\")\n",
        "    print(\"~~~~~~~~~~\")\n",
        "    all_details(title)"
      ],
      "execution_count": 0,
      "outputs": []
    },
    {
      "cell_type": "markdown",
      "metadata": {
        "id": "dfXyIw3YUJpe",
        "colab_type": "text"
      },
      "source": [
        "Now we have a basic search engine to match most book queries to our 10k data:"
      ]
    },
    {
      "cell_type": "code",
      "metadata": {
        "id": "7peCU0BeUJpi",
        "colab_type": "code",
        "colab": {
          "base_uri": "https://localhost:8080/",
          "height": 182
        },
        "outputId": "edc9164d-86b0-4eb9-9c49-05938cb5995d"
      },
      "source": [
        "all_titles(\"waking up sam harris\")"
      ],
      "execution_count": 13,
      "outputs": [
        {
          "output_type": "stream",
          "text": [
            "8662 | 0.388 - Waking Up: A Guide to Spirituality Without Religion\n",
            "\n",
            "Neighbors:\n",
            "~~~~~~~~~~\n",
            "8662 | 0.388 - Waking Up: A Guide to Spirituality Without Religion\n",
            "5706 | 0.537 - Free Will\n",
            "6709 | 0.613 - Letter to a Christian Nation\n",
            "2982 | 0.719 - The End of Faith: Religion, Terror, and the Future of Reason\n",
            "302 | 0.726 - The Moral Landscape: How Science Can Determine Human Values\n"
          ],
          "name": "stdout"
        }
      ]
    },
    {
      "cell_type": "markdown",
      "metadata": {
        "id": "OMJPjcx4UJp1",
        "colab_type": "text"
      },
      "source": [
        "### Collaborative Filtering Component\n",
        "Now that we have a content based similarity matrix, the ratings table can be used to get a content based similarity matrix"
      ]
    },
    {
      "cell_type": "code",
      "metadata": {
        "id": "F63Ri6EoUJp3",
        "colab_type": "code",
        "colab": {
          "base_uri": "https://localhost:8080/",
          "height": 35
        },
        "outputId": "089a7578-82c7-44ab-d7b3-b51168025701"
      },
      "source": [
        "# Get the ratings data\n",
        "ratings = pd.read_csv('https://raw.githubusercontent.com/zygmuntz/goodbooks-10k/master/ratings.csv')\n",
        "ratings.shape"
      ],
      "execution_count": 14,
      "outputs": [
        {
          "output_type": "execute_result",
          "data": {
            "text/plain": [
              "(5976479, 3)"
            ]
          },
          "metadata": {
            "tags": []
          },
          "execution_count": 14
        }
      ]
    },
    {
      "cell_type": "code",
      "metadata": {
        "id": "9sjGN7cgUJqH",
        "colab_type": "code",
        "colab": {
          "base_uri": "https://localhost:8080/",
          "height": 206
        },
        "outputId": "5f7024d3-6bfb-4659-af93-3cc2d499c379"
      },
      "source": [
        "# Change 'book_id' to 'id' so that we can merge with books\n",
        "ratings['id'] = ratings['book_id']\n",
        "ratings.head()"
      ],
      "execution_count": 15,
      "outputs": [
        {
          "output_type": "execute_result",
          "data": {
            "text/html": [
              "<div>\n",
              "<style scoped>\n",
              "    .dataframe tbody tr th:only-of-type {\n",
              "        vertical-align: middle;\n",
              "    }\n",
              "\n",
              "    .dataframe tbody tr th {\n",
              "        vertical-align: top;\n",
              "    }\n",
              "\n",
              "    .dataframe thead th {\n",
              "        text-align: right;\n",
              "    }\n",
              "</style>\n",
              "<table border=\"1\" class=\"dataframe\">\n",
              "  <thead>\n",
              "    <tr style=\"text-align: right;\">\n",
              "      <th></th>\n",
              "      <th>user_id</th>\n",
              "      <th>book_id</th>\n",
              "      <th>rating</th>\n",
              "      <th>id</th>\n",
              "    </tr>\n",
              "  </thead>\n",
              "  <tbody>\n",
              "    <tr>\n",
              "      <th>0</th>\n",
              "      <td>1</td>\n",
              "      <td>258</td>\n",
              "      <td>5</td>\n",
              "      <td>258</td>\n",
              "    </tr>\n",
              "    <tr>\n",
              "      <th>1</th>\n",
              "      <td>2</td>\n",
              "      <td>4081</td>\n",
              "      <td>4</td>\n",
              "      <td>4081</td>\n",
              "    </tr>\n",
              "    <tr>\n",
              "      <th>2</th>\n",
              "      <td>2</td>\n",
              "      <td>260</td>\n",
              "      <td>5</td>\n",
              "      <td>260</td>\n",
              "    </tr>\n",
              "    <tr>\n",
              "      <th>3</th>\n",
              "      <td>2</td>\n",
              "      <td>9296</td>\n",
              "      <td>5</td>\n",
              "      <td>9296</td>\n",
              "    </tr>\n",
              "    <tr>\n",
              "      <th>4</th>\n",
              "      <td>2</td>\n",
              "      <td>2318</td>\n",
              "      <td>3</td>\n",
              "      <td>2318</td>\n",
              "    </tr>\n",
              "  </tbody>\n",
              "</table>\n",
              "</div>"
            ],
            "text/plain": [
              "   user_id  book_id  rating    id\n",
              "0        1      258       5   258\n",
              "1        2     4081       4  4081\n",
              "2        2      260       5   260\n",
              "3        2     9296       5  9296\n",
              "4        2     2318       3  2318"
            ]
          },
          "metadata": {
            "tags": []
          },
          "execution_count": 15
        }
      ]
    },
    {
      "cell_type": "code",
      "metadata": {
        "id": "UqYBc4yJUJqR",
        "colab_type": "code",
        "colab": {
          "base_uri": "https://localhost:8080/",
          "height": 206
        },
        "outputId": "c8ac3cbb-2bef-442c-cd9b-03b61b3beeff"
      },
      "source": [
        "# Merge ratings data with books\n",
        "merged = ratings.merge(books, on='book_id', how='inner')\n",
        "merged = merged[['user_id', 'rating', 'title', 'book_id']]\n",
        "merged.head()"
      ],
      "execution_count": 16,
      "outputs": [
        {
          "output_type": "execute_result",
          "data": {
            "text/html": [
              "<div>\n",
              "<style scoped>\n",
              "    .dataframe tbody tr th:only-of-type {\n",
              "        vertical-align: middle;\n",
              "    }\n",
              "\n",
              "    .dataframe tbody tr th {\n",
              "        vertical-align: top;\n",
              "    }\n",
              "\n",
              "    .dataframe thead th {\n",
              "        text-align: right;\n",
              "    }\n",
              "</style>\n",
              "<table border=\"1\" class=\"dataframe\">\n",
              "  <thead>\n",
              "    <tr style=\"text-align: right;\">\n",
              "      <th></th>\n",
              "      <th>user_id</th>\n",
              "      <th>rating</th>\n",
              "      <th>title</th>\n",
              "      <th>book_id</th>\n",
              "    </tr>\n",
              "  </thead>\n",
              "  <tbody>\n",
              "    <tr>\n",
              "      <th>0</th>\n",
              "      <td>1</td>\n",
              "      <td>5</td>\n",
              "      <td>The Shadow of the Wind (The Cemetery of Forgot...</td>\n",
              "      <td>258</td>\n",
              "    </tr>\n",
              "    <tr>\n",
              "      <th>1</th>\n",
              "      <td>11</td>\n",
              "      <td>3</td>\n",
              "      <td>The Shadow of the Wind (The Cemetery of Forgot...</td>\n",
              "      <td>258</td>\n",
              "    </tr>\n",
              "    <tr>\n",
              "      <th>2</th>\n",
              "      <td>143</td>\n",
              "      <td>4</td>\n",
              "      <td>The Shadow of the Wind (The Cemetery of Forgot...</td>\n",
              "      <td>258</td>\n",
              "    </tr>\n",
              "    <tr>\n",
              "      <th>3</th>\n",
              "      <td>242</td>\n",
              "      <td>5</td>\n",
              "      <td>The Shadow of the Wind (The Cemetery of Forgot...</td>\n",
              "      <td>258</td>\n",
              "    </tr>\n",
              "    <tr>\n",
              "      <th>4</th>\n",
              "      <td>325</td>\n",
              "      <td>4</td>\n",
              "      <td>The Shadow of the Wind (The Cemetery of Forgot...</td>\n",
              "      <td>258</td>\n",
              "    </tr>\n",
              "  </tbody>\n",
              "</table>\n",
              "</div>"
            ],
            "text/plain": [
              "   user_id  rating                                              title  book_id\n",
              "0        1       5  The Shadow of the Wind (The Cemetery of Forgot...      258\n",
              "1       11       3  The Shadow of the Wind (The Cemetery of Forgot...      258\n",
              "2      143       4  The Shadow of the Wind (The Cemetery of Forgot...      258\n",
              "3      242       5  The Shadow of the Wind (The Cemetery of Forgot...      258\n",
              "4      325       4  The Shadow of the Wind (The Cemetery of Forgot...      258"
            ]
          },
          "metadata": {
            "tags": []
          },
          "execution_count": 16
        }
      ]
    },
    {
      "cell_type": "code",
      "metadata": {
        "id": "yCfdifZIUJqf",
        "colab_type": "code",
        "colab": {
          "base_uri": "https://localhost:8080/",
          "height": 35
        },
        "outputId": "d85a33b0-c4f8-4adf-84a7-3750e48f1a5b"
      },
      "source": [
        "# Remove rows where both title and user_id are duplicated\n",
        "merged = merged.drop_duplicates(['user_id', 'title'])\n",
        "merged.shape"
      ],
      "execution_count": 17,
      "outputs": [
        {
          "output_type": "execute_result",
          "data": {
            "text/plain": [
              "(5765108, 4)"
            ]
          },
          "metadata": {
            "tags": []
          },
          "execution_count": 17
        }
      ]
    },
    {
      "cell_type": "code",
      "metadata": {
        "id": "LNVh9bmFUJqs",
        "colab_type": "code",
        "colab": {}
      },
      "source": [
        "# Create user ratings pivot table and fill null values with zeros\n",
        "matrix2d = merged.pivot(index='title', columns='user_id', values='rating').fillna(0)"
      ],
      "execution_count": 0,
      "outputs": []
    },
    {
      "cell_type": "code",
      "metadata": {
        "id": "koq9rmFzUJq3",
        "colab_type": "code",
        "colab": {
          "base_uri": "https://localhost:8080/",
          "height": 35
        },
        "outputId": "24f1d80e-5334-4813-e5fe-77506874e9de"
      },
      "source": [
        "# 2D matrix is ~4gb in memory, need to clear this later\n",
        "sys.getsizeof(matrix2d)"
      ],
      "execution_count": 19,
      "outputs": [
        {
          "output_type": "execute_result",
          "data": {
            "text/plain": [
              "4005937013"
            ]
          },
          "metadata": {
            "tags": []
          },
          "execution_count": 19
        }
      ]
    },
    {
      "cell_type": "code",
      "metadata": {
        "id": "EyiBgqO5UJrE",
        "colab_type": "code",
        "colab": {}
      },
      "source": [
        "# Compress the matrix since it is so sparse\n",
        "comp2d = csr_matrix(matrix2d.values)"
      ],
      "execution_count": 0,
      "outputs": []
    },
    {
      "cell_type": "code",
      "metadata": {
        "id": "mh2WxUHhUJrM",
        "colab_type": "code",
        "colab": {
          "base_uri": "https://localhost:8080/",
          "height": 35
        },
        "outputId": "f0ad37a2-62fa-467a-b1fa-bba862ca4f75"
      },
      "source": [
        "# Compressed matrix is much smaller\n",
        "print(\"Size of compressed matrix:\", sys.getsizeof(comp2d))\n",
        "\n",
        "# Keep 2D matrix index for use with content based model (matrices need to match)\n",
        "book_index = matrix2d.index\n",
        "del matrix2d"
      ],
      "execution_count": 21,
      "outputs": [
        {
          "output_type": "stream",
          "text": [
            "Size of compressed matrix: 56\n"
          ],
          "name": "stdout"
        }
      ]
    },
    {
      "cell_type": "code",
      "metadata": {
        "id": "cxN6HDc3UJrV",
        "colab_type": "code",
        "colab": {
          "base_uri": "https://localhost:8080/",
          "height": 35
        },
        "outputId": "cd316a6f-52e9-4c30-eed4-71c271c6eb52"
      },
      "source": [
        "# Construct a cosine similarity matrix\n",
        "collab_sim = cosine_similarity(comp2d, comp2d)\n",
        "collab_sim.shape"
      ],
      "execution_count": 22,
      "outputs": [
        {
          "output_type": "execute_result",
          "data": {
            "text/plain": [
              "(9371, 9371)"
            ]
          },
          "metadata": {
            "tags": []
          },
          "execution_count": 22
        }
      ]
    },
    {
      "cell_type": "markdown",
      "metadata": {
        "id": "mB79urnnUJrj",
        "colab_type": "text"
      },
      "source": [
        "### Content Based Component\n",
        "This part of the system creates a cosine similarity matrix based on textual description. Using TF-IDF Vectorizer from sklearn right out of the box to avoid placing more large files in the flask application directory"
      ]
    },
    {
      "cell_type": "code",
      "metadata": {
        "id": "0v0SWRbTUJrm",
        "colab_type": "code",
        "colab": {}
      },
      "source": [
        "# Make sure descriptions are based on the books included in content model\n",
        "descriptions = books[books['title'].isin(book_index)]\n",
        "# Reorder indices so final matrices match\n",
        "descriptions = descriptions.set_index('title').reindex(book_index)\n",
        "# Fill null descriptions with some sort of string \n",
        "descriptions = descriptions['description'].fillna('None')"
      ],
      "execution_count": 0,
      "outputs": []
    },
    {
      "cell_type": "code",
      "metadata": {
        "id": "XY1J-Wg2UJr3",
        "colab_type": "code",
        "colab": {}
      },
      "source": [
        "# Some minor cleaning\n",
        "def get_text(text):\n",
        "    \"\"\"Extracts text from html\"\"\"\n",
        "    if type(text) == float:\n",
        "        return \"None\"    \n",
        "    soup = bs(text)    \n",
        "    return soup.text"
      ],
      "execution_count": 0,
      "outputs": []
    },
    {
      "cell_type": "code",
      "metadata": {
        "id": "_gAvycJnUJr_",
        "colab_type": "code",
        "colab": {}
      },
      "source": [
        "descriptions = descriptions.str.strip(\"'\")\n",
        "descriptions = descriptions.apply(get_text)"
      ],
      "execution_count": 0,
      "outputs": []
    },
    {
      "cell_type": "code",
      "metadata": {
        "id": "-xYMqME8UJsI",
        "colab_type": "code",
        "colab": {}
      },
      "source": [
        "# Tokenize and vectorize descriptions using TF-IDF\n",
        "tfidf = TfidfVectorizer(\n",
        "            stop_words='english', \n",
        "            ngram_range=(1, 2),\n",
        "            min_df=8, max_df=.80)\n",
        "dtm = tfidf.fit_transform(descriptions)"
      ],
      "execution_count": 0,
      "outputs": []
    },
    {
      "cell_type": "code",
      "metadata": {
        "id": "SRwhJ9LnUJsS",
        "colab_type": "code",
        "colab": {
          "base_uri": "https://localhost:8080/",
          "height": 35
        },
        "outputId": "f2af39b0-c8c5-4a26-df09-6589b00fc629"
      },
      "source": [
        "# Using linear kernel since getting dot product after tfidf gives cosine similarity\n",
        "content_sim = linear_kernel(dtm, dtm)\n",
        "content_sim.shape"
      ],
      "execution_count": 27,
      "outputs": [
        {
          "output_type": "execute_result",
          "data": {
            "text/plain": [
              "(9371, 9371)"
            ]
          },
          "metadata": {
            "tags": []
          },
          "execution_count": 27
        }
      ]
    },
    {
      "cell_type": "markdown",
      "metadata": {
        "id": "W1UScyJeUJsg",
        "colab_type": "text"
      },
      "source": [
        "### Combine Matrices\n",
        "In this last step, the matrices are weighted and combined into one similarity matrix. The collaborative matrix will be weighted higher, since its latent data tells us much more about books than the description alone can. The final score will be an average of the two scores"
      ]
    },
    {
      "cell_type": "code",
      "metadata": {
        "id": "C3QJUlEIUJsk",
        "colab_type": "code",
        "colab": {
          "base_uri": "https://localhost:8080/",
          "height": 90
        },
        "outputId": "fd7adbc4-5c77-469d-eacb-68c15ab46c22"
      },
      "source": [
        "hybrid_scores = ((collab_sim * 1.5) + content_sim) / 2\n",
        "print(hybrid_scores.shape)\n",
        "print(hybrid_scores[0])\n",
        "\n",
        "# Compress the hybrid matrix (would be way too large in memory otherwise)\n",
        "compressed_hybrid = csr_matrix(hybrid_scores)\n",
        "print(\"Compressed size:\", sys.getsizeof(compressed_hybrid))\n",
        "print(\"Not compressed:\", sys.getsizeof(hybrid_scores))"
      ],
      "execution_count": 58,
      "outputs": [
        {
          "output_type": "stream",
          "text": [
            "(9371, 9371)\n",
            "[1.25       0.         0.00620319 ... 0.         0.01037456 0.        ]\n",
            "Compressed size: 56\n",
            "Not compressed: 702525240\n"
          ],
          "name": "stdout"
        }
      ]
    },
    {
      "cell_type": "code",
      "metadata": {
        "id": "jY5UtJ9UWxq1",
        "colab_type": "code",
        "colab": {
          "base_uri": "https://localhost:8080/",
          "height": 54
        },
        "outputId": "51d4bec4-fe74-4244-e1c7-f2f69e350981"
      },
      "source": [
        "# Values can be accessed like so:\n",
        "compressed_hybrid[0].toarray().flatten()"
      ],
      "execution_count": 60,
      "outputs": [
        {
          "output_type": "execute_result",
          "data": {
            "text/plain": [
              "array([1.25      , 0.        , 0.00620319, ..., 0.        , 0.01037456,\n",
              "       0.        ])"
            ]
          },
          "metadata": {
            "tags": []
          },
          "execution_count": 60
        }
      ]
    },
    {
      "cell_type": "code",
      "metadata": {
        "id": "wYSZ_UejUJsv",
        "colab_type": "code",
        "colab": {}
      },
      "source": [
        "books_identifiers = books[books['title'].isin(book_index)][['title', 'isbn13', 'isbn']]\n",
        "master_index = books_identifiers.set_index('title').reindex(book_index)"
      ],
      "execution_count": 0,
      "outputs": []
    },
    {
      "cell_type": "code",
      "metadata": {
        "id": "Elis99KAUJs4",
        "colab_type": "code",
        "colab": {}
      },
      "source": [
        "# Redefine the title search function so that it returns closest book\n",
        "def closest_title(title_author, thresh=1.0):\n",
        "    \"\"\"\n",
        "    Returns closest title if within parameter\n",
        "    \n",
        "    thresh: if distance falls below this param, print title details\n",
        "    \"\"\"\n",
        "    title_author = [title_author]\n",
        "    title_transformed = vectorizer.transform(title_author)\n",
        "    distances, indices = nn.kneighbors(title_transformed)\n",
        "    distances = distances.flatten()\n",
        "    indices = indices.flatten()\n",
        "    nearest = list(zip(distances, indices))[0]\n",
        "    \n",
        "    if nearest[0] < thresh:\n",
        "        i = nearest[1]\n",
        "        d = nearest[0]\n",
        "        return books['title'].iloc[i]\n",
        "    else:\n",
        "        return False\n",
        "\n",
        "def get_recs(title_author, thresh):\n",
        "    \"\"\"Get recommendations based on neares title\"\"\"\n",
        "    title = closest_title(title_author, thresh=thresh)\n",
        "    \n",
        "    if title:\n",
        "        idx = book_index.tolist().index(title)\n",
        "        sim_scores = list(enumerate(compressed_hybrid[idx].toarray().flatten()))\n",
        "        sim_scores = sorted(sim_scores, key=lambda x: x[1], reverse=True)\n",
        "        sim_scores = sim_scores[1:11]\n",
        "        indices = [i[0] for i in sim_scores]\n",
        "        titles = book_index[indices]\n",
        "        \n",
        "        return master_index.loc[titles]\n",
        "    else:\n",
        "        message = \"Send to alternative model\"\n",
        "        return message\n",
        "    "
      ],
      "execution_count": 0,
      "outputs": []
    },
    {
      "cell_type": "markdown",
      "metadata": {
        "id": "1K3t_DnKUJs_",
        "colab_type": "text"
      },
      "source": [
        "It would be a good idea to check the recommendations to see if they make sense before commiting to using them in the API"
      ]
    },
    {
      "cell_type": "code",
      "metadata": {
        "id": "t-hKWCHZUJtA",
        "colab_type": "code",
        "colab": {
          "base_uri": "https://localhost:8080/",
          "height": 237
        },
        "outputId": "0230c99e-8681-464f-9e23-be9afef5a73f"
      },
      "source": [
        "THRESH = .5\n",
        "\n",
        "print(get_recs('waking up sam harris', THRESH))"
      ],
      "execution_count": 62,
      "outputs": [
        {
          "output_type": "stream",
          "text": [
            "                                                           isbn13        isbn\n",
            "title                                                                        \n",
            "The Moral Landscape: How Science Can Determine ...  9781439171219  1439171211\n",
            "The End of Faith: Religion, Terror, and the Fut...  9780393327656  0393327655\n",
            "Letter to a Christian Nation                        9780307265777  0307265773\n",
            "Free Will                                           9781451683400  1451683405\n",
            "god is Not Great: How Religion Poisons Everything   9780446579803  0446579807\n",
            "10% Happier: How I Tamed the Voice in My Head, ...  9780062265425  0062265423\n",
            "The Portable Atheist: Essential Readings for th...  9780306816086  0306816083\n",
            "A Universe from Nothing: Why There Is Something...  9781451624458  145162445X\n",
            "The Better Angels of Our Nature: Why Violence H...  9780670022953  0670022950\n",
            "No Place to Run (KGI, #2)                           9780425238196  0425238199\n"
          ],
          "name": "stdout"
        }
      ]
    },
    {
      "cell_type": "code",
      "metadata": {
        "id": "k_wbFvEvUJtJ",
        "colab_type": "code",
        "colab": {
          "base_uri": "https://localhost:8080/",
          "height": 35
        },
        "outputId": "89947cb1-8bec-4ad5-8e21-f1fe601590c1"
      },
      "source": [
        "print(get_recs('Where the crawdads sing delia owens', THRESH))"
      ],
      "execution_count": 63,
      "outputs": [
        {
          "output_type": "stream",
          "text": [
            "Send to alternative model\n"
          ],
          "name": "stdout"
        }
      ]
    },
    {
      "cell_type": "code",
      "metadata": {
        "id": "HpXQYsylUJtS",
        "colab_type": "code",
        "colab": {
          "base_uri": "https://localhost:8080/",
          "height": 237
        },
        "outputId": "677a10e9-b7e2-48b3-c37d-4854b94c5b41"
      },
      "source": [
        "print(get_recs('voyager diana gabaldon', THRESH))"
      ],
      "execution_count": 64,
      "outputs": [
        {
          "output_type": "stream",
          "text": [
            "                                                           isbn13        isbn\n",
            "title                                                                        \n",
            "Drums of Autumn (Outlander, #4)                     9780385335980  0385335989\n",
            "Dragonfly in Amber (Outlander, #2)                  9780385335973  0385335970\n",
            "The Fiery Cross (Outlander, #5)                     9780440221661  0440221668\n",
            "A Breath of Snow and Ashes (Outlander, #6)          9780385340397  0385340397\n",
            "An Echo in the Bone (Outlander, #7)                 9780752898476  0752898477\n",
            "Outlander (Outlander, #1)                           9780440242949  0440242940\n",
            "Written in My Own Heart's Blood (Outlander, #8)     9780385344432  0385344430\n",
            "Lord John and the Private Matter (Lord John Gre...  9780770429454  0770429459\n",
            "Lord John and the Brotherhood of the Blade  (Lo...  9780385337496  0385337493\n",
            "The Scottish Prisoner (Lord John Grey, #3)          9781409135197  1409135195\n"
          ],
          "name": "stdout"
        }
      ]
    },
    {
      "cell_type": "code",
      "metadata": {
        "id": "8a8VFhaSUJtk",
        "colab_type": "code",
        "colab": {
          "base_uri": "https://localhost:8080/",
          "height": 237
        },
        "outputId": "920c5025-a3cc-4215-e3a3-c2a7698e12fd"
      },
      "source": [
        "print(get_recs('The martian andy weir', THRESH))"
      ],
      "execution_count": 65,
      "outputs": [
        {
          "output_type": "stream",
          "text": [
            "                                          isbn13        isbn\n",
            "title                                                       \n",
            "Ready Player One                   9780307887436  030788743X\n",
            "The Girl on the Train              9781594633669  1594633665\n",
            "Station Eleven                     9780385353304  0385353308\n",
            "All the Light We Cannot See        9781476746586  1476746583\n",
            "Armada                             9780804137256  0804137250\n",
            "Gone Girl                          9780297859383  0297859382\n",
            "Leviathan Wakes (The Expanse, #1)  9781841499888  1841499889\n",
            "Red Rising (Red Rising, #1)        9780345539786  0345539788\n",
            "Ender's Game (Ender's Saga, #1)    9780812550702  0812550706\n",
            "The Ocean at the End of the Lane   9780062255655  0062255657\n"
          ],
          "name": "stdout"
        }
      ]
    },
    {
      "cell_type": "markdown",
      "metadata": {
        "id": "LG_NR7tjUJtv",
        "colab_type": "text"
      },
      "source": [
        "### Serialize Components\n",
        "The main hybrid similarity matrix needs to be serialized, along with the master index, in order to be able to retrieve valid identifiers from either our database or from the google books API. The components for the search function will also need to be pickled. The Flask app is essentially using the database as a sort of cache for books that it has not encountered."
      ]
    },
    {
      "cell_type": "code",
      "metadata": {
        "id": "9iXjtDmiUJtw",
        "colab_type": "code",
        "colab": {}
      },
      "source": [
        "# Pickle search components\n",
        "book_search_index = books['title'].tolist()\n",
        "\n",
        "with open('book_search_index.pkl', 'wb') as bsi:\n",
        "    pickle.dump(book_search_index, bsi)\n",
        "    \n",
        "with open('search_neighbors.pkl', 'wb') as sn:\n",
        "    pickle.dump(nn, sn)\n",
        "    \n",
        "with open('search_vectorizer.pkl', 'wb') as sv:\n",
        "    pickle.dump(vectorizer, sv)"
      ],
      "execution_count": 0,
      "outputs": []
    },
    {
      "cell_type": "code",
      "metadata": {
        "id": "FJXqaFrmUJt5",
        "colab_type": "code",
        "colab": {}
      },
      "source": [
        "# Pickle Hybrid Model components\n",
        "\n",
        "with open('master_hybrid_index.pkl', 'wb') as mi:\n",
        "    pickle.dump(master_index, mi)\n",
        "    \n",
        "with open('compressed_sim_matrix.pkl', 'wb') as csm:\n",
        "    pickle.dump(compressed_hybrid, csm)"
      ],
      "execution_count": 0,
      "outputs": []
    }
  ]
}