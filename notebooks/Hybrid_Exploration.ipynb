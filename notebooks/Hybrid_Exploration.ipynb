{
 "cells": [
  {
   "cell_type": "markdown",
   "metadata": {},
   "source": [
    "# Simple Hybrid Recommender\n",
    "This is a basic hybrid recommendation system that uses the 10k goodbooks data set\n",
    "in our database. There are 3 main components to this system:\n",
    "- Title Search\n",
    "    - Since currently, a bookshelf is sent without an identifier stored in our \n",
    "      database, and the identifier that _is_ sent can't be used without a call\n",
    "      to the google books API, the most practical thing to do is to search for \n",
    "      the _closest_ book. \n",
    "- Content Based System\n",
    "    - A cosine similarity matrix is built on similarity given a book description.\n",
    "      The values in that matrix will be multiplied by the weighted values of another\n",
    "      matrix, the cosine similarity of books through collaborative filtering\n",
    "- Collaborative Filtering\n",
    "    - User book ratings will be used here to create a sort of user engagement\n",
    "      matrix, from which the second similarity matrix will be derived\n",
    "      \n",
    "The recommender will work as follows:\n",
    "1. A title is searched for via a basic search engine (CountVectorizer)\n",
    "2. If the title is similar enough, the index of said title will be referenced in \n",
    "   a combined similarity matrix\n",
    "3. The top 10 most similar indices will be returned (along with pertinent information)"
   ]
  },
  {
   "cell_type": "code",
   "execution_count": 1,
   "metadata": {},
   "outputs": [],
   "source": [
    "import os\n",
    "import re\n",
    "import sys\n",
    "import pickle\n",
    "\n",
    "import pandas as pd\n",
    "import numpy as np\n",
    "from decouple import config\n",
    "from bs4 import BeautifulSoup as bs\n",
    "\n",
    "from scipy.sparse import csr_matrix\n",
    "from sklearn.feature_extraction.text import TfidfVectorizer, CountVectorizer\n",
    "from sklearn.neighbors import NearestNeighbors\n",
    "from sklearn.metrics.pairwise import linear_kernel, cosine_similarity"
   ]
  },
  {
   "cell_type": "markdown",
   "metadata": {},
   "source": [
    "### Title Search Function\n",
    "This step is necessary because we don't get ISBNs in the response body. The ISBNs are also somewhat unreliable due to differing editions, versions etc."
   ]
  },
  {
   "cell_type": "code",
   "execution_count": 2,
   "metadata": {},
   "outputs": [
    {
     "data": {
      "text/html": [
       "<div>\n",
       "<style scoped>\n",
       "    .dataframe tbody tr th:only-of-type {\n",
       "        vertical-align: middle;\n",
       "    }\n",
       "\n",
       "    .dataframe tbody tr th {\n",
       "        vertical-align: top;\n",
       "    }\n",
       "\n",
       "    .dataframe thead th {\n",
       "        text-align: right;\n",
       "    }\n",
       "</style>\n",
       "<table border=\"1\" class=\"dataframe\">\n",
       "  <thead>\n",
       "    <tr style=\"text-align: right;\">\n",
       "      <th></th>\n",
       "      <th>id</th>\n",
       "      <th>title</th>\n",
       "      <th>isbn</th>\n",
       "      <th>isbn13</th>\n",
       "      <th>asin</th>\n",
       "      <th>kindle_asin</th>\n",
       "      <th>marketplace_id</th>\n",
       "      <th>country_code</th>\n",
       "      <th>image_url</th>\n",
       "      <th>small_image_url</th>\n",
       "      <th>...</th>\n",
       "      <th>authors_image_url</th>\n",
       "      <th>authors_small_image_url</th>\n",
       "      <th>authors_link</th>\n",
       "      <th>authors_average_rating</th>\n",
       "      <th>authors_ratings_count</th>\n",
       "      <th>authors_text_reviews_count</th>\n",
       "      <th>public_document</th>\n",
       "      <th>public_document_public_document</th>\n",
       "      <th>public_document_id</th>\n",
       "      <th>public_document_document_url</th>\n",
       "    </tr>\n",
       "  </thead>\n",
       "  <tbody>\n",
       "    <tr>\n",
       "      <th>0</th>\n",
       "      <td>1162022</td>\n",
       "      <td>On the Jellicoe Road</td>\n",
       "      <td>0670070297</td>\n",
       "      <td>9780670070299</td>\n",
       "      <td>None</td>\n",
       "      <td>B00AMH0S8A</td>\n",
       "      <td>A1F83G8C2ARO7P</td>\n",
       "      <td>GB</td>\n",
       "      <td>https://s.gr-assets.com/assets/nophoto/book/11...</td>\n",
       "      <td>https://s.gr-assets.com/assets/nophoto/book/50...</td>\n",
       "      <td>...</td>\n",
       "      <td>\\nhttps://images.gr-assets.com/authors/1277655...</td>\n",
       "      <td>\\nhttps://images.gr-assets.com/authors/1277655...</td>\n",
       "      <td>https://www.goodreads.com/author/show/47104.Me...</td>\n",
       "      <td>4.06</td>\n",
       "      <td>159449</td>\n",
       "      <td>19650</td>\n",
       "      <td>None</td>\n",
       "      <td>None</td>\n",
       "      <td>None</td>\n",
       "      <td>None</td>\n",
       "    </tr>\n",
       "    <tr>\n",
       "      <th>1</th>\n",
       "      <td>18143968</td>\n",
       "      <td>I've Got You Under My Skin (Under Suspicion, #1)</td>\n",
       "      <td>147674906X</td>\n",
       "      <td>9781476749068</td>\n",
       "      <td>None</td>\n",
       "      <td>B00EBA5P1O</td>\n",
       "      <td>A1F83G8C2ARO7P</td>\n",
       "      <td>GB</td>\n",
       "      <td>https://images.gr-assets.com/books/1397768065m...</td>\n",
       "      <td>https://images.gr-assets.com/books/1397768065s...</td>\n",
       "      <td>...</td>\n",
       "      <td>\\nhttps://images.gr-assets.com/authors/1367515...</td>\n",
       "      <td>\\nhttps://images.gr-assets.com/authors/1367515...</td>\n",
       "      <td>https://www.goodreads.com/author/show/108774.A...</td>\n",
       "      <td>3.75</td>\n",
       "      <td>70989</td>\n",
       "      <td>8154</td>\n",
       "      <td>None</td>\n",
       "      <td>None</td>\n",
       "      <td>None</td>\n",
       "      <td>None</td>\n",
       "    </tr>\n",
       "    <tr>\n",
       "      <th>2</th>\n",
       "      <td>25403</td>\n",
       "      <td>The Orange Girl</td>\n",
       "      <td>0753819929</td>\n",
       "      <td>9780753819920</td>\n",
       "      <td>None</td>\n",
       "      <td>B004OBZNXU</td>\n",
       "      <td>A1F83G8C2ARO7P</td>\n",
       "      <td>GB</td>\n",
       "      <td>https://images.gr-assets.com/books/1415583796m...</td>\n",
       "      <td>https://images.gr-assets.com/books/1415583796s...</td>\n",
       "      <td>...</td>\n",
       "      <td>\\nhttps://images.gr-assets.com/authors/1284560...</td>\n",
       "      <td>\\nhttps://images.gr-assets.com/authors/1284560...</td>\n",
       "      <td>https://www.goodreads.com/author/show/191735.J...</td>\n",
       "      <td>3.80</td>\n",
       "      <td>24511</td>\n",
       "      <td>1832</td>\n",
       "      <td>None</td>\n",
       "      <td>None</td>\n",
       "      <td>None</td>\n",
       "      <td>None</td>\n",
       "    </tr>\n",
       "    <tr>\n",
       "      <th>3</th>\n",
       "      <td>9914</td>\n",
       "      <td>The Informers</td>\n",
       "      <td>0330339184</td>\n",
       "      <td>9780330339186</td>\n",
       "      <td>None</td>\n",
       "      <td>B004FV4T3Y</td>\n",
       "      <td>A1F83G8C2ARO7P</td>\n",
       "      <td>GB</td>\n",
       "      <td>https://images.gr-assets.com/books/1374684746m...</td>\n",
       "      <td>https://images.gr-assets.com/books/1374684746s...</td>\n",
       "      <td>...</td>\n",
       "      <td>\\nhttps://images.gr-assets.com/authors/1405340...</td>\n",
       "      <td>\\nhttps://images.gr-assets.com/authors/1405340...</td>\n",
       "      <td>https://www.goodreads.com/author/show/2751.Bre...</td>\n",
       "      <td>3.69</td>\n",
       "      <td>323887</td>\n",
       "      <td>14657</td>\n",
       "      <td>None</td>\n",
       "      <td>None</td>\n",
       "      <td>None</td>\n",
       "      <td>None</td>\n",
       "    </tr>\n",
       "    <tr>\n",
       "      <th>4</th>\n",
       "      <td>39980</td>\n",
       "      <td>A Year Down Yonder (A Long Way from Chicago, #2)</td>\n",
       "      <td>0142300705</td>\n",
       "      <td>9780142300701</td>\n",
       "      <td>None</td>\n",
       "      <td>None</td>\n",
       "      <td>None</td>\n",
       "      <td>GB</td>\n",
       "      <td>https://s.gr-assets.com/assets/nophoto/book/11...</td>\n",
       "      <td>https://s.gr-assets.com/assets/nophoto/book/50...</td>\n",
       "      <td>...</td>\n",
       "      <td>\\nhttps://images.gr-assets.com/authors/1299893...</td>\n",
       "      <td>\\nhttps://images.gr-assets.com/authors/1299893...</td>\n",
       "      <td>https://www.goodreads.com/author/show/22414.Ri...</td>\n",
       "      <td>3.91</td>\n",
       "      <td>86021</td>\n",
       "      <td>9084</td>\n",
       "      <td>None</td>\n",
       "      <td>None</td>\n",
       "      <td>None</td>\n",
       "      <td>None</td>\n",
       "    </tr>\n",
       "  </tbody>\n",
       "</table>\n",
       "<p>5 rows × 60 columns</p>\n",
       "</div>"
      ],
      "text/plain": [
       "         id                                             title        isbn  \\\n",
       "0   1162022                              On the Jellicoe Road  0670070297   \n",
       "1  18143968  I've Got You Under My Skin (Under Suspicion, #1)  147674906X   \n",
       "2     25403                                   The Orange Girl  0753819929   \n",
       "3      9914                                     The Informers  0330339184   \n",
       "4     39980  A Year Down Yonder (A Long Way from Chicago, #2)  0142300705   \n",
       "\n",
       "          isbn13  asin kindle_asin  marketplace_id country_code  \\\n",
       "0  9780670070299  None  B00AMH0S8A  A1F83G8C2ARO7P           GB   \n",
       "1  9781476749068  None  B00EBA5P1O  A1F83G8C2ARO7P           GB   \n",
       "2  9780753819920  None  B004OBZNXU  A1F83G8C2ARO7P           GB   \n",
       "3  9780330339186  None  B004FV4T3Y  A1F83G8C2ARO7P           GB   \n",
       "4  9780142300701  None        None            None           GB   \n",
       "\n",
       "                                           image_url  \\\n",
       "0  https://s.gr-assets.com/assets/nophoto/book/11...   \n",
       "1  https://images.gr-assets.com/books/1397768065m...   \n",
       "2  https://images.gr-assets.com/books/1415583796m...   \n",
       "3  https://images.gr-assets.com/books/1374684746m...   \n",
       "4  https://s.gr-assets.com/assets/nophoto/book/11...   \n",
       "\n",
       "                                     small_image_url  ...  \\\n",
       "0  https://s.gr-assets.com/assets/nophoto/book/50...  ...   \n",
       "1  https://images.gr-assets.com/books/1397768065s...  ...   \n",
       "2  https://images.gr-assets.com/books/1415583796s...  ...   \n",
       "3  https://images.gr-assets.com/books/1374684746s...  ...   \n",
       "4  https://s.gr-assets.com/assets/nophoto/book/50...  ...   \n",
       "\n",
       "                                   authors_image_url  \\\n",
       "0  \\nhttps://images.gr-assets.com/authors/1277655...   \n",
       "1  \\nhttps://images.gr-assets.com/authors/1367515...   \n",
       "2  \\nhttps://images.gr-assets.com/authors/1284560...   \n",
       "3  \\nhttps://images.gr-assets.com/authors/1405340...   \n",
       "4  \\nhttps://images.gr-assets.com/authors/1299893...   \n",
       "\n",
       "                             authors_small_image_url  \\\n",
       "0  \\nhttps://images.gr-assets.com/authors/1277655...   \n",
       "1  \\nhttps://images.gr-assets.com/authors/1367515...   \n",
       "2  \\nhttps://images.gr-assets.com/authors/1284560...   \n",
       "3  \\nhttps://images.gr-assets.com/authors/1405340...   \n",
       "4  \\nhttps://images.gr-assets.com/authors/1299893...   \n",
       "\n",
       "                                        authors_link authors_average_rating  \\\n",
       "0  https://www.goodreads.com/author/show/47104.Me...                   4.06   \n",
       "1  https://www.goodreads.com/author/show/108774.A...                   3.75   \n",
       "2  https://www.goodreads.com/author/show/191735.J...                   3.80   \n",
       "3  https://www.goodreads.com/author/show/2751.Bre...                   3.69   \n",
       "4  https://www.goodreads.com/author/show/22414.Ri...                   3.91   \n",
       "\n",
       "  authors_ratings_count authors_text_reviews_count public_document  \\\n",
       "0                159449                      19650            None   \n",
       "1                 70989                       8154            None   \n",
       "2                 24511                       1832            None   \n",
       "3                323887                      14657            None   \n",
       "4                 86021                       9084            None   \n",
       "\n",
       "  public_document_public_document public_document_id  \\\n",
       "0                            None               None   \n",
       "1                            None               None   \n",
       "2                            None               None   \n",
       "3                            None               None   \n",
       "4                            None               None   \n",
       "\n",
       "  public_document_document_url  \n",
       "0                         None  \n",
       "1                         None  \n",
       "2                         None  \n",
       "3                         None  \n",
       "4                         None  \n",
       "\n",
       "[5 rows x 60 columns]"
      ]
     },
     "execution_count": 2,
     "metadata": {},
     "output_type": "execute_result"
    }
   ],
   "source": [
    "sql = \"\"\"\n",
    "SELECT *\n",
    "FROM goodbooks_books_xml;\n",
    "\"\"\"\n",
    "con = config(\"DATABASE_URL\")\n",
    "books = pd.read_sql(sql, con)\n",
    "books.head()"
   ]
  },
  {
   "cell_type": "code",
   "execution_count": 3,
   "metadata": {},
   "outputs": [],
   "source": [
    "# Remove null isbn13s\n",
    "books = books.dropna(subset=['isbn13'])"
   ]
  },
  {
   "cell_type": "code",
   "execution_count": 4,
   "metadata": {},
   "outputs": [
    {
     "data": {
      "text/plain": [
       "(9405, 61)"
      ]
     },
     "execution_count": 4,
     "metadata": {},
     "output_type": "execute_result"
    }
   ],
   "source": [
    "# books needs book id from old dataset\n",
    "csv_books = pd.read_csv('https://raw.githubusercontent.com/zygmuntz/goodbooks-10k/master/books.csv')\n",
    "csv_books['id'] = csv_books['goodreads_book_id']\n",
    "csv_books = csv_books[['id', 'title', 'book_id']]\n",
    "\n",
    "# Cast books['id'] as type int to match csv data\n",
    "books['id'] = books['id'].astype(int)\n",
    "\n",
    "# Merge datasets to match ratings\n",
    "books = books.merge(csv_books, on=['id', 'title'])\n",
    "\n",
    "# Remove isbn13 where value is null, these need to be used to search db\n",
    "books = books.dropna(subset=['isbn13'])\n",
    "books.shape"
   ]
  },
  {
   "cell_type": "code",
   "execution_count": 5,
   "metadata": {},
   "outputs": [
    {
     "data": {
      "text/html": [
       "<div>\n",
       "<style scoped>\n",
       "    .dataframe tbody tr th:only-of-type {\n",
       "        vertical-align: middle;\n",
       "    }\n",
       "\n",
       "    .dataframe tbody tr th {\n",
       "        vertical-align: top;\n",
       "    }\n",
       "\n",
       "    .dataframe thead th {\n",
       "        text-align: right;\n",
       "    }\n",
       "</style>\n",
       "<table border=\"1\" class=\"dataframe\">\n",
       "  <thead>\n",
       "    <tr style=\"text-align: right;\">\n",
       "      <th></th>\n",
       "      <th>authors</th>\n",
       "      <th>authors_authors</th>\n",
       "      <th>authors_author</th>\n",
       "      <th>authors_id</th>\n",
       "      <th>authors_name</th>\n",
       "      <th>authors_role</th>\n",
       "    </tr>\n",
       "  </thead>\n",
       "  <tbody>\n",
       "    <tr>\n",
       "      <th>0</th>\n",
       "      <td>\\n</td>\n",
       "      <td>\\n</td>\n",
       "      <td>\\n</td>\n",
       "      <td>47104</td>\n",
       "      <td>Melina Marchetta</td>\n",
       "      <td>None</td>\n",
       "    </tr>\n",
       "    <tr>\n",
       "      <th>1</th>\n",
       "      <td>\\n</td>\n",
       "      <td>\\n</td>\n",
       "      <td>\\n</td>\n",
       "      <td>108774</td>\n",
       "      <td>Alafair Burke</td>\n",
       "      <td>None</td>\n",
       "    </tr>\n",
       "    <tr>\n",
       "      <th>2</th>\n",
       "      <td>\\n</td>\n",
       "      <td>\\n</td>\n",
       "      <td>\\n</td>\n",
       "      <td>191735</td>\n",
       "      <td>James Anderson</td>\n",
       "      <td>Translator</td>\n",
       "    </tr>\n",
       "    <tr>\n",
       "      <th>3</th>\n",
       "      <td>\\n</td>\n",
       "      <td>\\n</td>\n",
       "      <td>\\n</td>\n",
       "      <td>2751</td>\n",
       "      <td>Bret Easton Ellis</td>\n",
       "      <td>None</td>\n",
       "    </tr>\n",
       "    <tr>\n",
       "      <th>4</th>\n",
       "      <td>\\n</td>\n",
       "      <td>\\n</td>\n",
       "      <td>\\n</td>\n",
       "      <td>22414</td>\n",
       "      <td>Richard Peck</td>\n",
       "      <td>None</td>\n",
       "    </tr>\n",
       "    <tr>\n",
       "      <th>...</th>\n",
       "      <td>...</td>\n",
       "      <td>...</td>\n",
       "      <td>...</td>\n",
       "      <td>...</td>\n",
       "      <td>...</td>\n",
       "      <td>...</td>\n",
       "    </tr>\n",
       "    <tr>\n",
       "      <th>9400</th>\n",
       "      <td>\\n</td>\n",
       "      <td>\\n</td>\n",
       "      <td>\\n</td>\n",
       "      <td>38550</td>\n",
       "      <td>Brandon Sanderson</td>\n",
       "      <td>None</td>\n",
       "    </tr>\n",
       "    <tr>\n",
       "      <th>9401</th>\n",
       "      <td>\\n</td>\n",
       "      <td>\\n</td>\n",
       "      <td>\\n</td>\n",
       "      <td>1654</td>\n",
       "      <td>Terry Pratchett</td>\n",
       "      <td>None</td>\n",
       "    </tr>\n",
       "    <tr>\n",
       "      <th>9402</th>\n",
       "      <td>\\n</td>\n",
       "      <td>\\n</td>\n",
       "      <td>\\n</td>\n",
       "      <td>27398</td>\n",
       "      <td>Joshua Harris</td>\n",
       "      <td>None</td>\n",
       "    </tr>\n",
       "    <tr>\n",
       "      <th>9403</th>\n",
       "      <td>\\n</td>\n",
       "      <td>\\n</td>\n",
       "      <td>\\n</td>\n",
       "      <td>14617</td>\n",
       "      <td>Margaret Peterson Haddix</td>\n",
       "      <td>None</td>\n",
       "    </tr>\n",
       "    <tr>\n",
       "      <th>9404</th>\n",
       "      <td>\\n</td>\n",
       "      <td>\\n</td>\n",
       "      <td>\\n</td>\n",
       "      <td>11091</td>\n",
       "      <td>Lincoln Child</td>\n",
       "      <td>None</td>\n",
       "    </tr>\n",
       "  </tbody>\n",
       "</table>\n",
       "<p>9405 rows × 6 columns</p>\n",
       "</div>"
      ],
      "text/plain": [
       "     authors authors_authors authors_author authors_id  \\\n",
       "0         \\n              \\n             \\n      47104   \n",
       "1         \\n              \\n             \\n     108774   \n",
       "2         \\n              \\n             \\n     191735   \n",
       "3         \\n              \\n             \\n       2751   \n",
       "4         \\n              \\n             \\n      22414   \n",
       "...      ...             ...            ...        ...   \n",
       "9400      \\n              \\n             \\n      38550   \n",
       "9401      \\n              \\n             \\n       1654   \n",
       "9402      \\n              \\n             \\n      27398   \n",
       "9403      \\n              \\n             \\n      14617   \n",
       "9404      \\n              \\n             \\n      11091   \n",
       "\n",
       "                  authors_name authors_role  \n",
       "0             Melina Marchetta         None  \n",
       "1                Alafair Burke         None  \n",
       "2               James Anderson   Translator  \n",
       "3            Bret Easton Ellis         None  \n",
       "4                 Richard Peck         None  \n",
       "...                        ...          ...  \n",
       "9400         Brandon Sanderson         None  \n",
       "9401           Terry Pratchett         None  \n",
       "9402             Joshua Harris         None  \n",
       "9403  Margaret Peterson Haddix         None  \n",
       "9404             Lincoln Child         None  \n",
       "\n",
       "[9405 rows x 6 columns]"
      ]
     },
     "execution_count": 5,
     "metadata": {},
     "output_type": "execute_result"
    }
   ],
   "source": [
    "# Which column has the actual author name?\n",
    "books[['authors', 'authors_authors', 'authors_author',\n",
    "       'authors_id', 'authors_name', 'authors_role']]"
   ]
  },
  {
   "cell_type": "code",
   "execution_count": 6,
   "metadata": {},
   "outputs": [
    {
     "data": {
      "text/plain": [
       "(9371, 61)"
      ]
     },
     "execution_count": 6,
     "metadata": {},
     "output_type": "execute_result"
    }
   ],
   "source": [
    "# Drop duplicate titles (so that all matrices are the same size for comparison)\n",
    "books = books.drop_duplicates(['title'])\n",
    "books.shape"
   ]
  },
  {
   "cell_type": "code",
   "execution_count": 7,
   "metadata": {},
   "outputs": [
    {
     "data": {
      "text/plain": [
       "0                On the Jellicoe Road Melina Marchetta\n",
       "1    I've Got You Under My Skin (Under Suspicion, #...\n",
       "2                       The Orange Girl James Anderson\n",
       "3                      The Informers Bret Easton Ellis\n",
       "4    A Year Down Yonder (A Long Way from Chicago, #...\n",
       "dtype: object"
      ]
     },
     "execution_count": 7,
     "metadata": {},
     "output_type": "execute_result"
    }
   ],
   "source": [
    "title_search_terms = books['title'] + ' ' + books['authors_name']\n",
    "title_search_terms.head()"
   ]
  },
  {
   "cell_type": "code",
   "execution_count": 8,
   "metadata": {},
   "outputs": [
    {
     "data": {
      "text/plain": [
       "(9371, 47802)"
      ]
     },
     "execution_count": 8,
     "metadata": {},
     "output_type": "execute_result"
    }
   ],
   "source": [
    "# Take the titles + authors and create a document term matrix based on term counts\n",
    "vectorizer = CountVectorizer(ngram_range=(1, 2), max_df=190)\n",
    "title_term_matrix = vectorizer.fit_transform(title_search_terms)\n",
    "title_term_matrix.shape"
   ]
  },
  {
   "cell_type": "code",
   "execution_count": 9,
   "metadata": {},
   "outputs": [
    {
     "data": {
      "text/plain": [
       "NearestNeighbors(algorithm='brute', leaf_size=30, metric='cosine',\n",
       "                 metric_params=None, n_jobs=None, n_neighbors=5, p=2,\n",
       "                 radius=1.0)"
      ]
     },
     "execution_count": 9,
     "metadata": {},
     "output_type": "execute_result"
    }
   ],
   "source": [
    "nn = NearestNeighbors(algorithm='brute', metric='cosine')\n",
    "nn.fit(title_term_matrix)"
   ]
  },
  {
   "cell_type": "code",
   "execution_count": 10,
   "metadata": {},
   "outputs": [],
   "source": [
    "def closest_titles(title, thresh=1.0):\n",
    "    \"\"\"\n",
    "    Returns closest title if within parameter\n",
    "    \n",
    "    thresh: if distance falls below this param, print title details\n",
    "    \"\"\"\n",
    "    title = [title]\n",
    "    title_transformed = vectorizer.transform(title)\n",
    "    distances, indices = nn.kneighbors(title_transformed)\n",
    "    distances = distances.flatten()\n",
    "    indices = indices.flatten()\n",
    "    nearest = list(zip(distances, indices))[0]\n",
    "    \n",
    "    if nearest[0] < thresh:\n",
    "        i = nearest[1]\n",
    "        d = nearest[0]\n",
    "        print(\"%i | %.3f - %s\" % (i, d, books['title'].iloc[i]))\n",
    "    else:\n",
    "        print('No good match found. Send to content based')\n",
    "        \n",
    "def all_details(title):\n",
    "    \"\"\"Prints all closest indices, distances and titles\"\"\"\n",
    "    title = [title]\n",
    "    title_transformed = vectorizer.transform(title)\n",
    "    distances, indices = nn.kneighbors(title_transformed)\n",
    "    distances = distances.flatten()\n",
    "    indices = indices.flatten()\n",
    "    nearest = list(zip(distances, indices))\n",
    "    \n",
    "    for d, i in nearest:\n",
    "        print(\"%i | %.3f - %s\" % (i, d, books['title'].iloc[i]))\n",
    "        \n",
    "def all_titles(title):\n",
    "    closest_titles(title, thresh=.631)\n",
    "    print(\"\\nNeighbors:\")\n",
    "    print(\"~~~~~~~~~~\")\n",
    "    all_details(title)"
   ]
  },
  {
   "cell_type": "markdown",
   "metadata": {},
   "source": [
    "Now we have a basic search engine to match most book queries to our 10k data:"
   ]
  },
  {
   "cell_type": "code",
   "execution_count": 11,
   "metadata": {},
   "outputs": [
    {
     "name": "stdout",
     "output_type": "stream",
     "text": [
      "8662 | 0.388 - Waking Up: A Guide to Spirituality Without Religion\n",
      "\n",
      "Neighbors:\n",
      "~~~~~~~~~~\n",
      "8662 | 0.388 - Waking Up: A Guide to Spirituality Without Religion\n",
      "5706 | 0.537 - Free Will\n",
      "6709 | 0.613 - Letter to a Christian Nation\n",
      "2982 | 0.719 - The End of Faith: Religion, Terror, and the Future of Reason\n",
      "302 | 0.726 - The Moral Landscape: How Science Can Determine Human Values\n"
     ]
    }
   ],
   "source": [
    "all_titles(\"waking up sam harris\")"
   ]
  },
  {
   "cell_type": "markdown",
   "metadata": {},
   "source": [
    "### Collaborative Filtering Component\n",
    "Now that we have a content based similarity matrix, the ratings table can be used to get a content based similarity matrix"
   ]
  },
  {
   "cell_type": "code",
   "execution_count": 12,
   "metadata": {},
   "outputs": [
    {
     "data": {
      "text/plain": [
       "(5976479, 3)"
      ]
     },
     "execution_count": 12,
     "metadata": {},
     "output_type": "execute_result"
    }
   ],
   "source": [
    "# Get the ratings data\n",
    "ratings = pd.read_csv('https://raw.githubusercontent.com/zygmuntz/goodbooks-10k/master/ratings.csv')\n",
    "ratings.shape"
   ]
  },
  {
   "cell_type": "code",
   "execution_count": 13,
   "metadata": {},
   "outputs": [
    {
     "data": {
      "text/html": [
       "<div>\n",
       "<style scoped>\n",
       "    .dataframe tbody tr th:only-of-type {\n",
       "        vertical-align: middle;\n",
       "    }\n",
       "\n",
       "    .dataframe tbody tr th {\n",
       "        vertical-align: top;\n",
       "    }\n",
       "\n",
       "    .dataframe thead th {\n",
       "        text-align: right;\n",
       "    }\n",
       "</style>\n",
       "<table border=\"1\" class=\"dataframe\">\n",
       "  <thead>\n",
       "    <tr style=\"text-align: right;\">\n",
       "      <th></th>\n",
       "      <th>user_id</th>\n",
       "      <th>book_id</th>\n",
       "      <th>rating</th>\n",
       "      <th>id</th>\n",
       "    </tr>\n",
       "  </thead>\n",
       "  <tbody>\n",
       "    <tr>\n",
       "      <th>0</th>\n",
       "      <td>1</td>\n",
       "      <td>258</td>\n",
       "      <td>5</td>\n",
       "      <td>258</td>\n",
       "    </tr>\n",
       "    <tr>\n",
       "      <th>1</th>\n",
       "      <td>2</td>\n",
       "      <td>4081</td>\n",
       "      <td>4</td>\n",
       "      <td>4081</td>\n",
       "    </tr>\n",
       "    <tr>\n",
       "      <th>2</th>\n",
       "      <td>2</td>\n",
       "      <td>260</td>\n",
       "      <td>5</td>\n",
       "      <td>260</td>\n",
       "    </tr>\n",
       "    <tr>\n",
       "      <th>3</th>\n",
       "      <td>2</td>\n",
       "      <td>9296</td>\n",
       "      <td>5</td>\n",
       "      <td>9296</td>\n",
       "    </tr>\n",
       "    <tr>\n",
       "      <th>4</th>\n",
       "      <td>2</td>\n",
       "      <td>2318</td>\n",
       "      <td>3</td>\n",
       "      <td>2318</td>\n",
       "    </tr>\n",
       "  </tbody>\n",
       "</table>\n",
       "</div>"
      ],
      "text/plain": [
       "   user_id  book_id  rating    id\n",
       "0        1      258       5   258\n",
       "1        2     4081       4  4081\n",
       "2        2      260       5   260\n",
       "3        2     9296       5  9296\n",
       "4        2     2318       3  2318"
      ]
     },
     "execution_count": 13,
     "metadata": {},
     "output_type": "execute_result"
    }
   ],
   "source": [
    "# Change 'book_id' to 'id' so that we can merge with books\n",
    "ratings['id'] = ratings['book_id']\n",
    "ratings.head()"
   ]
  },
  {
   "cell_type": "code",
   "execution_count": 14,
   "metadata": {},
   "outputs": [
    {
     "data": {
      "text/html": [
       "<div>\n",
       "<style scoped>\n",
       "    .dataframe tbody tr th:only-of-type {\n",
       "        vertical-align: middle;\n",
       "    }\n",
       "\n",
       "    .dataframe tbody tr th {\n",
       "        vertical-align: top;\n",
       "    }\n",
       "\n",
       "    .dataframe thead th {\n",
       "        text-align: right;\n",
       "    }\n",
       "</style>\n",
       "<table border=\"1\" class=\"dataframe\">\n",
       "  <thead>\n",
       "    <tr style=\"text-align: right;\">\n",
       "      <th></th>\n",
       "      <th>user_id</th>\n",
       "      <th>rating</th>\n",
       "      <th>title</th>\n",
       "      <th>book_id</th>\n",
       "    </tr>\n",
       "  </thead>\n",
       "  <tbody>\n",
       "    <tr>\n",
       "      <th>0</th>\n",
       "      <td>1</td>\n",
       "      <td>5</td>\n",
       "      <td>The Shadow of the Wind (The Cemetery of Forgot...</td>\n",
       "      <td>258</td>\n",
       "    </tr>\n",
       "    <tr>\n",
       "      <th>1</th>\n",
       "      <td>11</td>\n",
       "      <td>3</td>\n",
       "      <td>The Shadow of the Wind (The Cemetery of Forgot...</td>\n",
       "      <td>258</td>\n",
       "    </tr>\n",
       "    <tr>\n",
       "      <th>2</th>\n",
       "      <td>143</td>\n",
       "      <td>4</td>\n",
       "      <td>The Shadow of the Wind (The Cemetery of Forgot...</td>\n",
       "      <td>258</td>\n",
       "    </tr>\n",
       "    <tr>\n",
       "      <th>3</th>\n",
       "      <td>242</td>\n",
       "      <td>5</td>\n",
       "      <td>The Shadow of the Wind (The Cemetery of Forgot...</td>\n",
       "      <td>258</td>\n",
       "    </tr>\n",
       "    <tr>\n",
       "      <th>4</th>\n",
       "      <td>325</td>\n",
       "      <td>4</td>\n",
       "      <td>The Shadow of the Wind (The Cemetery of Forgot...</td>\n",
       "      <td>258</td>\n",
       "    </tr>\n",
       "  </tbody>\n",
       "</table>\n",
       "</div>"
      ],
      "text/plain": [
       "   user_id  rating                                              title  book_id\n",
       "0        1       5  The Shadow of the Wind (The Cemetery of Forgot...      258\n",
       "1       11       3  The Shadow of the Wind (The Cemetery of Forgot...      258\n",
       "2      143       4  The Shadow of the Wind (The Cemetery of Forgot...      258\n",
       "3      242       5  The Shadow of the Wind (The Cemetery of Forgot...      258\n",
       "4      325       4  The Shadow of the Wind (The Cemetery of Forgot...      258"
      ]
     },
     "execution_count": 14,
     "metadata": {},
     "output_type": "execute_result"
    }
   ],
   "source": [
    "# Merge ratings data with books\n",
    "merged = ratings.merge(books, on='book_id', how='inner')\n",
    "merged = merged[['user_id', 'rating', 'title', 'book_id']]\n",
    "merged.head()"
   ]
  },
  {
   "cell_type": "code",
   "execution_count": 15,
   "metadata": {},
   "outputs": [
    {
     "data": {
      "text/plain": [
       "(5765108, 4)"
      ]
     },
     "execution_count": 15,
     "metadata": {},
     "output_type": "execute_result"
    }
   ],
   "source": [
    "# Remove rows where both title and user_id are duplicated\n",
    "merged = merged.drop_duplicates(['user_id', 'title'])\n",
    "merged.shape"
   ]
  },
  {
   "cell_type": "code",
   "execution_count": 16,
   "metadata": {},
   "outputs": [],
   "source": [
    "# Create user ratings pivot table and fill null values with zeros\n",
    "matrix2d = merged.pivot(index='title', columns='user_id', values='rating').fillna(0)"
   ]
  },
  {
   "cell_type": "code",
   "execution_count": 17,
   "metadata": {},
   "outputs": [
    {
     "data": {
      "text/plain": [
       "4005937013"
      ]
     },
     "execution_count": 17,
     "metadata": {},
     "output_type": "execute_result"
    }
   ],
   "source": [
    "# 2D matrix is ~4gb in memory, need to clear this later\n",
    "sys.getsizeof(matrix2d)"
   ]
  },
  {
   "cell_type": "code",
   "execution_count": 18,
   "metadata": {},
   "outputs": [],
   "source": [
    "# Compress the matrix since it is so sparse\n",
    "comp2d = csr_matrix(matrix2d.values)"
   ]
  },
  {
   "cell_type": "code",
   "execution_count": 19,
   "metadata": {},
   "outputs": [
    {
     "name": "stdout",
     "output_type": "stream",
     "text": [
      "Size of compressed matrix: 56\n"
     ]
    }
   ],
   "source": [
    "# Compressed matrix is much smaller\n",
    "print(\"Size of compressed matrix:\", sys.getsizeof(comp2d))\n",
    "\n",
    "# Keep 2D matrix index for use with content based model (matrices need to match)\n",
    "book_index = matrix2d.index\n",
    "del matrix2d"
   ]
  },
  {
   "cell_type": "code",
   "execution_count": 20,
   "metadata": {},
   "outputs": [
    {
     "data": {
      "text/plain": [
       "(9371, 9371)"
      ]
     },
     "execution_count": 20,
     "metadata": {},
     "output_type": "execute_result"
    }
   ],
   "source": [
    "# Construct a cosine similarity matrix\n",
    "collab_sim = cosine_similarity(comp2d, comp2d)\n",
    "collab_sim.shape"
   ]
  },
  {
   "cell_type": "markdown",
   "metadata": {},
   "source": [
    "### Content Based Component\n",
    "This part of the system creates a cosine similarity matrix based on textual description. Using TF-IDF Vectorizer from sklearn right out of the box to avoid placing more large files in the flask application directory"
   ]
  },
  {
   "cell_type": "code",
   "execution_count": 21,
   "metadata": {},
   "outputs": [],
   "source": [
    "# Make sure descriptions are based on the books included in content model\n",
    "descriptions = books[books['title'].isin(book_index)]\n",
    "# Reorder indices so final matrices match\n",
    "descriptions = descriptions.set_index('title').reindex(book_index)\n",
    "# Fill null descriptions with some sort of string \n",
    "descriptions = descriptions['description'].fillna('None')"
   ]
  },
  {
   "cell_type": "code",
   "execution_count": 22,
   "metadata": {},
   "outputs": [],
   "source": [
    "# Some minor cleaning\n",
    "def get_text(text):\n",
    "    \"\"\"Extracts text from html\"\"\"\n",
    "    if type(text) == float:\n",
    "        return \"None\"    \n",
    "    soup = bs(text)    \n",
    "    return soup.text"
   ]
  },
  {
   "cell_type": "code",
   "execution_count": 23,
   "metadata": {},
   "outputs": [],
   "source": [
    "descriptions = descriptions.str.strip(\"'\")\n",
    "descriptions = descriptions.apply(get_text)"
   ]
  },
  {
   "cell_type": "code",
   "execution_count": 24,
   "metadata": {},
   "outputs": [],
   "source": [
    "# Tokenize and vectorize descriptions using TF-IDF\n",
    "tfidf = TfidfVectorizer(\n",
    "            stop_words='english', \n",
    "            ngram_range=(1, 2),\n",
    "            min_df=8, max_df=.80)\n",
    "dtm = tfidf.fit_transform(descriptions)"
   ]
  },
  {
   "cell_type": "code",
   "execution_count": 25,
   "metadata": {},
   "outputs": [
    {
     "data": {
      "text/plain": [
       "(9371, 9371)"
      ]
     },
     "execution_count": 25,
     "metadata": {},
     "output_type": "execute_result"
    }
   ],
   "source": [
    "# Using linear kernel since getting dot product after tfidf gives cosine similarity\n",
    "content_sim = linear_kernel(dtm, dtm)\n",
    "content_sim.shape"
   ]
  },
  {
   "cell_type": "markdown",
   "metadata": {},
   "source": [
    "### Combine Matrices\n",
    "In this last step, the matrices are weighted and combined into one similarity matrix. The collaborative matrix will be weighted higher, since its latent data tells us much more about books than the description alone can. The final score will be an average of the two scores"
   ]
  },
  {
   "cell_type": "code",
   "execution_count": 26,
   "metadata": {},
   "outputs": [
    {
     "name": "stdout",
     "output_type": "stream",
     "text": [
      "(9371, 9371)\n",
      "[1.25       0.         0.00620319 ... 0.         0.01037456 0.        ]\n"
     ]
    }
   ],
   "source": [
    "hybrid_scores = ((collab_sim * 1.5) + content_sim) / 2\n",
    "print(hybrid_scores.shape)\n",
    "print(hybrid_scores[0])"
   ]
  },
  {
   "cell_type": "code",
   "execution_count": 27,
   "metadata": {},
   "outputs": [],
   "source": [
    "books_identifiers = books[books['title'].isin(book_index)][['title', 'isbn13', 'isbn']]\n",
    "master_index = books_identifiers.set_index('title').reindex(book_index)"
   ]
  },
  {
   "cell_type": "code",
   "execution_count": 28,
   "metadata": {},
   "outputs": [],
   "source": [
    "# Redefine the title search function so that it returns closest book\n",
    "def closest_title(title_author, thresh=1.0):\n",
    "    \"\"\"\n",
    "    Returns closest title if within parameter\n",
    "    \n",
    "    thresh: if distance falls below this param, print title details\n",
    "    \"\"\"\n",
    "    title_author = [title_author]\n",
    "    title_transformed = vectorizer.transform(title_author)\n",
    "    distances, indices = nn.kneighbors(title_transformed)\n",
    "    distances = distances.flatten()\n",
    "    indices = indices.flatten()\n",
    "    nearest = list(zip(distances, indices))[0]\n",
    "    \n",
    "    if nearest[0] < thresh:\n",
    "        i = nearest[1]\n",
    "        d = nearest[0]\n",
    "        return books['title'].iloc[i]\n",
    "    else:\n",
    "        return False\n",
    "\n",
    "def get_recs(title_author, thresh):\n",
    "    \"\"\"Get recommendations based on neares title\"\"\"\n",
    "    title = closest_title(title_author, thresh=thresh)\n",
    "    \n",
    "    if title:\n",
    "        idx = book_index.tolist().index(title)\n",
    "        sim_scores = list(enumerate(hybrid_scores[idx]))\n",
    "        sim_scores = sorted(sim_scores, key=lambda x: x[1], reverse=True)\n",
    "        sim_scores = sim_scores[1:11]\n",
    "        indices = [i[0] for i in sim_scores]\n",
    "        titles = book_index[indices]\n",
    "        \n",
    "        return master_index.loc[titles]\n",
    "    else:\n",
    "        message = \"Send to alternative model\"\n",
    "        return message\n",
    "    "
   ]
  },
  {
   "cell_type": "markdown",
   "metadata": {},
   "source": [
    "It would be a good idea to check the recommendations to see if they make sense before commiting to using them in the API"
   ]
  },
  {
   "cell_type": "code",
   "execution_count": 29,
   "metadata": {},
   "outputs": [
    {
     "name": "stdout",
     "output_type": "stream",
     "text": [
      "                                                           isbn13        isbn\n",
      "title                                                                        \n",
      "The Moral Landscape: How Science Can Determine ...  9781439171219  1439171211\n",
      "The End of Faith: Religion, Terror, and the Fut...  9780393327656  0393327655\n",
      "Letter to a Christian Nation                        9780307265777  0307265773\n",
      "Free Will                                           9781451683400  1451683405\n",
      "god is Not Great: How Religion Poisons Everything   9780446579803  0446579807\n",
      "10% Happier: How I Tamed the Voice in My Head, ...  9780062265425  0062265423\n",
      "The Portable Atheist: Essential Readings for th...  9780306816086  0306816083\n",
      "A Universe from Nothing: Why There Is Something...  9781451624458  145162445X\n",
      "The Better Angels of Our Nature: Why Violence H...  9780670022953  0670022950\n",
      "No Place to Run (KGI, #2)                           9780425238196  0425238199\n"
     ]
    }
   ],
   "source": [
    "THRESH = .5\n",
    "\n",
    "print(get_recs('waking up sam harris', THRESH))"
   ]
  },
  {
   "cell_type": "code",
   "execution_count": 30,
   "metadata": {},
   "outputs": [
    {
     "name": "stdout",
     "output_type": "stream",
     "text": [
      "Send to alternative model\n"
     ]
    }
   ],
   "source": [
    "print(get_recs('Where the crawdads sing delia owens', THRESH))"
   ]
  },
  {
   "cell_type": "code",
   "execution_count": 31,
   "metadata": {},
   "outputs": [
    {
     "name": "stdout",
     "output_type": "stream",
     "text": [
      "                                                           isbn13        isbn\n",
      "title                                                                        \n",
      "Drums of Autumn (Outlander, #4)                     9780385335980  0385335989\n",
      "Dragonfly in Amber (Outlander, #2)                  9780385335973  0385335970\n",
      "The Fiery Cross (Outlander, #5)                     9780440221661  0440221668\n",
      "A Breath of Snow and Ashes (Outlander, #6)          9780385340397  0385340397\n",
      "An Echo in the Bone (Outlander, #7)                 9780752898476  0752898477\n",
      "Outlander (Outlander, #1)                           9780440242949  0440242940\n",
      "Written in My Own Heart's Blood (Outlander, #8)     9780385344432  0385344430\n",
      "Lord John and the Private Matter (Lord John Gre...  9780770429454  0770429459\n",
      "Lord John and the Brotherhood of the Blade  (Lo...  9780385337496  0385337493\n",
      "The Scottish Prisoner (Lord John Grey, #3)          9781409135197  1409135195\n"
     ]
    }
   ],
   "source": [
    "print(get_recs('voyager diana gabaldon', THRESH))"
   ]
  },
  {
   "cell_type": "code",
   "execution_count": 32,
   "metadata": {},
   "outputs": [
    {
     "name": "stdout",
     "output_type": "stream",
     "text": [
      "                                          isbn13        isbn\n",
      "title                                                       \n",
      "Ready Player One                   9780307887436  030788743X\n",
      "The Girl on the Train              9781594633669  1594633665\n",
      "Station Eleven                     9780385353304  0385353308\n",
      "All the Light We Cannot See        9781476746586  1476746583\n",
      "Armada                             9780804137256  0804137250\n",
      "Gone Girl                          9780297859383  0297859382\n",
      "Leviathan Wakes (The Expanse, #1)  9781841499888  1841499889\n",
      "Red Rising (Red Rising, #1)        9780345539786  0345539788\n",
      "Ender's Game (Ender's Saga, #1)    9780812550702  0812550706\n",
      "The Ocean at the End of the Lane   9780062255655  0062255657\n"
     ]
    }
   ],
   "source": [
    "print(get_recs('The martian andy weir', THRESH))"
   ]
  },
  {
   "cell_type": "markdown",
   "metadata": {},
   "source": [
    "### Serialize Components\n",
    "The main hybrid similarity matrix needs to be serialized, along with the master index, in order to be able to retrieve valid identifiers from either our database or from the google books API. The components for the search function will also need to be pickled. The Flask app is essentially using the database as a sort of cache for books that it has not encountered."
   ]
  },
  {
   "cell_type": "code",
   "execution_count": 38,
   "metadata": {},
   "outputs": [],
   "source": [
    "# Pickle search components\n",
    "book_search_index = books['title'].tolist()\n",
    "\n",
    "with open('book_search_index.pkl', 'wb') as bsi:\n",
    "    pickle.dump(book_search_index, bsi)\n",
    "    \n",
    "with open('search_neighbors.pkl', 'wb') as sn:\n",
    "    pickle.dump(nn, sn)\n",
    "    \n",
    "with open('search_vectorizer.pkl', 'wb') as sv:\n",
    "    pickle.dump(vectorizer, sv)"
   ]
  },
  {
   "cell_type": "code",
   "execution_count": 39,
   "metadata": {},
   "outputs": [],
   "source": [
    "# Pickle Hybrid Model components\n",
    "\n",
    "with open('master_hybrid_index.pkl', 'wb') as mi:\n",
    "    pickle.dump(master_index, mi)\n",
    "    \n",
    "with open('hybrid_sim_matrix.pkl', 'wb') as hsm:\n",
    "    pickle.dump(hybrid_scores, hsm)"
   ]
  }
 ],
 "metadata": {
  "kernelspec": {
   "display_name": "Python3 (rec-systems)",
   "language": "python",
   "name": "rec-systems"
  },
  "language_info": {
   "codemirror_mode": {
    "name": "ipython",
    "version": 3
   },
   "file_extension": ".py",
   "mimetype": "text/x-python",
   "name": "python",
   "nbconvert_exporter": "python",
   "pygments_lexer": "ipython3",
   "version": "3.7.0"
  }
 },
 "nbformat": 4,
 "nbformat_minor": 4
}
