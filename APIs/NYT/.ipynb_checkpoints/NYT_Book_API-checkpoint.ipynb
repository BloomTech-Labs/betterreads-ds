{
 "cells": [
  {
   "cell_type": "code",
   "execution_count": 24,
   "metadata": {},
   "outputs": [
    {
     "ename": "ImportError",
     "evalue": "cannot import name 'get_list' from 'helper_functions' (G:\\Data\\Lambda\\Data_Science_Course\\Labs\\betterreads-ds\\APIs\\NYT\\helper_functions.py)",
     "output_type": "error",
     "traceback": [
      "\u001b[1;31m---------------------------------------------------------------------------\u001b[0m",
      "\u001b[1;31mImportError\u001b[0m                               Traceback (most recent call last)",
      "\u001b[1;32m<ipython-input-24-e79dd99eb272>\u001b[0m in \u001b[0;36m<module>\u001b[1;34m\u001b[0m\n\u001b[0;32m      4\u001b[0m \u001b[1;32mimport\u001b[0m \u001b[0mnumpy\u001b[0m \u001b[1;32mas\u001b[0m \u001b[0mnp\u001b[0m\u001b[1;33m\u001b[0m\u001b[0m\n\u001b[0;32m      5\u001b[0m \u001b[1;32mimport\u001b[0m \u001b[0mtime\u001b[0m\u001b[1;33m\u001b[0m\u001b[0m\n\u001b[1;32m----> 6\u001b[1;33m \u001b[1;32mfrom\u001b[0m \u001b[0mhelper_functions\u001b[0m \u001b[1;32mimport\u001b[0m \u001b[0maggregate\u001b[0m\u001b[1;33m,\u001b[0m \u001b[0mdictlist_to_df\u001b[0m\u001b[1;33m,\u001b[0m \u001b[0mget_list\u001b[0m\u001b[1;33m\u001b[0m\u001b[0m\n\u001b[0m",
      "\u001b[1;31mImportError\u001b[0m: cannot import name 'get_list' from 'helper_functions' (G:\\Data\\Lambda\\Data_Science_Course\\Labs\\betterreads-ds\\APIs\\NYT\\helper_functions.py)"
     ]
    }
   ],
   "source": [
    "import requests\n",
    "import json\n",
    "import pandas as pd\n",
    "import numpy as np\n",
    "import time\n",
    "from helper_functions import aggregate, dictlist_to_df, get_list"
   ]
  },
  {
   "cell_type": "markdown",
   "metadata": {},
   "source": [
    "## Obtain NYT list information\n",
    "I'm trying to get bestseller information from the nyt API. They have a variety of lists, and metadata on each list that they have. The metadata is stored in the '/lists/names.json' endpoint. Lets view this metadata first (it will help with looping functionality later when we need details from each sub-list) "
   ]
  },
  {
   "cell_type": "code",
   "execution_count": 10,
   "metadata": {},
   "outputs": [],
   "source": [
    "from secrets import NYT_API_KEY"
   ]
  },
  {
   "cell_type": "code",
   "execution_count": 11,
   "metadata": {},
   "outputs": [],
   "source": [
    "book_lists = requests.get('https://api.nytimes.com/svc/books/v3/lists/names.json?api-key='+NYT_API_KEY)"
   ]
  },
  {
   "cell_type": "code",
   "execution_count": 12,
   "metadata": {},
   "outputs": [],
   "source": [
    "listoflists = json.loads(book_lists.text)['results']"
   ]
  },
  {
   "cell_type": "code",
   "execution_count": 13,
   "metadata": {
    "jupyter": {
     "source_hidden": true
    }
   },
   "outputs": [
    {
     "data": {
      "text/plain": [
       "{'list_name': 'Combined Print and E-Book Fiction',\n",
       " 'display_name': 'Combined Print & E-Book Fiction',\n",
       " 'list_name_encoded': 'combined-print-and-e-book-fiction',\n",
       " 'oldest_published_date': '2011-02-13',\n",
       " 'newest_published_date': '2020-03-01',\n",
       " 'updated': 'WEEKLY'}"
      ]
     },
     "execution_count": 13,
     "metadata": {},
     "output_type": "execute_result"
    }
   ],
   "source": [
    "listoflists[0]"
   ]
  },
  {
   "cell_type": "code",
   "execution_count": 14,
   "metadata": {},
   "outputs": [
    {
     "data": {
      "text/plain": [
       "['Combined Print and E-Book Fiction',\n",
       " 'Combined Print and E-Book Nonfiction',\n",
       " 'Hardcover Fiction',\n",
       " 'Hardcover Nonfiction',\n",
       " 'Trade Fiction Paperback']"
      ]
     },
     "execution_count": 14,
     "metadata": {},
     "output_type": "execute_result"
    }
   ],
   "source": [
    "aggregate(listoflists,'list_name')[:5]"
   ]
  },
  {
   "cell_type": "code",
   "execution_count": 15,
   "metadata": {},
   "outputs": [],
   "source": [
    "# alternativley we can just read the dictionary:\n",
    "lists_df = pd.DataFrame(listoflists)\n",
    "lists = lists_df['list_name_encoded'].to_list()"
   ]
  },
  {
   "cell_type": "code",
   "execution_count": 16,
   "metadata": {},
   "outputs": [
    {
     "data": {
      "text/plain": [
       "['combined-print-and-e-book-fiction',\n",
       " 'combined-print-and-e-book-nonfiction',\n",
       " 'hardcover-fiction',\n",
       " 'hardcover-nonfiction',\n",
       " 'trade-fiction-paperback']"
      ]
     },
     "execution_count": 16,
     "metadata": {},
     "output_type": "execute_result"
    }
   ],
   "source": [
    "lists[:5]"
   ]
  },
  {
   "cell_type": "markdown",
   "metadata": {},
   "source": [
    "## Get information from NYT API\n",
    "Here we retreive information from a specific list. the current hardcover bestsellers."
   ]
  },
  {
   "cell_type": "code",
   "execution_count": 17,
   "metadata": {},
   "outputs": [],
   "source": [
    "a = requests.get('https://api.nytimes.com/svc/books/v3/lists/current/hardcover-fiction.json?api-key='+NYT_API_KEY)"
   ]
  },
  {
   "cell_type": "code",
   "execution_count": 21,
   "metadata": {},
   "outputs": [],
   "source": [
    "b = json.loads(a.text)"
   ]
  },
  {
   "cell_type": "code",
   "execution_count": 22,
   "metadata": {},
   "outputs": [
    {
     "data": {
      "text/plain": [
       "{'rank': 1,\n",
       " 'rank_last_week': 4,\n",
       " 'weeks_on_list': 76,\n",
       " 'asterisk': 0,\n",
       " 'dagger': 0,\n",
       " 'primary_isbn10': '0735219095',\n",
       " 'primary_isbn13': '9780735219090',\n",
       " 'publisher': 'Putnam',\n",
       " 'description': 'In a quiet town on the North Carolina coast in 1969, a young woman who survived alone in the marsh becomes a murder suspect.',\n",
       " 'price': 0,\n",
       " 'title': 'WHERE THE CRAWDADS SING',\n",
       " 'author': 'Delia Owens',\n",
       " 'contributor': 'by Delia Owens',\n",
       " 'contributor_note': '',\n",
       " 'book_image': 'https://s1.nyt.com/du/books/images/9780735219090.jpg',\n",
       " 'book_image_width': 328,\n",
       " 'book_image_height': 495,\n",
       " 'amazon_product_url': 'https://www.amazon.com/Where-Crawdads-Sing-Delia-Owens/dp/0735219095?tag=NYTBS-20',\n",
       " 'age_group': '',\n",
       " 'book_review_link': '',\n",
       " 'first_chapter_link': '',\n",
       " 'sunday_review_link': '',\n",
       " 'article_chapter_link': '',\n",
       " 'isbns': [{'isbn10': '0735219095', 'isbn13': '9780735219090'},\n",
       "  {'isbn10': '0735219117', 'isbn13': '9780735219113'},\n",
       "  {'isbn10': '0525640371', 'isbn13': '9780525640370'},\n",
       "  {'isbn10': '0593105419', 'isbn13': '9780593105412'},\n",
       "  {'isbn10': '0593187989', 'isbn13': '9780593187982'}],\n",
       " 'buy_links': [{'name': 'Amazon',\n",
       "   'url': 'https://www.amazon.com/Where-Crawdads-Sing-Delia-Owens/dp/0735219095?tag=NYTBS-20'},\n",
       "  {'name': 'Apple Books',\n",
       "   'url': 'https://du-gae-books-dot-nyt-du-prd.appspot.com/buy?title=WHERE+THE+CRAWDADS+SING&author=Delia+Owens'},\n",
       "  {'name': 'Barnes and Noble',\n",
       "   'url': 'https://www.anrdoezrs.net/click-7990613-11819508?url=https%3A%2F%2Fwww.barnesandnoble.com%2Fw%2F%3Fean%3D9780735219090'},\n",
       "  {'name': 'Books-A-Million',\n",
       "   'url': 'https://www.anrdoezrs.net/click-7990613-35140?url=https%3A%2F%2Fwww.booksamillion.com%2Fp%2FWHERE%2BTHE%2BCRAWDADS%2BSING%2FDelia%2BOwens%2F9780735219090'},\n",
       "  {'name': 'Local Booksellers',\n",
       "   'url': 'https://www.indiebound.org/book/9780735219090?aff=NYT'}],\n",
       " 'book_uri': 'nyt://book/053b4109-4555-5aa1-9b39-cc40549bcdf0'}"
      ]
     },
     "execution_count": 22,
     "metadata": {},
     "output_type": "execute_result"
    }
   ],
   "source": [
    "# One data entry of a book. \n",
    "b['results']['books'][0]"
   ]
  },
  {
   "cell_type": "code",
   "execution_count": 23,
   "metadata": {},
   "outputs": [],
   "source": [
    "books = []\n",
    "for i in b['results']['books']:\n",
    "    books.append(i['title'])"
   ]
  },
  {
   "cell_type": "code",
   "execution_count": 29,
   "metadata": {},
   "outputs": [
    {
     "data": {
      "text/plain": [
       "['WHERE THE CRAWDADS SING',\n",
       " 'AMERICAN DIRT',\n",
       " 'GOLDEN IN DEATH',\n",
       " 'THE SILENT PATIENT',\n",
       " 'THE DUTCH HOUSE',\n",
       " 'CROOKED RIVER',\n",
       " 'THE GUARDIANS',\n",
       " 'SUCH A FUN AGE',\n",
       " 'A LONG PETAL OF THE SEA',\n",
       " 'WEATHER',\n",
       " 'THE GIVER OF STARS',\n",
       " 'DEAR EDWARD',\n",
       " 'LOST',\n",
       " 'THE INSTITUTE',\n",
       " 'WHEN YOU SEE ME']"
      ]
     },
     "execution_count": 29,
     "metadata": {},
     "output_type": "execute_result"
    }
   ],
   "source": [
    "books"
   ]
  },
  {
   "cell_type": "markdown",
   "metadata": {},
   "source": [
    "##  Getting all lists from a time period"
   ]
  },
  {
   "cell_type": "code",
   "execution_count": 30,
   "metadata": {
    "collapsed": true,
    "jupyter": {
     "outputs_hidden": true
    }
   },
   "outputs": [
    {
     "data": {
      "text/html": [
       "<div>\n",
       "<style scoped>\n",
       "    .dataframe tbody tr th:only-of-type {\n",
       "        vertical-align: middle;\n",
       "    }\n",
       "\n",
       "    .dataframe tbody tr th {\n",
       "        vertical-align: top;\n",
       "    }\n",
       "\n",
       "    .dataframe thead th {\n",
       "        text-align: right;\n",
       "    }\n",
       "</style>\n",
       "<table border=\"1\" class=\"dataframe\">\n",
       "  <thead>\n",
       "    <tr style=\"text-align: right;\">\n",
       "      <th></th>\n",
       "      <th>display_name</th>\n",
       "      <th>list_name</th>\n",
       "      <th>list_name_encoded</th>\n",
       "      <th>newest_published_date</th>\n",
       "      <th>oldest_published_date</th>\n",
       "      <th>updated</th>\n",
       "    </tr>\n",
       "  </thead>\n",
       "  <tbody>\n",
       "    <tr>\n",
       "      <th>0</th>\n",
       "      <td>Combined Print &amp; E-Book Fiction</td>\n",
       "      <td>Combined Print and E-Book Fiction</td>\n",
       "      <td>combined-print-and-e-book-fiction</td>\n",
       "      <td>2020-03-01</td>\n",
       "      <td>2011-02-13</td>\n",
       "      <td>WEEKLY</td>\n",
       "    </tr>\n",
       "    <tr>\n",
       "      <th>1</th>\n",
       "      <td>Combined Print &amp; E-Book Nonfiction</td>\n",
       "      <td>Combined Print and E-Book Nonfiction</td>\n",
       "      <td>combined-print-and-e-book-nonfiction</td>\n",
       "      <td>2020-03-01</td>\n",
       "      <td>2011-02-13</td>\n",
       "      <td>WEEKLY</td>\n",
       "    </tr>\n",
       "    <tr>\n",
       "      <th>2</th>\n",
       "      <td>Hardcover Fiction</td>\n",
       "      <td>Hardcover Fiction</td>\n",
       "      <td>hardcover-fiction</td>\n",
       "      <td>2020-03-01</td>\n",
       "      <td>2008-06-08</td>\n",
       "      <td>WEEKLY</td>\n",
       "    </tr>\n",
       "    <tr>\n",
       "      <th>3</th>\n",
       "      <td>Hardcover Nonfiction</td>\n",
       "      <td>Hardcover Nonfiction</td>\n",
       "      <td>hardcover-nonfiction</td>\n",
       "      <td>2020-03-01</td>\n",
       "      <td>2008-06-08</td>\n",
       "      <td>WEEKLY</td>\n",
       "    </tr>\n",
       "    <tr>\n",
       "      <th>4</th>\n",
       "      <td>Paperback Trade Fiction</td>\n",
       "      <td>Trade Fiction Paperback</td>\n",
       "      <td>trade-fiction-paperback</td>\n",
       "      <td>2020-03-01</td>\n",
       "      <td>2008-06-08</td>\n",
       "      <td>WEEKLY</td>\n",
       "    </tr>\n",
       "  </tbody>\n",
       "</table>\n",
       "</div>"
      ],
      "text/plain": [
       "                         display_name                             list_name  \\\n",
       "0     Combined Print & E-Book Fiction     Combined Print and E-Book Fiction   \n",
       "1  Combined Print & E-Book Nonfiction  Combined Print and E-Book Nonfiction   \n",
       "2                   Hardcover Fiction                     Hardcover Fiction   \n",
       "3                Hardcover Nonfiction                  Hardcover Nonfiction   \n",
       "4             Paperback Trade Fiction               Trade Fiction Paperback   \n",
       "\n",
       "                      list_name_encoded newest_published_date  \\\n",
       "0     combined-print-and-e-book-fiction            2020-03-01   \n",
       "1  combined-print-and-e-book-nonfiction            2020-03-01   \n",
       "2                     hardcover-fiction            2020-03-01   \n",
       "3                  hardcover-nonfiction            2020-03-01   \n",
       "4               trade-fiction-paperback            2020-03-01   \n",
       "\n",
       "  oldest_published_date updated  \n",
       "0            2011-02-13  WEEKLY  \n",
       "1            2011-02-13  WEEKLY  \n",
       "2            2008-06-08  WEEKLY  \n",
       "3            2008-06-08  WEEKLY  \n",
       "4            2008-06-08  WEEKLY  "
      ]
     },
     "execution_count": 30,
     "metadata": {},
     "output_type": "execute_result"
    }
   ],
   "source": [
    "lists_df.head()"
   ]
  },
  {
   "cell_type": "code",
   "execution_count": 31,
   "metadata": {},
   "outputs": [],
   "source": [
    "lists_df['book_list']=np.nan"
   ]
  },
  {
   "cell_type": "code",
   "execution_count": 32,
   "metadata": {
    "collapsed": true,
    "jupyter": {
     "outputs_hidden": true
    }
   },
   "outputs": [
    {
     "data": {
      "text/html": [
       "<div>\n",
       "<style scoped>\n",
       "    .dataframe tbody tr th:only-of-type {\n",
       "        vertical-align: middle;\n",
       "    }\n",
       "\n",
       "    .dataframe tbody tr th {\n",
       "        vertical-align: top;\n",
       "    }\n",
       "\n",
       "    .dataframe thead th {\n",
       "        text-align: right;\n",
       "    }\n",
       "</style>\n",
       "<table border=\"1\" class=\"dataframe\">\n",
       "  <thead>\n",
       "    <tr style=\"text-align: right;\">\n",
       "      <th></th>\n",
       "      <th>display_name</th>\n",
       "      <th>list_name</th>\n",
       "      <th>list_name_encoded</th>\n",
       "      <th>newest_published_date</th>\n",
       "      <th>oldest_published_date</th>\n",
       "      <th>updated</th>\n",
       "      <th>book_list</th>\n",
       "    </tr>\n",
       "  </thead>\n",
       "  <tbody>\n",
       "    <tr>\n",
       "      <th>0</th>\n",
       "      <td>Combined Print &amp; E-Book Fiction</td>\n",
       "      <td>Combined Print and E-Book Fiction</td>\n",
       "      <td>combined-print-and-e-book-fiction</td>\n",
       "      <td>2020-03-01</td>\n",
       "      <td>2011-02-13</td>\n",
       "      <td>WEEKLY</td>\n",
       "      <td>NaN</td>\n",
       "    </tr>\n",
       "    <tr>\n",
       "      <th>1</th>\n",
       "      <td>Combined Print &amp; E-Book Nonfiction</td>\n",
       "      <td>Combined Print and E-Book Nonfiction</td>\n",
       "      <td>combined-print-and-e-book-nonfiction</td>\n",
       "      <td>2020-03-01</td>\n",
       "      <td>2011-02-13</td>\n",
       "      <td>WEEKLY</td>\n",
       "      <td>NaN</td>\n",
       "    </tr>\n",
       "    <tr>\n",
       "      <th>2</th>\n",
       "      <td>Hardcover Fiction</td>\n",
       "      <td>Hardcover Fiction</td>\n",
       "      <td>hardcover-fiction</td>\n",
       "      <td>2020-03-01</td>\n",
       "      <td>2008-06-08</td>\n",
       "      <td>WEEKLY</td>\n",
       "      <td>NaN</td>\n",
       "    </tr>\n",
       "    <tr>\n",
       "      <th>3</th>\n",
       "      <td>Hardcover Nonfiction</td>\n",
       "      <td>Hardcover Nonfiction</td>\n",
       "      <td>hardcover-nonfiction</td>\n",
       "      <td>2020-03-01</td>\n",
       "      <td>2008-06-08</td>\n",
       "      <td>WEEKLY</td>\n",
       "      <td>NaN</td>\n",
       "    </tr>\n",
       "    <tr>\n",
       "      <th>4</th>\n",
       "      <td>Paperback Trade Fiction</td>\n",
       "      <td>Trade Fiction Paperback</td>\n",
       "      <td>trade-fiction-paperback</td>\n",
       "      <td>2020-03-01</td>\n",
       "      <td>2008-06-08</td>\n",
       "      <td>WEEKLY</td>\n",
       "      <td>NaN</td>\n",
       "    </tr>\n",
       "  </tbody>\n",
       "</table>\n",
       "</div>"
      ],
      "text/plain": [
       "                         display_name                             list_name  \\\n",
       "0     Combined Print & E-Book Fiction     Combined Print and E-Book Fiction   \n",
       "1  Combined Print & E-Book Nonfiction  Combined Print and E-Book Nonfiction   \n",
       "2                   Hardcover Fiction                     Hardcover Fiction   \n",
       "3                Hardcover Nonfiction                  Hardcover Nonfiction   \n",
       "4             Paperback Trade Fiction               Trade Fiction Paperback   \n",
       "\n",
       "                      list_name_encoded newest_published_date  \\\n",
       "0     combined-print-and-e-book-fiction            2020-03-01   \n",
       "1  combined-print-and-e-book-nonfiction            2020-03-01   \n",
       "2                     hardcover-fiction            2020-03-01   \n",
       "3                  hardcover-nonfiction            2020-03-01   \n",
       "4               trade-fiction-paperback            2020-03-01   \n",
       "\n",
       "  oldest_published_date updated  book_list  \n",
       "0            2011-02-13  WEEKLY        NaN  \n",
       "1            2011-02-13  WEEKLY        NaN  \n",
       "2            2008-06-08  WEEKLY        NaN  \n",
       "3            2008-06-08  WEEKLY        NaN  \n",
       "4            2008-06-08  WEEKLY        NaN  "
      ]
     },
     "execution_count": 32,
     "metadata": {},
     "output_type": "execute_result"
    }
   ],
   "source": [
    "lists_df.head()"
   ]
  },
  {
   "cell_type": "code",
   "execution_count": 33,
   "metadata": {
    "collapsed": true,
    "jupyter": {
     "outputs_hidden": true
    }
   },
   "outputs": [
    {
     "ename": "ValueError",
     "evalue": "Must have equal len keys and value when setting with an iterable",
     "output_type": "error",
     "traceback": [
      "\u001b[1;31m---------------------------------------------------------------------------\u001b[0m",
      "\u001b[1;31mValueError\u001b[0m                                Traceback (most recent call last)",
      "\u001b[1;32m<ipython-input-33-479af3c3a773>\u001b[0m in \u001b[0;36m<module>\u001b[1;34m\u001b[0m\n\u001b[0;32m      1\u001b[0m \u001b[1;31m# This doesn't work, I have to figure out why.\u001b[0m\u001b[1;33m\u001b[0m\u001b[1;33m\u001b[0m\u001b[0m\n\u001b[1;32m----> 2\u001b[1;33m \u001b[0mlists_df\u001b[0m\u001b[1;33m.\u001b[0m\u001b[0mloc\u001b[0m\u001b[1;33m[\u001b[0m\u001b[0mlists_df\u001b[0m\u001b[1;33m.\u001b[0m\u001b[0mlist_name_encoded\u001b[0m\u001b[1;33m==\u001b[0m\u001b[1;34m'hardcover-fiction'\u001b[0m\u001b[1;33m,\u001b[0m\u001b[1;34m'book_list'\u001b[0m\u001b[1;33m]\u001b[0m \u001b[1;33m=\u001b[0m \u001b[1;33m[\u001b[0m\u001b[1;34m'test'\u001b[0m\u001b[1;33m,\u001b[0m\u001b[1;34m\"this\"\u001b[0m\u001b[1;33m]\u001b[0m\u001b[1;33m\u001b[0m\u001b[0m\n\u001b[0m",
      "\u001b[1;32mG:\\Apps\\Anaconda3\\envs\\U4-S3-DNN\\lib\\site-packages\\pandas\\core\\indexing.py\u001b[0m in \u001b[0;36m__setitem__\u001b[1;34m(self, key, value)\u001b[0m\n\u001b[0;32m    188\u001b[0m             \u001b[0mkey\u001b[0m \u001b[1;33m=\u001b[0m \u001b[0mcom\u001b[0m\u001b[1;33m.\u001b[0m\u001b[0mapply_if_callable\u001b[0m\u001b[1;33m(\u001b[0m\u001b[0mkey\u001b[0m\u001b[1;33m,\u001b[0m \u001b[0mself\u001b[0m\u001b[1;33m.\u001b[0m\u001b[0mobj\u001b[0m\u001b[1;33m)\u001b[0m\u001b[1;33m\u001b[0m\u001b[0m\n\u001b[0;32m    189\u001b[0m         \u001b[0mindexer\u001b[0m \u001b[1;33m=\u001b[0m \u001b[0mself\u001b[0m\u001b[1;33m.\u001b[0m\u001b[0m_get_setitem_indexer\u001b[0m\u001b[1;33m(\u001b[0m\u001b[0mkey\u001b[0m\u001b[1;33m)\u001b[0m\u001b[1;33m\u001b[0m\u001b[0m\n\u001b[1;32m--> 190\u001b[1;33m         \u001b[0mself\u001b[0m\u001b[1;33m.\u001b[0m\u001b[0m_setitem_with_indexer\u001b[0m\u001b[1;33m(\u001b[0m\u001b[0mindexer\u001b[0m\u001b[1;33m,\u001b[0m \u001b[0mvalue\u001b[0m\u001b[1;33m)\u001b[0m\u001b[1;33m\u001b[0m\u001b[0m\n\u001b[0m\u001b[0;32m    191\u001b[0m \u001b[1;33m\u001b[0m\u001b[0m\n\u001b[0;32m    192\u001b[0m     \u001b[1;32mdef\u001b[0m \u001b[0m_validate_key\u001b[0m\u001b[1;33m(\u001b[0m\u001b[0mself\u001b[0m\u001b[1;33m,\u001b[0m \u001b[0mkey\u001b[0m\u001b[1;33m,\u001b[0m \u001b[0maxis\u001b[0m\u001b[1;33m)\u001b[0m\u001b[1;33m:\u001b[0m\u001b[1;33m\u001b[0m\u001b[0m\n",
      "\u001b[1;32mG:\\Apps\\Anaconda3\\envs\\U4-S3-DNN\\lib\\site-packages\\pandas\\core\\indexing.py\u001b[0m in \u001b[0;36m_setitem_with_indexer\u001b[1;34m(self, indexer, value)\u001b[0m\n\u001b[0;32m    609\u001b[0m \u001b[1;33m\u001b[0m\u001b[0m\n\u001b[0;32m    610\u001b[0m                     \u001b[1;32mif\u001b[0m \u001b[0mlen\u001b[0m\u001b[1;33m(\u001b[0m\u001b[0mlabels\u001b[0m\u001b[1;33m)\u001b[0m \u001b[1;33m!=\u001b[0m \u001b[0mlen\u001b[0m\u001b[1;33m(\u001b[0m\u001b[0mvalue\u001b[0m\u001b[1;33m)\u001b[0m\u001b[1;33m:\u001b[0m\u001b[1;33m\u001b[0m\u001b[0m\n\u001b[1;32m--> 611\u001b[1;33m                         raise ValueError('Must have equal len keys and value '\n\u001b[0m\u001b[0;32m    612\u001b[0m                                          'when setting with an iterable')\n\u001b[0;32m    613\u001b[0m \u001b[1;33m\u001b[0m\u001b[0m\n",
      "\u001b[1;31mValueError\u001b[0m: Must have equal len keys and value when setting with an iterable"
     ]
    }
   ],
   "source": [
    "# This doesn't work, I have to figure out why.\n",
    "lists_df.loc[lists_df.list_name_encoded=='hardcover-fiction','book_list'] = ['test',\"this\"]"
   ]
  },
  {
   "cell_type": "code",
   "execution_count": 34,
   "metadata": {
    "collapsed": true,
    "jupyter": {
     "outputs_hidden": true
    }
   },
   "outputs": [
    {
     "data": {
      "text/html": [
       "<div>\n",
       "<style scoped>\n",
       "    .dataframe tbody tr th:only-of-type {\n",
       "        vertical-align: middle;\n",
       "    }\n",
       "\n",
       "    .dataframe tbody tr th {\n",
       "        vertical-align: top;\n",
       "    }\n",
       "\n",
       "    .dataframe thead th {\n",
       "        text-align: right;\n",
       "    }\n",
       "</style>\n",
       "<table border=\"1\" class=\"dataframe\">\n",
       "  <thead>\n",
       "    <tr style=\"text-align: right;\">\n",
       "      <th></th>\n",
       "      <th>display_name</th>\n",
       "      <th>list_name</th>\n",
       "      <th>list_name_encoded</th>\n",
       "      <th>newest_published_date</th>\n",
       "      <th>oldest_published_date</th>\n",
       "      <th>updated</th>\n",
       "      <th>book_list</th>\n",
       "    </tr>\n",
       "  </thead>\n",
       "  <tbody>\n",
       "    <tr>\n",
       "      <th>0</th>\n",
       "      <td>Combined Print &amp; E-Book Fiction</td>\n",
       "      <td>Combined Print and E-Book Fiction</td>\n",
       "      <td>combined-print-and-e-book-fiction</td>\n",
       "      <td>2020-03-01</td>\n",
       "      <td>2011-02-13</td>\n",
       "      <td>WEEKLY</td>\n",
       "      <td>NaN</td>\n",
       "    </tr>\n",
       "    <tr>\n",
       "      <th>1</th>\n",
       "      <td>Combined Print &amp; E-Book Nonfiction</td>\n",
       "      <td>Combined Print and E-Book Nonfiction</td>\n",
       "      <td>combined-print-and-e-book-nonfiction</td>\n",
       "      <td>2020-03-01</td>\n",
       "      <td>2011-02-13</td>\n",
       "      <td>WEEKLY</td>\n",
       "      <td>NaN</td>\n",
       "    </tr>\n",
       "    <tr>\n",
       "      <th>2</th>\n",
       "      <td>Hardcover Fiction</td>\n",
       "      <td>Hardcover Fiction</td>\n",
       "      <td>hardcover-fiction</td>\n",
       "      <td>2020-03-01</td>\n",
       "      <td>2008-06-08</td>\n",
       "      <td>WEEKLY</td>\n",
       "      <td>NaN</td>\n",
       "    </tr>\n",
       "    <tr>\n",
       "      <th>3</th>\n",
       "      <td>Hardcover Nonfiction</td>\n",
       "      <td>Hardcover Nonfiction</td>\n",
       "      <td>hardcover-nonfiction</td>\n",
       "      <td>2020-03-01</td>\n",
       "      <td>2008-06-08</td>\n",
       "      <td>WEEKLY</td>\n",
       "      <td>NaN</td>\n",
       "    </tr>\n",
       "    <tr>\n",
       "      <th>4</th>\n",
       "      <td>Paperback Trade Fiction</td>\n",
       "      <td>Trade Fiction Paperback</td>\n",
       "      <td>trade-fiction-paperback</td>\n",
       "      <td>2020-03-01</td>\n",
       "      <td>2008-06-08</td>\n",
       "      <td>WEEKLY</td>\n",
       "      <td>NaN</td>\n",
       "    </tr>\n",
       "  </tbody>\n",
       "</table>\n",
       "</div>"
      ],
      "text/plain": [
       "                         display_name                             list_name  \\\n",
       "0     Combined Print & E-Book Fiction     Combined Print and E-Book Fiction   \n",
       "1  Combined Print & E-Book Nonfiction  Combined Print and E-Book Nonfiction   \n",
       "2                   Hardcover Fiction                     Hardcover Fiction   \n",
       "3                Hardcover Nonfiction                  Hardcover Nonfiction   \n",
       "4             Paperback Trade Fiction               Trade Fiction Paperback   \n",
       "\n",
       "                      list_name_encoded newest_published_date  \\\n",
       "0     combined-print-and-e-book-fiction            2020-03-01   \n",
       "1  combined-print-and-e-book-nonfiction            2020-03-01   \n",
       "2                     hardcover-fiction            2020-03-01   \n",
       "3                  hardcover-nonfiction            2020-03-01   \n",
       "4               trade-fiction-paperback            2020-03-01   \n",
       "\n",
       "  oldest_published_date updated  book_list  \n",
       "0            2011-02-13  WEEKLY        NaN  \n",
       "1            2011-02-13  WEEKLY        NaN  \n",
       "2            2008-06-08  WEEKLY        NaN  \n",
       "3            2008-06-08  WEEKLY        NaN  \n",
       "4            2008-06-08  WEEKLY        NaN  "
      ]
     },
     "execution_count": 34,
     "metadata": {},
     "output_type": "execute_result"
    }
   ],
   "source": [
    "lists_df.head()"
   ]
  },
  {
   "cell_type": "code",
   "execution_count": 35,
   "metadata": {},
   "outputs": [
    {
     "data": {
      "text/plain": [
       "['combined-print-and-e-book-fiction', 'combined-print-and-e-book-nonfiction']"
      ]
     },
     "execution_count": 35,
     "metadata": {},
     "output_type": "execute_result"
    }
   ],
   "source": [
    "lists1 = lists[:2]\n",
    "lists1"
   ]
  },
  {
   "cell_type": "code",
   "execution_count": 36,
   "metadata": {},
   "outputs": [
    {
     "name": "stdout",
     "output_type": "stream",
     "text": [
      "status: OK\n",
      "combined-print-and-e-book-fiction added\n",
      "status: OK\n",
      "combined-print-and-e-book-nonfiction added\n",
      "status: OK\n",
      "hardcover-fiction added\n",
      "status: OK\n",
      "hardcover-nonfiction added\n",
      "status: OK\n",
      "trade-fiction-paperback added\n",
      "status: OK\n",
      "mass-market-paperback added\n",
      "status: OK\n",
      "paperback-nonfiction added\n",
      "status: OK\n",
      "e-book-fiction added\n"
     ]
    },
    {
     "ename": "KeyError",
     "evalue": "'status'",
     "output_type": "error",
     "traceback": [
      "\u001b[1;31m---------------------------------------------------------------------------\u001b[0m",
      "\u001b[1;31mKeyError\u001b[0m                                  Traceback (most recent call last)",
      "\u001b[1;32m<ipython-input-36-18a4380f5075>\u001b[0m in \u001b[0;36m<module>\u001b[1;34m\u001b[0m\n\u001b[0;32m      5\u001b[0m     \u001b[0mresults\u001b[0m \u001b[1;33m=\u001b[0m \u001b[0mrequests\u001b[0m\u001b[1;33m.\u001b[0m\u001b[0mget\u001b[0m\u001b[1;33m(\u001b[0m\u001b[0mrequest_url\u001b[0m\u001b[1;33m)\u001b[0m\u001b[1;33m\u001b[0m\u001b[0m\n\u001b[0;32m      6\u001b[0m     \u001b[0mresults\u001b[0m \u001b[1;33m=\u001b[0m \u001b[0mjson\u001b[0m\u001b[1;33m.\u001b[0m\u001b[0mloads\u001b[0m\u001b[1;33m(\u001b[0m\u001b[0mresults\u001b[0m\u001b[1;33m.\u001b[0m\u001b[0mtext\u001b[0m\u001b[1;33m)\u001b[0m\u001b[1;33m\u001b[0m\u001b[0m\n\u001b[1;32m----> 7\u001b[1;33m     \u001b[0mprint\u001b[0m\u001b[1;33m(\u001b[0m\u001b[1;34m\"status:\"\u001b[0m\u001b[1;33m,\u001b[0m \u001b[0mresults\u001b[0m\u001b[1;33m[\u001b[0m\u001b[1;34m'status'\u001b[0m\u001b[1;33m]\u001b[0m\u001b[1;33m)\u001b[0m\u001b[1;33m\u001b[0m\u001b[0m\n\u001b[0m\u001b[0;32m      8\u001b[0m     \u001b[1;32mtry\u001b[0m\u001b[1;33m:\u001b[0m\u001b[1;33m\u001b[0m\u001b[0m\n\u001b[0;32m      9\u001b[0m         \u001b[0mbook_list\u001b[0m \u001b[1;33m=\u001b[0m \u001b[0maggregate\u001b[0m\u001b[1;33m(\u001b[0m\u001b[0mresults\u001b[0m\u001b[1;33m[\u001b[0m\u001b[1;34m'results'\u001b[0m\u001b[1;33m]\u001b[0m\u001b[1;33m[\u001b[0m\u001b[1;34m'books'\u001b[0m\u001b[1;33m]\u001b[0m\u001b[1;33m,\u001b[0m\u001b[1;34m'title'\u001b[0m\u001b[1;33m)\u001b[0m\u001b[1;33m\u001b[0m\u001b[0m\n",
      "\u001b[1;31mKeyError\u001b[0m: 'status'"
     ]
    }
   ],
   "source": [
    "# Retrive information \n",
    "books_dict2 = {}\n",
    "for item in lists:\n",
    "    request_url=\"https://api.nytimes.com/svc/books/v3/lists/current/\"+item+\".json?api-key=\"+NYT_API_KEY)\n",
    "    results = requests.get(request_url)\n",
    "    results = json.loads(results.text)\n",
    "    print(\"status:\", results['status'])\n",
    "    try:\n",
    "        book_list = aggregate(results['results']['books'],'title')\n",
    "        books_dict2[item]=book_list\n",
    "        print(item, \"added\")\n",
    "    except KeyError:\n",
    "        print(item, \"NOT added\")\n",
    "    time.sleep(5)"
   ]
  },
  {
   "cell_type": "code",
   "execution_count": null,
   "metadata": {},
   "outputs": [],
   "source": [
    "lists"
   ]
  },
  {
   "cell_type": "code",
   "execution_count": null,
   "metadata": {},
   "outputs": [],
   "source": [
    "books_dict['hardcover-political-books']"
   ]
  },
  {
   "cell_type": "code",
   "execution_count": null,
   "metadata": {},
   "outputs": [],
   "source": [
    "\n",
    "request_url=\"https://api.nytimes.com/svc/books/v3/lists/current/hardcover-political-books.json?api-key=76quqESu9qYqfKpEfnJou4kpY1uJ9pMV\"\n",
    "results = requests.get(request_url)\n",
    "results = json.loads(results.text)"
   ]
  },
  {
   "cell_type": "code",
   "execution_count": null,
   "metadata": {},
   "outputs": [],
   "source": [
    "aggregate(results['results']['books'],'title')"
   ]
  },
  {
   "cell_type": "code",
   "execution_count": null,
   "metadata": {},
   "outputs": [],
   "source": [
    "results['status']"
   ]
  },
  {
   "cell_type": "code",
   "execution_count": null,
   "metadata": {},
   "outputs": [],
   "source": [
    "df = pd.DataFrame(columns=['test'])\n",
    "df['test']=lists"
   ]
  },
  {
   "cell_type": "code",
   "execution_count": null,
   "metadata": {},
   "outputs": [],
   "source": [
    "df"
   ]
  },
  {
   "cell_type": "code",
   "execution_count": null,
   "metadata": {},
   "outputs": [],
   "source": [
    "Wikipedia API Information: https://www.mediawiki.org/wiki/API:Main_page\n",
    "Wikipedia page of interest: https://en.wikipedia.org/wiki/List_of_best-selling_books"
   ]
  },
  {
   "cell_type": "markdown",
   "metadata": {},
   "source": [
    "Basic Features:\n",
    "\n",
    "- Title\n",
    "- Author\n",
    "    - Gender\n",
    "    - Nationality\n",
    "    - Languages Spoken By author (at time of writing)\n",
    "- Genre\n",
    "- Publisher\n",
    "- Published year\n",
    "- Published in \n",
    "    - (country, state city?)\n",
    "- Pages\n",
    "- Sales Data\n",
    "- Original Language\n",
    "\n",
    "Possible Engineered Features:\n",
    "\n",
    "- popularity\n",
    "- Combined Rating Weighed from different sources\n",
    "- NLP\n",
    "    - publisher site information\n",
    "    - book author information\n",
    "    - Reviews (from one or several sources)\n",
    "    - Book wiki page\n",
    "    - Author wiki page\n",
    "    - Reddit information\n",
    "    - books reddit search results + sentiment analysis on results\n",
    "- does reddit exist\n",
    "- does wiki exist\n",
    "- does fandom exist\n",
    "- twitter mentions\n",
    "- google mentions \n",
    "- NN on book cover\n"
   ]
  },
  {
   "cell_type": "code",
   "execution_count": null,
   "metadata": {},
   "outputs": [],
   "source": []
  },
  {
   "cell_type": "code",
   "execution_count": null,
   "metadata": {},
   "outputs": [],
   "source": []
  }
 ],
 "metadata": {
  "kernelspec": {
   "display_name": "U4-S3-DNN (Python3)",
   "language": "python",
   "name": "u4-s3-dnn"
  },
  "language_info": {
   "codemirror_mode": {
    "name": "ipython",
    "version": 3
   },
   "file_extension": ".py",
   "mimetype": "text/x-python",
   "name": "python",
   "nbconvert_exporter": "python",
   "pygments_lexer": "ipython3",
   "version": "3.7.0"
  }
 },
 "nbformat": 4,
 "nbformat_minor": 4
}
