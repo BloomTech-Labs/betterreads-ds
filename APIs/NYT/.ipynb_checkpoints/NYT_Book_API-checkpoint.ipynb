{
 "cells": [
  {
   "cell_type": "code",
   "execution_count": 1,
   "metadata": {},
   "outputs": [],
   "source": [
    "import requests\n",
    "import json\n",
    "import pandas as pd\n",
    "import numpy as np\n",
    "import time"
   ]
  },
  {
   "cell_type": "code",
   "execution_count": 2,
   "metadata": {},
   "outputs": [],
   "source": [
    "# help(requests)"
   ]
  },
  {
   "cell_type": "code",
   "execution_count": 9,
   "metadata": {},
   "outputs": [],
   "source": [
    "import helper_functions as hf\n",
    "from helper_functions import aggregate"
   ]
  },
  {
   "cell_type": "code",
   "execution_count": 10,
   "metadata": {},
   "outputs": [
    {
     "data": {
      "text/plain": [
       "['__builtins__',\n",
       " '__cached__',\n",
       " '__doc__',\n",
       " '__file__',\n",
       " '__loader__',\n",
       " '__name__',\n",
       " '__package__',\n",
       " '__spec__',\n",
       " 'aggregate',\n",
       " 'dictlist_to_df',\n",
       " 'test']"
      ]
     },
     "execution_count": 10,
     "metadata": {},
     "output_type": "execute_result"
    }
   ],
   "source": [
    "dir(hf)"
   ]
  },
  {
   "cell_type": "code",
   "execution_count": 4,
   "metadata": {},
   "outputs": [
    {
     "name": "stdout",
     "output_type": "stream",
     "text": [
      "test\n"
     ]
    }
   ],
   "source": [
    "hf.test()"
   ]
  },
  {
   "cell_type": "markdown",
   "metadata": {},
   "source": [
    "## Example list information\n",
    "I'm trying to get bestseller information from the nyt API. They have a variety of lists, and metadata on each list that they have. The metadata is stored in the '/lists/names.json' endpoint. Lets view this metadata first (it will help with looping functionality later when we need details from each sub-list) "
   ]
  },
  {
   "cell_type": "code",
   "execution_count": 5,
   "metadata": {},
   "outputs": [],
   "source": [
    "book_lists = requests.get('https://api.nytimes.com/svc/books/v3/lists/names.json?api-key=76quqESu9qYqfKpEfnJou4kpY1uJ9pMV')"
   ]
  },
  {
   "cell_type": "code",
   "execution_count": 6,
   "metadata": {},
   "outputs": [],
   "source": [
    "listoflists = json.loads(book_lists.text)['results']"
   ]
  },
  {
   "cell_type": "code",
   "execution_count": 7,
   "metadata": {},
   "outputs": [
    {
     "data": {
      "text/plain": [
       "{'list_name': 'Combined Print and E-Book Fiction',\n",
       " 'display_name': 'Combined Print & E-Book Fiction',\n",
       " 'list_name_encoded': 'combined-print-and-e-book-fiction',\n",
       " 'oldest_published_date': '2011-02-13',\n",
       " 'newest_published_date': '2020-03-01',\n",
       " 'updated': 'WEEKLY'}"
      ]
     },
     "execution_count": 7,
     "metadata": {},
     "output_type": "execute_result"
    }
   ],
   "source": [
    "listoflists[0]"
   ]
  },
  {
   "cell_type": "code",
   "execution_count": 8,
   "metadata": {},
   "outputs": [
    {
     "ename": "NameError",
     "evalue": "name 'aggregate' is not defined",
     "output_type": "error",
     "traceback": [
      "\u001b[1;31m---------------------------------------------------------------------------\u001b[0m",
      "\u001b[1;31mNameError\u001b[0m                                 Traceback (most recent call last)",
      "\u001b[1;32m<ipython-input-8-0ac7ef628e3c>\u001b[0m in \u001b[0;36m<module>\u001b[1;34m\u001b[0m\n\u001b[1;32m----> 1\u001b[1;33m \u001b[0maggregate\u001b[0m\u001b[1;33m(\u001b[0m\u001b[0mlistoflists\u001b[0m\u001b[1;33m,\u001b[0m\u001b[1;34m'list_name'\u001b[0m\u001b[1;33m)\u001b[0m\u001b[1;33m[\u001b[0m\u001b[1;33m:\u001b[0m\u001b[1;36m5\u001b[0m\u001b[1;33m]\u001b[0m\u001b[1;33m\u001b[0m\u001b[0m\n\u001b[0m",
      "\u001b[1;31mNameError\u001b[0m: name 'aggregate' is not defined"
     ]
    }
   ],
   "source": [
    "aggregate(listoflists,'list_name')[:5]"
   ]
  },
  {
   "cell_type": "code",
   "execution_count": null,
   "metadata": {},
   "outputs": [],
   "source": [
    "# alternativley we can just read the dictionary:\n",
    "lists_df = pd.DataFrame(listoflists)\n",
    "lists = lists_df['list_name_encoded'].to_list()"
   ]
  },
  {
   "cell_type": "code",
   "execution_count": null,
   "metadata": {},
   "outputs": [],
   "source": [
    "lists"
   ]
  },
  {
   "cell_type": "markdown",
   "metadata": {},
   "source": [
    "Here we retreive information from a specific list. the current hardcover bestsellers."
   ]
  },
  {
   "cell_type": "code",
   "execution_count": null,
   "metadata": {},
   "outputs": [],
   "source": [
    "a = requests.get('https://api.nytimes.com/svc/books/v3/lists/current/hardcover-fiction.json?api-key=76quqESu9qYqfKpEfnJou4kpY1uJ9pMV')"
   ]
  },
  {
   "cell_type": "code",
   "execution_count": null,
   "metadata": {},
   "outputs": [],
   "source": [
    "dir(a)"
   ]
  },
  {
   "cell_type": "code",
   "execution_count": null,
   "metadata": {},
   "outputs": [],
   "source": [
    "b = json.loads(a.text)"
   ]
  },
  {
   "cell_type": "code",
   "execution_count": null,
   "metadata": {},
   "outputs": [],
   "source": [
    "b['results']['books'][0]"
   ]
  },
  {
   "cell_type": "code",
   "execution_count": null,
   "metadata": {},
   "outputs": [],
   "source": [
    "books = []\n",
    "for i in b['results']['books']:\n",
    "    books.append(i['title'])"
   ]
  },
  {
   "cell_type": "code",
   "execution_count": null,
   "metadata": {},
   "outputs": [],
   "source": [
    "books"
   ]
  },
  {
   "cell_type": "markdown",
   "metadata": {},
   "source": [
    "##  Getting all lists from a time period"
   ]
  },
  {
   "cell_type": "code",
   "execution_count": null,
   "metadata": {},
   "outputs": [],
   "source": [
    "lists_df.head()"
   ]
  },
  {
   "cell_type": "code",
   "execution_count": null,
   "metadata": {},
   "outputs": [],
   "source": [
    "lists_df['book_list']=np.nan"
   ]
  },
  {
   "cell_type": "code",
   "execution_count": null,
   "metadata": {},
   "outputs": [],
   "source": [
    "lists_df.head()"
   ]
  },
  {
   "cell_type": "code",
   "execution_count": null,
   "metadata": {},
   "outputs": [],
   "source": [
    "# This doesn't work, I have to figure out why.\n",
    "lists_df.loc[lists_df.list_name_encoded=='hardcover-fiction','book_list'] = ['test',\"this\"]"
   ]
  },
  {
   "cell_type": "code",
   "execution_count": null,
   "metadata": {},
   "outputs": [],
   "source": [
    "lists_df.head()"
   ]
  },
  {
   "cell_type": "code",
   "execution_count": null,
   "metadata": {},
   "outputs": [],
   "source": [
    "lists1 = lists[:2]\n",
    "lists1"
   ]
  },
  {
   "cell_type": "code",
   "execution_count": null,
   "metadata": {},
   "outputs": [],
   "source": [
    "# Retrive information \n",
    "books_dict2 = {}\n",
    "for item in lists:\n",
    "    request_url=\"https://api.nytimes.com/svc/books/v3/lists/current/\"+item+\".json?api-key=76quqESu9qYqfKpEfnJou4kpY1uJ9pMV\"\n",
    "    results = requests.get(request_url)\n",
    "    results = json.loads(results.text)\n",
    "    print(\"status:\", results['status'])\n",
    "    try:\n",
    "        book_list = aggregate(results['results']['books'],'title')\n",
    "        books_dict2[item]=book_list\n",
    "        print(item, \"added\")\n",
    "    except KeyError:\n",
    "        print(item, \"NOT added\")\n",
    "    time.sleep(1)"
   ]
  },
  {
   "cell_type": "code",
   "execution_count": null,
   "metadata": {},
   "outputs": [],
   "source": [
    "lists"
   ]
  },
  {
   "cell_type": "code",
   "execution_count": null,
   "metadata": {},
   "outputs": [],
   "source": [
    "books_dict['hardcover-political-books']"
   ]
  },
  {
   "cell_type": "code",
   "execution_count": null,
   "metadata": {},
   "outputs": [],
   "source": [
    "\n",
    "request_url=\"https://api.nytimes.com/svc/books/v3/lists/current/hardcover-political-books.json?api-key=76quqESu9qYqfKpEfnJou4kpY1uJ9pMV\"\n",
    "results = requests.get(request_url)\n",
    "results = json.loads(results.text)"
   ]
  },
  {
   "cell_type": "code",
   "execution_count": null,
   "metadata": {},
   "outputs": [],
   "source": [
    "aggregate(results['results']['books'],'title')"
   ]
  },
  {
   "cell_type": "code",
   "execution_count": null,
   "metadata": {},
   "outputs": [],
   "source": [
    "results['status']"
   ]
  },
  {
   "cell_type": "code",
   "execution_count": null,
   "metadata": {},
   "outputs": [],
   "source": [
    "df = pd.DataFrame(columns=['test'])\n",
    "df['test']=lists"
   ]
  },
  {
   "cell_type": "code",
   "execution_count": null,
   "metadata": {},
   "outputs": [],
   "source": [
    "df"
   ]
  },
  {
   "cell_type": "code",
   "execution_count": null,
   "metadata": {},
   "outputs": [],
   "source": [
    "Wikipedia API Information: https://www.mediawiki.org/wiki/API:Main_page\n",
    "Wikipedia page of interest: https://en.wikipedia.org/wiki/List_of_best-selling_books"
   ]
  },
  {
   "cell_type": "markdown",
   "metadata": {},
   "source": [
    "Basic Features:\n",
    "\n",
    "- Title\n",
    "- Author\n",
    "    - Gender\n",
    "    - Nationality\n",
    "    - Languages Spoken By author (at time of writing)\n",
    "- Genre\n",
    "- Publisher\n",
    "- Published year\n",
    "- Published in \n",
    "    - (country, state city?)\n",
    "- Pages\n",
    "- Sales Data\n",
    "- Original Language\n",
    "\n",
    "Possible Engineered Features:\n",
    "\n",
    "- popularity\n",
    "- Combined Rating Weighed from different sources\n",
    "- NLP\n",
    "    - publisher site information\n",
    "    - book author information\n",
    "    - Reviews (from one or several sources)\n",
    "    - Book wiki page\n",
    "    - Author wiki page\n",
    "    - Reddit information\n",
    "    - books reddit search results + sentiment analysis on results\n",
    "- does reddit exist\n",
    "- does wiki exist\n",
    "- does fandom exist\n",
    "- twitter mentions\n",
    "- google mentions \n",
    "- NN on book cover\n"
   ]
  },
  {
   "cell_type": "code",
   "execution_count": null,
   "metadata": {},
   "outputs": [],
   "source": []
  }
 ],
 "metadata": {
  "kernelspec": {
   "display_name": "U4-S3-DNN (Python3)",
   "language": "python",
   "name": "u4-s3-dnn"
  },
  "language_info": {
   "codemirror_mode": {
    "name": "ipython",
    "version": 3
   },
   "file_extension": ".py",
   "mimetype": "text/x-python",
   "name": "python",
   "nbconvert_exporter": "python",
   "pygments_lexer": "ipython3",
   "version": "3.7.0"
  }
 },
 "nbformat": 4,
 "nbformat_minor": 4
}
