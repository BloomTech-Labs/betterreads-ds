{
 "cells": [
  {
   "cell_type": "markdown",
   "metadata": {},
   "source": [
    "Lists have two important pieces of meta information. One the date when the lists starts, and the second is the update\n",
    "These two pieces of information combined will allow a program to obtain information from "
   ]
  },
  {
   "cell_type": "code",
   "execution_count": null,
   "metadata": {},
   "outputs": [],
   "source": [
    "{'list_name': 'Combined Print and E-Book Fiction',\n",
    " 'display_name': 'Combined Print & E-Book Fiction',\n",
    " 'list_name_encoded': 'combined-print-and-e-book-fiction',\n",
    " 'oldest_published_date': '2011-02-13',\n",
    " 'newest_published_date': '2020-03-08',\n",
    " 'updated': 'WEEKLY'}"
   ]
  }
 ],
 "metadata": {
  "kernelspec": {
   "display_name": "U4-S3-DNN (Python3)",
   "language": "python",
   "name": "u4-s3-dnn"
  },
  "language_info": {
   "codemirror_mode": {
    "name": "ipython",
    "version": 3
   },
   "file_extension": ".py",
   "mimetype": "text/x-python",
   "name": "python",
   "nbconvert_exporter": "python",
   "pygments_lexer": "ipython3",
   "version": "3.7.0"
  }
 },
 "nbformat": 4,
 "nbformat_minor": 4
}
